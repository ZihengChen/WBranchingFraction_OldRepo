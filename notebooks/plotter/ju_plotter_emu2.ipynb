{
 "cells": [
  {
   "cell_type": "code",
   "execution_count": 4,
   "metadata": {
    "collapsed": true
   },
   "outputs": [],
   "source": [
    "#%run -i '../../scripts/utility_readblt.py' 'emu'"
   ]
  },
  {
   "cell_type": "code",
   "execution_count": 1,
   "metadata": {},
   "outputs": [
    {
     "name": "stdout",
     "output_type": "stream",
     "text": [
      "Welcome to JupyROOT 6.13/02\n"
     ]
    }
   ],
   "source": [
    "from utility_common import *\n",
    "from utility_plotter import *\n",
    "import ROOT\n",
    "from IPython.display import clear_output\n",
    "## add plotting option and load plotting parameter table\n",
    "%matplotlib inline\n",
    "#%qtconsole --style monokai\n",
    "plt.style.use('classic')\n",
    "plt.rc(\"figure\",facecolor=\"w\",figsize=(6,4))\n",
    "plt.rc(\"font\",size=10)\n",
    "plt.rc(\"savefig\",dpi=300)"
   ]
  },
  {
   "cell_type": "markdown",
   "metadata": {},
   "source": [
    "# 1. Read data and MC as dataframe"
   ]
  },
  {
   "cell_type": "code",
   "execution_count": 15,
   "metadata": {},
   "outputs": [],
   "source": [
    "selection  = \"emu2\"\n",
    "nbjetcut   =  \">1\"\n",
    "\n",
    "pickledir  =  \"../../data/pickle/{}/\".format('emu')\n",
    "\n",
    "cuts = GetSelectionCut(selection) + \"& (nBJets{})\".format(nbjetcut)\n",
    "\n",
    "Data = LoadDataframe(pickledir + \"data2016\").query(cuts)\n",
    "MCzz = LoadDataframe(pickledir + \"mcdiboson\").query(cuts)\n",
    "MCdy = LoadDataframe(pickledir + \"mcdy\").query(cuts)\n",
    "MCt  = LoadDataframe(pickledir + \"mct\").query(cuts)\n",
    "MCtt = LoadDataframe(pickledir + \"mctt\").query(cuts)"
   ]
  },
  {
   "cell_type": "code",
   "execution_count": 16,
   "metadata": {},
   "outputs": [],
   "source": [
    "Data = Data.drop_duplicates(subset=['runNumber', 'evtNumber'])"
   ]
  },
  {
   "cell_type": "code",
   "execution_count": 17,
   "metadata": {},
   "outputs": [],
   "source": [
    "MCzz.eventWeight = 0.97*MCzz.eventWeight\n",
    "MCdy.eventWeight = 0.97*MCdy.eventWeight\n",
    "MCt .eventWeight = 0.97*MCt .eventWeight\n",
    "MCtt.eventWeight = 0.97*MCtt.eventWeight"
   ]
  },
  {
   "cell_type": "code",
   "execution_count": 18,
   "metadata": {},
   "outputs": [],
   "source": [
    "# signal mc is tt+tW\n",
    "MCsg = pd.concat([MCt,MCtt],ignore_index=True)\n",
    "\n",
    "MCsgf = MCsg.query('(genCategory >= 16) ') # semilep and had\n",
    "MCsg0 = MCsg.query('genCategory in [1,2,4,5,6,7,8,9]') #other lep\n",
    "MCsg1 = MCsg.query('genCategory in [3]') #ee\n",
    "MCsg2 = MCsg.query('genCategory in [10,11,12]') #etau\n",
    "MCsg3 = MCsg.query('genCategory in [13,14,15]') #mutau\n",
    "\n",
    "\n",
    "df_list = [MCzz,MCdy,MCsgf,MCsg0,MCsg1,MCsg2,MCsg3,Data]"
   ]
  },
  {
   "cell_type": "markdown",
   "metadata": {},
   "source": [
    "# 2. Plot kinematics"
   ]
  },
  {
   "cell_type": "code",
   "execution_count": 30,
   "metadata": {},
   "outputs": [
    {
     "name": "stdout",
     "output_type": "stream",
     "text": [
      "/Users/zihengchen/Documents/Analysis/workplace/plot/emu2/combined/\n"
     ]
    }
   ],
   "source": [
    "pp = pd.read_csv(\"plotparameters.csv\")\n",
    "label_list = [\"Diboson\",\"V+Jets\",r'$tt/tW \\rightarrow l + h$ (other)',\n",
    "              r'$tt/tW \\rightarrow l + l$ (other) ',\n",
    "              r'$tt/tW \\rightarrow e + \\mu$', \n",
    "              r'$tt/tW \\rightarrow e + \\tau$',\n",
    "              r'$tt/tW \\rightarrow \\mu + \\tau$',\n",
    "              'data']\n",
    "color_list = [\"#a32020\",\"#e0301e\",\"#eb8c00\",\"gold\",\"#49feec\",\"deepskyblue\",\"mediumpurple\",\"k\"]\n",
    "plotoutdir = GetPlotDir(selection, nbjetcut)\n",
    "print(plotoutdir)"
   ]
  },
  {
   "cell_type": "code",
   "execution_count": 31,
   "metadata": {},
   "outputs": [
    {
     "name": "stdout",
     "output_type": "stream",
     "text": [
      "finish all making plots\n"
     ]
    }
   ],
   "source": [
    "for index, row in pp.iterrows():\n",
    "    v,a,b,step,xl = row[\"var\"],row[\"lower\"],row[\"upper\"],row[\"step\"],row[\"xlabel\"]\n",
    "    plotter = SelectionPlotter(v,a,b,step,df_list)\n",
    "    plotter.settingPlot(xl,label_list,color_list)\n",
    "    plotter.makePlot(plotoutdir)\n",
    "    # print out process\n",
    "    print(\"making plots: {0}/{1}\".format(index,len(pp)))\n",
    "    clear_output(wait=True)\n",
    "    plt.close()\n",
    "print('finish all making plots')"
   ]
  },
  {
   "cell_type": "markdown",
   "metadata": {},
   "source": [
    "# 3. Counting"
   ]
  },
  {
   "cell_type": "code",
   "execution_count": 19,
   "metadata": {},
   "outputs": [],
   "source": [
    "ctr = SelectionCounter()"
   ]
  },
  {
   "cell_type": "code",
   "execution_count": 20,
   "metadata": {},
   "outputs": [
    {
     "name": "stdout",
     "output_type": "stream",
     "text": [
      "(nBJets>1)\n",
      "MCtt: [10, 10, 117904, 0, 0, 638, 2, 8, 0, 3, 11766, 27, 6405, 1, 63, 332, 92, 16, 3, 0, 1]\n",
      "MCtt width: [9.395845230221749, 9.756975795626639, 107296.7895445795, 0.0, 0.0, 554.8913809934054, 1.3629217514395713, 6.647220607697963, 0.0, 2.8545503866672517, 10535.884498179877, 22.21466142923804, 5740.719565972495, 1.0239040625095366, 55.27441760712303, 280.50051054207137, 82.07756150720643, 14.023197383768856, 2.9451511055231094, 0.0, 0.9432240778207778]\n",
      "MCt : [0, 0, 477, 0, 0, 5, 0, 0, 0, 1, 43, 0, 41, 0, 0, 2, 0, 0, 0, 0, 0]\n",
      "MCt width: [0.0, 0.0, 436.03973518269834, 0.0, 0.0, 4.664257885217666, 0.0, 0.0, 0.0, 0.9343631780147552, 40.96370512604713, 0.0, 36.52140059722588, 0.0, 0.0, 2.055162615776062, 0.0, 0.0, 0.0, 0.0, 0.0]\n"
     ]
    }
   ],
   "source": [
    "print(\"(nBJets{})\".format(nbjetcut))\n",
    "\n",
    "print(\"MCtt: {}\".format(ctr.countSlt_ByTauDecay(MCtt,withweights=False)) )\n",
    "print(\"MCtt width: {}\".format(ctr.countSlt_ByTauDecay(MCtt,withweights=True)) )\n",
    "\n",
    "print(\"MCt : {}\".format(ctr.countSlt_ByTauDecay(MCt, withweights=False)) )\n",
    "print(\"MCt width: {}\".format(ctr.countSlt_ByTauDecay(MCt, withweights=True)) )"
   ]
  },
  {
   "cell_type": "code",
   "execution_count": 23,
   "metadata": {},
   "outputs": [
    {
     "name": "stdout",
     "output_type": "stream",
     "text": [
      "data:4098.0\n",
      "TotalMC:4122.418421078151\n",
      "------ MC break down ------\n",
      "[   3.55531594    6.6927005    43.7171013    46.42629043 2970.40461449\n",
      "  902.66871627  148.95368215]\n"
     ]
    }
   ],
   "source": [
    "ctr.countSlt_Scaled(df_list)"
   ]
  },
  {
   "cell_type": "code",
   "execution_count": 24,
   "metadata": {},
   "outputs": [
    {
     "name": "stdout",
     "output_type": "stream",
     "text": [
      "3.56,1.77\n",
      "6.69,2.09\n",
      "112.69,11.79\n",
      "3999.49,26.87\n",
      "4098.00,64.02\n"
     ]
    }
   ],
   "source": [
    "for thisdf in [MCzz, MCdy, MCt, MCtt, Data]:\n",
    "    n = np.sum(thisdf.eventWeight)\n",
    "    nerr = np.sum(thisdf.eventWeight**2)**0.5\n",
    "    print('{:.2f},{:.2f}'.format(n,nerr))\n",
    "#mc,h = PlotHistogram(\"lepton2_pt\",0,150,5,\"lepton2_pt [GeV]\", df_list,label_list,color_list)"
   ]
  },
  {
   "cell_type": "code",
   "execution_count": 25,
   "metadata": {},
   "outputs": [
    {
     "name": "stdout",
     "output_type": "stream",
     "text": [
      "MCtt : [1811409.0, 1811532.0, 3620281.0, 57057.0, 54227.0, 111125.0, 418126.0, 418126.0, 763147.0, 642646.0, 626108.0, 2350887.0, 643368.0, 627277.0, 2353727.0, 22670017.0, 22653517.0, 4016590.0, 3923504.0, 14718933.0, 70930278.0]\n",
      "MCt  : [23105.0, 23040.0, 46342.0, 694.0, 717.0, 1420.0, 5260.0, 5260.0, 9727.0, 8199.0, 8029.0, 30054.0, 8163.0, 8006.0, 29970.0, 290101.0, 289467.0, 50864.0, 50050.0, 187515.0, 904067.0]\n"
     ]
    }
   ],
   "source": [
    "# print Generator information\n",
    "f = ROOT.TFile(\"../../data/root/2016MC.root\")\n",
    "print(\"MCtt : {}\".format(ctr.countGen_ByTauDecay(f,'ttbar_inclusive')) )\n",
    "temp = np.array(ctr.countGen_ByTauDecay(f,'t_tw'))\n",
    "temp+= np.array(ctr.countGen_ByTauDecay(f,'tbar_tw'))\n",
    "print(\"MCt  : {}\".format(list(temp)) )"
   ]
  },
  {
   "cell_type": "code",
   "execution_count": null,
   "metadata": {
    "collapsed": true
   },
   "outputs": [],
   "source": []
  }
 ],
 "metadata": {
  "kernelspec": {
   "display_name": "Python 3",
   "language": "python",
   "name": "python3"
  },
  "language_info": {
   "codemirror_mode": {
    "name": "ipython",
    "version": 3
   },
   "file_extension": ".py",
   "mimetype": "text/x-python",
   "name": "python",
   "nbconvert_exporter": "python",
   "pygments_lexer": "ipython3",
   "version": "3.6.4"
  }
 },
 "nbformat": 4,
 "nbformat_minor": 2
}
