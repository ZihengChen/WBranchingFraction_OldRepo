{
 "cells": [
  {
   "cell_type": "code",
   "execution_count": 2,
   "metadata": {},
   "outputs": [],
   "source": [
    "#%run -i '../../scripts/utility_readblt.py' 'ee'"
   ]
  },
  {
   "cell_type": "code",
   "execution_count": 3,
   "metadata": {},
   "outputs": [],
   "source": [
    "from utility_common import *\n",
    "from utility_plotter import *\n",
    "import ROOT\n",
    "from IPython.display import clear_output\n",
    "## add plotting option and load plotting parameter table\n",
    "%matplotlib inline\n",
    "#%qtconsole --style monokai\n",
    "plt.style.use('classic')\n",
    "plt.rc(\"figure\",facecolor=\"w\",figsize=(6,4))\n",
    "plt.rc(\"font\",size=10)\n",
    "plt.rc(\"savefig\",dpi=300)"
   ]
  },
  {
   "cell_type": "markdown",
   "metadata": {},
   "source": [
    "# 1. Read data and MC as dataframe"
   ]
  },
  {
   "cell_type": "code",
   "execution_count": 17,
   "metadata": {},
   "outputs": [],
   "source": [
    "selection  = \"ee\"\n",
    "nbjetcut   =  \">1\"\n",
    "\n",
    "pickledir  =  \"/home/zchen/Documents/Analysis/workplace/data/pickle/{}/\".format(selection)\n",
    "\n",
    "cuts = GetSelectionCut(selection) + \"& (nBJets{})\".format(nbjetcut)\n",
    "\n",
    "Data = LoadDataframe(pickledir + \"data2016\").query(cuts)\n",
    "MCzz = LoadDataframe(pickledir + \"mcdiboson\").query(cuts)\n",
    "MCdy = LoadDataframe(pickledir + \"mcdy\").query(cuts)\n",
    "MCt  = LoadDataframe(pickledir + \"mct\").query(cuts)\n",
    "MCtt = LoadDataframe(pickledir + \"mctt\").query(cuts)\n"
   ]
  },
  {
   "cell_type": "code",
   "execution_count": 12,
   "metadata": {},
   "outputs": [],
   "source": [
    "#MCzz.eventWeight = 0.97*0.97*MCzz.eventWeight\n",
    "#MCdy.eventWeight = 0.97*0.97*MCdy.eventWeight\n",
    "#MCt .eventWeight = 0.97*0.97*MCt .eventWeight\n",
    "#MCtt.eventWeight = 0.97*0.97*MCtt.eventWeight"
   ]
  },
  {
   "cell_type": "code",
   "execution_count": 18,
   "metadata": {},
   "outputs": [],
   "source": [
    "MCsg = pd.concat([MCt,MCtt],ignore_index=True)\n",
    "\n",
    "MCsgf = MCsg.query('(genCategory >= 16) ') # semilep and had\n",
    "MCsg0 = MCsg.query('genCategory in [2,3,4,5,6,7,8,9,13,14,15]') #other lep\n",
    "MCsg1 = MCsg.query('genCategory in [1]') #ee\n",
    "MCsg2 = MCsg.query('genCategory in [10,11,12]') #etau\n",
    "\n",
    "df_list = [MCzz,MCdy,MCsgf,MCsg0,MCsg1,MCsg2,Data]"
   ]
  },
  {
   "cell_type": "markdown",
   "metadata": {},
   "source": [
    "# 2. Plot kinematics"
   ]
  },
  {
   "cell_type": "code",
   "execution_count": 19,
   "metadata": {},
   "outputs": [
    {
     "name": "stdout",
     "output_type": "stream",
     "text": [
      "/home/zchen/Documents/Analysis/workplace/plot/ee/binned_nBJets/2b/\n"
     ]
    }
   ],
   "source": [
    "pp = pd.read_csv(\"plotparameters.csv\")\n",
    "label_list = ['Diboson','V+Jets', r'$tt/tW \\rightarrow l + had$',\n",
    "              r'$tt/tW \\rightarrow ll$ other',\n",
    "              r'$tt/tW \\rightarrow e + e$',\n",
    "              r'$tt/tW \\rightarrow e \\tau$',\n",
    "              'data']\n",
    "color_list = [\"#a32020\", \"#e0301e\", \"#eb8c00\", \"#49feec\", \"deepskyblue\", \"mediumpurple\", \"k\"]\n",
    "plotoutdir = GetPlotDir(selection, nbjetcut)\n",
    "print(plotoutdir)"
   ]
  },
  {
   "cell_type": "code",
   "execution_count": 20,
   "metadata": {},
   "outputs": [
    {
     "name": "stdout",
     "output_type": "stream",
     "text": [
      "finish all making plots\n"
     ]
    }
   ],
   "source": [
    "for index, row in pp.iterrows():\n",
    "    \n",
    "    v,a,b,step,xl = row[\"var\"], row[\"lower\"], row[\"upper\"], row[\"step\"], row[\"xlabel\"]\n",
    "    plotter = SelectionPlotter(v,a,b,step,df_list)\n",
    "    plotter.settingPlot(xl,label_list,color_list)\n",
    "    plotter.makePlot(plotoutdir)\n",
    "    \n",
    "    # print out process\n",
    "    print(\"making plots: {0}/{1}\".format(index,len(pp)))\n",
    "    clear_output(wait=True)\n",
    "    plt.close()\n",
    "\n",
    "print('finish all making plots')"
   ]
  },
  {
   "cell_type": "markdown",
   "metadata": {},
   "source": [
    "# 3. Counting"
   ]
  },
  {
   "cell_type": "code",
   "execution_count": 7,
   "metadata": {
    "collapsed": true
   },
   "outputs": [],
   "source": [
    "ctr = SelectionCounter()"
   ]
  },
  {
   "cell_type": "code",
   "execution_count": 17,
   "metadata": {},
   "outputs": [
    {
     "name": "stdout",
     "output_type": "stream",
     "text": [
      "(nBJets==1)\n",
      "MCtt: [127952, 0, 33, 702, 0, 0, 24, 0, 0, 20582, 5, 284, 4, 0, 0, 882, 0, 67, 0, 1, 2]\n",
      "MCtt width: [108878.1390048604, 0, 28.220364895303547, 574.5829959107862, 0, 0, 19.319827933817354, 0, 0, 17245.72154139811, 4.497281851190328, 232.37740465880964, 3.4291204974055285, 0, 0, 707.5223480569742, 0, 50.68964706985206, 0, 0.904909313827753, 1.2242334102541208]\n",
      "MCt : [908, 0, 0, 8, 0, 0, 0, 0, 0, 175, 0, 1, 0, 0, 0, 7, 0, 1, 0, 0, 0]\n",
      "MCt width: [789.8441195429602, 0, 0, 6.86021474508047, 0, 0, 0, 0, 0, 142.27293665251767, 0, 0.9044389540076256, 0, 0, 0, 6.011371682476996, 0, 0.8612510952115059, 0, 0, 0]\n"
     ]
    }
   ],
   "source": [
    "print(\"(nBJets{})\".format(nbjetcut))\n",
    "\n",
    "print(\"MCtt: {}\".format(ctr.countSlt_ByTauDecay(MCtt,withweights=False)) )\n",
    "print(\"MCtt width: {}\".format(ctr.countSlt_ByTauDecay(MCtt,withweights=True)) )\n",
    "\n",
    "print(\"MCt : {}\".format(ctr.countSlt_ByTauDecay(MCt, withweights=False)) )\n",
    "print(\"MCt width: {}\".format(ctr.countSlt_ByTauDecay(MCt, withweights=True)) )"
   ]
  },
  {
   "cell_type": "code",
   "execution_count": 18,
   "metadata": {},
   "outputs": [
    {
     "name": "stdout",
     "output_type": "stream",
     "text": [
      "data:28217.0\n",
      "TotalMC:28235.558486921065\n",
      "------ MC break down ------\n",
      "[  141.04290088  2306.18766275   155.09358938   129.17636781\n",
      " 21957.17130891  3546.88665719]\n"
     ]
    }
   ],
   "source": [
    "ctr.countSlt_Scaled(df_list)"
   ]
  },
  {
   "cell_type": "code",
   "execution_count": 24,
   "metadata": {},
   "outputs": [
    {
     "name": "stdout",
     "output_type": "stream",
     "text": [
      "12.04,1.83\n",
      "203.70,11.40\n",
      "210.45,15.93\n",
      "7873.63,37.03\n",
      "8318.00,91.20\n"
     ]
    }
   ],
   "source": [
    "for thisdf in [MCzz, MCdy, MCt, MCtt, Data]:\n",
    "    n = np.sum(thisdf.eventWeight)\n",
    "    nerr = np.sum(thisdf.eventWeight**2)**0.5\n",
    "    print('{:.2f},{:.2f}'.format(n,nerr))"
   ]
  },
  {
   "cell_type": "code",
   "execution_count": 20,
   "metadata": {},
   "outputs": [
    {
     "name": "stdout",
     "output_type": "stream",
     "text": [
      "MCtt : [1811409.0, 1811532.0, 3620281.0, 57057.0, 54227.0, 111125.0, 418126.0, 418126.0, 763147.0, 642646.0, 626108.0, 2350887.0, 643368.0, 627277.0, 2353727.0, 22670017.0, 22653517.0, 4016590.0, 3923504.0, 14718933.0, 70930278.0]\n",
      "MCt  : [23105.0, 23040.0, 46342.0, 694.0, 717.0, 1420.0, 5260.0, 5260.0, 9727.0, 8199.0, 8029.0, 30054.0, 8163.0, 8006.0, 29970.0, 290101.0, 289467.0, 50864.0, 50050.0, 187515.0, 904067.0]\n"
     ]
    }
   ],
   "source": [
    "# print Generator information\n",
    "f = ROOT.TFile(\"../../data/root/2016MC.root\")\n",
    "print(\"MCtt : {}\".format(ctr.countGen_ByTauDecay(f,'ttbar_inclusive')) )\n",
    "temp = np.array(ctr.countGen_ByTauDecay(f,'t_tw'))\n",
    "temp+= np.array(ctr.countGen_ByTauDecay(f,'tbar_tw'))\n",
    "print(\"MCt  : {}\".format(list(temp)) )"
   ]
  },
  {
   "cell_type": "code",
   "execution_count": null,
   "metadata": {
    "collapsed": true
   },
   "outputs": [],
   "source": []
  }
 ],
 "metadata": {
  "kernelspec": {
   "display_name": "Python 3",
   "language": "python",
   "name": "python3"
  },
  "language_info": {
   "codemirror_mode": {
    "name": "ipython",
    "version": 3
   },
   "file_extension": ".py",
   "mimetype": "text/x-python",
   "name": "python",
   "nbconvert_exporter": "python",
   "pygments_lexer": "ipython3",
   "version": "3.6.4"
  }
 },
 "nbformat": 4,
 "nbformat_minor": 2
}
