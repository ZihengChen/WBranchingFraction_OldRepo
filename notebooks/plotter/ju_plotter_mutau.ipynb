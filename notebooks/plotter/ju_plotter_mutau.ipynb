{
 "cells": [
  {
   "cell_type": "code",
   "execution_count": 2,
   "metadata": {},
   "outputs": [],
   "source": [
    "#%run -i '../../scripts/utility_readblt.py' 'mutau'"
   ]
  },
  {
   "cell_type": "code",
   "execution_count": 8,
   "metadata": {},
   "outputs": [],
   "source": [
    "from utility_common import *\n",
    "from utility_plotter import *\n",
    "import ROOT\n",
    "from IPython.display import clear_output\n",
    "## add plotting option and load plotting parameter table\n",
    "%matplotlib inline\n",
    "#%qtconsole --style monokai\n",
    "plt.style.use('classic')\n",
    "plt.rc(\"figure\",facecolor=\"w\",figsize=(6,4))\n",
    "plt.rc(\"font\",size=10)\n",
    "plt.rc(\"savefig\",dpi=300)"
   ]
  },
  {
   "cell_type": "markdown",
   "metadata": {},
   "source": [
    "# 1. Read data and MC as dataframe"
   ]
  },
  {
   "cell_type": "code",
   "execution_count": 9,
   "metadata": {},
   "outputs": [],
   "source": [
    "selection  = \"mutau\"\n",
    "pickledir  = \"/home/zchen/Documents/Analysis/workplace/data/pickle/{}/\".format(selection)"
   ]
  },
  {
   "cell_type": "code",
   "execution_count": 10,
   "metadata": {},
   "outputs": [],
   "source": [
    "def prepare_df_list(nbjetcut):\n",
    "    \n",
    "    cuts = GetSelectionCut(selection) + \"& (nBJets{})\".format(nbjetcut)\n",
    "\n",
    "    Data = LoadDataframe(pickledir + \"data2016\").query(cuts)\n",
    "    Fake = LoadDataframe(pickledir + \"data2016_inverseISO\").query(\"nBJets{}&(lepton1_pt > 30)\".format(nbjetcut))\n",
    "    MCzz = LoadDataframe(pickledir + \"mcdiboson\").query(cuts)\n",
    "    MCdy = LoadDataframe(pickledir + \"mcdy\").query(cuts)\n",
    "    MCt  = LoadDataframe(pickledir + \"mct\").query(cuts)\n",
    "    MCtt = LoadDataframe(pickledir + \"mctt\").query(cuts)\n",
    "    # signal mc is tt+tW\n",
    "    MCsg = pd.concat([MCt,MCtt],ignore_index=True)\n",
    "\n",
    "    MCsgf = MCsg.query('genCategory in [16,21] ') # semilep and had\n",
    "    MCsg0 = MCsg.query('genCategory in [1,2,3, 4,5,6,7,8,9, 10,11,12]') #other lep\n",
    "    MCsg1 = MCsg.query('genCategory in [17]') #muh\n",
    "    MCsg2 = MCsg.query('genCategory in [18,19,20]') #tauh\n",
    "    MCsg3 = MCsg.query('genCategory in [13,14,15]') #mutau\n",
    "    \n",
    "    return [Fake, MCzz,MCdy,MCsgf,MCsg0,MCsg1,MCsg2,MCsg3,Data],MCt,MCtt"
   ]
  },
  {
   "cell_type": "markdown",
   "metadata": {},
   "source": [
    "# 2. Plot kinematics"
   ]
  },
  {
   "cell_type": "code",
   "execution_count": 11,
   "metadata": {},
   "outputs": [],
   "source": [
    "pp = pd.read_csv(\"plotparameters.csv\")\n",
    "label_list = [\"Fakes\",\"Diboson\",\"V+Jets\",r'$tt/tW \\rightarrow l + h$ (other)',\n",
    "              r'$tt/tW \\rightarrow l + l$ (other) ',\n",
    "              r'$tt/tW \\rightarrow \\mu + h$', \n",
    "              r'$tt/tW \\rightarrow \\tau + h$',\n",
    "              r'$tt/tW \\rightarrow \\mu + \\tau$',\n",
    "              'data']\n",
    "color_list = [\"gray\",\"#a32020\",\"#e0301e\",\"#eb8c00\",\"gold\",\"#49feec\",\"deepskyblue\",\"mediumpurple\",\"k\"]"
   ]
  },
  {
   "cell_type": "code",
   "execution_count": 12,
   "metadata": {},
   "outputs": [
    {
     "name": "stdout",
     "output_type": "stream",
     "text": [
      "finish all making plots\n"
     ]
    }
   ],
   "source": [
    "for nbjetcut in [\"==1\",\">1\",\">=1\"]:\n",
    "    ## 1. prepare df_list\n",
    "    df_list,_,__ = prepare_df_list(nbjetcut)\n",
    "    \n",
    "    ## 2. make plots\n",
    "    plotoutdir = GetPlotDir(selection, nbjetcut)\n",
    "    print(plotoutdir)\n",
    "    for index, row in pp.iterrows():\n",
    "        v,a,b,step,xl = row[\"var\"],row[\"lower\"],row[\"upper\"],row[\"step\"],row[\"xlabel\"]\n",
    "        plotter = SelectionPlotter(v,a,b,step,df_list,adjust=[0.07/(1-0.07),1,1,1,1,1,1,1],hasFake=True)\n",
    "        plotter.settingPlot(xl,label_list,color_list)\n",
    "        plotter.makePlot(plotoutdir)\n",
    "        # print out process\n",
    "        print(\"making plots nbjet{0}: {1}/{2}\".format(nbjetcut,index,len(pp)))\n",
    "        clear_output(wait=True)\n",
    "        plt.close()\n",
    "        \n",
    "print('finish all making plots')"
   ]
  },
  {
   "cell_type": "markdown",
   "metadata": {},
   "source": [
    "# 3. Counting"
   ]
  },
  {
   "cell_type": "code",
   "execution_count": 7,
   "metadata": {},
   "outputs": [],
   "source": [
    "nbjetcut = \"==1\"\n",
    "df_list,MCt,MCtt = prepare_df_list(nbjetcut)\n",
    "ctr = SelectionCounter()"
   ]
  },
  {
   "cell_type": "code",
   "execution_count": null,
   "metadata": {},
   "outputs": [],
   "source": [
    "plt.rc(\"figure\",facecolor=\"w\",figsize=(6,4))\n",
    "\n",
    "v,a,b,step,xl = \"lepton1_pt\",0,200,5,\"lepton1_pt [GeV]\"\n",
    "plotter = SelectionPlotter(v,a,b,step,df_list,adjust=[0.0616,1,1,1,1,1,1,1],hasFake=True)\n",
    "plotter.settingPlot(xl,label_list,color_list)\n",
    "plotter.makePlot()"
   ]
  },
  {
   "cell_type": "code",
   "execution_count": 8,
   "metadata": {},
   "outputs": [
    {
     "name": "stdout",
     "output_type": "stream",
     "text": [
      "(nBJets==1)\n",
      "MCtt: [1, 620, 1215, 0, 22, 13, 2, 4647, 10, 0, 84, 5, 272, 203, 73217, 7, 55273, 3, 3576, 113, 80]\n",
      "MCtt width: [0.9693017601966858, 563.900709662179, 1123.462443148368, 0.0, 20.467483952641487, 11.433428518474102, 1.4426546096801758, 4237.633058314968, 8.99245697259903, 0.0, 78.31837746873498, 4.678441762924194, 242.2870167910587, 182.67167523689568, 67324.39151087328, 6.758560597896576, 51132.89884656748, 2.928499698638916, 3307.5886695944355, 103.87777189537883, 70.52261336054653]\n",
      "MCt : [0, 1, 8, 0, 0, 1, 0, 36, 0, 0, 0, 0, 0, 1, 539, 0, 545, 0, 35, 0, 0]\n",
      "MCt width: [0.0, 0.9550322890281676, 6.934958502650261, 0.0, 0.0, 1.1225700378417969, 0.0, 32.97304755449295, 0.0, 0.0, 0.0, 0.0, 0.0, 0.9780113101005554, 512.1993020465598, 0.0, 509.96827697660774, 0.0, 33.23749169707298, 0.0, 0.0]\n"
     ]
    }
   ],
   "source": [
    "print(\"(nBJets{})\".format(nbjetcut))\n",
    "\n",
    "print(\"MCtt: {}\".format(ctr.countSlt_ByTauDecay(MCtt,withweights=False)) )\n",
    "print(\"MCtt width: {}\".format(ctr.countSlt_ByTauDecay(MCtt,withweights=True)) )\n",
    "\n",
    "print(\"MCt : {}\".format(ctr.countSlt_ByTauDecay(MCt, withweights=False)) )\n",
    "print(\"MCt width: {}\".format(ctr.countSlt_ByTauDecay(MCt, withweights=True)) )"
   ]
  },
  {
   "cell_type": "code",
   "execution_count": 9,
   "metadata": {},
   "outputs": [
    {
     "name": "stdout",
     "output_type": "stream",
     "text": [
      "data:28078.0\n",
      "TotalMC:46207.04222070937\n",
      "------ MC break down ------\n",
      "[1.88970000e+04 8.12623609e+01 1.11286138e+03 1.48570757e+01\n",
      " 1.21786824e+03 1.04924413e+04 6.99597605e+02 1.36911543e+04]\n"
     ]
    }
   ],
   "source": [
    "ctr.countSlt_Scaled(df_list)"
   ]
  },
  {
   "cell_type": "code",
   "execution_count": 11,
   "metadata": {},
   "outputs": [
    {
     "name": "stdout",
     "output_type": "stream",
     "text": [
      "81.26,7.71\n",
      "1112.86,46.47\n",
      "1426.55,42.72\n",
      "24689.37,68.22\n",
      "28078.00,167.56\n"
     ]
    }
   ],
   "source": [
    "for thisdf in [df_list[1],df_list[2], MCt, MCtt, df_list[-1]]:\n",
    "    n = np.sum(thisdf.eventWeight)\n",
    "    nerr = np.sum(thisdf.eventWeight**2)**0.5\n",
    "    print('{:.2f},{:.2f}'.format(n,nerr))"
   ]
  },
  {
   "cell_type": "code",
   "execution_count": 12,
   "metadata": {},
   "outputs": [
    {
     "name": "stdout",
     "output_type": "stream",
     "text": [
      "MCtt : [1811409.0, 1811532.0, 3620281.0, 57057.0, 54227.0, 111125.0, 418126.0, 407605.0, 763147.0, 642646.0, 626108.0, 2350887.0, 643368.0, 627277.0, 2353727.0, 22670017.0, 22653517.0, 4016590.0, 3923504.0, 14718933.0, 70930278.0]\n",
      "MCt  : [23105.0, 23040.0, 46342.0, 694.0, 717.0, 1420.0, 5260.0, 5158.0, 9727.0, 8199.0, 8029.0, 30054.0, 8163.0, 8006.0, 29970.0, 290101.0, 289467.0, 50864.0, 50050.0, 187515.0, 904067.0]\n"
     ]
    }
   ],
   "source": [
    "# print Generator information\n",
    "f = ROOT.TFile(\"../../data/root/2016MC.root\")\n",
    "print(\"MCtt : {}\".format(ctr.countGen_ByTauDecay(f,'ttbar_inclusive')) )\n",
    "temp = np.array(ctr.countGen_ByTauDecay(f,'t_tw'))\n",
    "temp+= np.array(ctr.countGen_ByTauDecay(f,'tbar_tw'))\n",
    "print(\"MCt  : {}\".format(list(temp)) )"
   ]
  },
  {
   "cell_type": "code",
   "execution_count": 14,
   "metadata": {},
   "outputs": [
    {
     "data": {
      "image/png": "[encoded data removed]",
      "text/plain": [
       "<matplotlib.figure.Figure at 0x7f423fc479e8>"
      ]
     },
     "metadata": {},
     "output_type": "display_data"
    }
   ],
   "source": []
  },
  {
   "cell_type": "code",
   "execution_count": null,
   "metadata": {},
   "outputs": [],
   "source": []
  }
 ],
 "metadata": {
  "kernelspec": {
   "display_name": "Python 3",
   "language": "python",
   "name": "python3"
  },
  "language_info": {
   "codemirror_mode": {
    "name": "ipython",
    "version": 3
   },
   "file_extension": ".py",
   "mimetype": "text/x-python",
   "name": "python",
   "nbconvert_exporter": "python",
   "pygments_lexer": "ipython3",
   "version": "3.6.4"
  }
 },
 "nbformat": 4,
 "nbformat_minor": 2
}
