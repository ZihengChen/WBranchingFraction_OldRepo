{
 "cells": [
  {
   "cell_type": "code",
   "execution_count": 2,
   "metadata": {},
   "outputs": [],
   "source": [
    "#%run -i '../../scripts/utility_readblt.py' 'e4j'"
   ]
  },
  {
   "cell_type": "code",
   "execution_count": 3,
   "metadata": {},
   "outputs": [],
   "source": [
    "from utility_common import *\n",
    "from utility_plotter import *\n",
    "import ROOT\n",
    "from IPython.display import clear_output\n",
    "## add plotting option and load plotting parameter table\n",
    "%matplotlib inline\n",
    "#%qtconsole --style monokai\n",
    "plt.style.use('classic')\n",
    "plt.rc(\"figure\",facecolor=\"w\",figsize=(6,4))\n",
    "plt.rc(\"font\",size=10)\n",
    "plt.rc(\"savefig\",dpi=300)"
   ]
  },
  {
   "cell_type": "markdown",
   "metadata": {},
   "source": [
    "# 1. Read data and MC as dataframe"
   ]
  },
  {
   "cell_type": "code",
   "execution_count": 13,
   "metadata": {},
   "outputs": [],
   "source": [
    "selection  = \"e4j\"\n",
    "nbjetcut   =  \">1\"\n",
    "\n",
    "pickledir  =  \"/home/zchen/Documents/Analysis/workplace/data/pickle/{}/\".format(selection)\n",
    "\n",
    "cuts = GetSelectionCut(selection) + \"& (nBJets{})\".format(nbjetcut)\n",
    "\n",
    "Data = LoadDataframe(pickledir + \"data2016\").query(cuts)\n",
    "MCzz = LoadDataframe(pickledir + \"mcdiboson\").query(cuts)\n",
    "MCdy = LoadDataframe(pickledir + \"mcdy\").query(cuts)\n",
    "MCt  = LoadDataframe(pickledir + \"mct\").query(cuts)\n",
    "MCtt = LoadDataframe(pickledir + \"mctt\").query(cuts)"
   ]
  },
  {
   "cell_type": "code",
   "execution_count": 14,
   "metadata": {},
   "outputs": [],
   "source": [
    "#MCzz.eventWeight = 0.97*MCzz.eventWeight\n",
    "#MCdy.eventWeight = 0.97*MCdy.eventWeight\n",
    "#MCt .eventWeight = 0.97*MCt .eventWeight\n",
    "#MCtt.eventWeight = 0.97*MCtt.eventWeight"
   ]
  },
  {
   "cell_type": "code",
   "execution_count": 15,
   "metadata": {},
   "outputs": [],
   "source": [
    "# signal mc is tt+tW\n",
    "MCsg = pd.concat([MCt,MCtt],ignore_index=True)\n",
    "\n",
    "MCsgf = MCsg.query('genCategory in [17,18,19,20,21] ') # semilep and had\n",
    "MCsg0 = MCsg.query('genCategory in [1,2,3,4,5,6,7,8,9,13,14,15]') #other lep\n",
    "MCsg1 = MCsg.query('genCategory in [16]') #e+j\n",
    "MCsg2 = MCsg.query('genCategory in [10,11,12]') #etau\n",
    "\n",
    "df_list = [MCzz,MCdy,MCsgf,MCsg0,MCsg1,MCsg2,Data]"
   ]
  },
  {
   "cell_type": "markdown",
   "metadata": {},
   "source": [
    "# 2. Plot kinematics"
   ]
  },
  {
   "cell_type": "code",
   "execution_count": 16,
   "metadata": {},
   "outputs": [
    {
     "name": "stdout",
     "output_type": "stream",
     "text": [
      "/home/zchen/Documents/Analysis/workplace/plot/e4j/binned_nBJets/2b/\n"
     ]
    }
   ],
   "source": [
    "pp = pd.read_csv(\"plotparameters4j.csv\")\n",
    "\n",
    "label_list = ['Diboson','V+Jets',\n",
    "              r'$tt/tW \\rightarrow lh$ other',\n",
    "              r'$tt/tW \\rightarrow ll$ other',\n",
    "              r'$tt/tW \\rightarrow e + h$',\n",
    "              r'$tt/tW \\rightarrow e + \\tau$',\n",
    "              'data']\n",
    "color_list = [\"#a32020\", \"#e0301e\", \"#eb8c00\", \"#49feec\", \"deepskyblue\", \"mediumpurple\", \"k\"]\n",
    "plotoutdir = GetPlotDir(selection, nbjetcut)\n",
    "print(plotoutdir)"
   ]
  },
  {
   "cell_type": "code",
   "execution_count": 17,
   "metadata": {},
   "outputs": [
    {
     "name": "stdout",
     "output_type": "stream",
     "text": [
      "finish all making plots\n"
     ]
    }
   ],
   "source": [
    "pp = pd.read_csv(\"plotparameters4j.csv\")\n",
    "for index, row in pp.iterrows():\n",
    "    v,a,b,step,xl = row[\"var\"],row[\"lower\"],row[\"upper\"],row[\"step\"],row[\"xlabel\"]\n",
    "    plotter = SelectionPlotter(v,a,b,step,df_list)\n",
    "    plotter.settingPlot(xl,label_list,color_list)\n",
    "    plotter.makePlot(plotoutdir)\n",
    "    # print out process\n",
    "    print(\"making plots: {0}/{1}\".format(index,len(pp)))\n",
    "    clear_output(wait=True)\n",
    "    plt.close()\n",
    "print('finish all making plots')"
   ]
  },
  {
   "cell_type": "markdown",
   "metadata": {},
   "source": [
    "# 3. Counting"
   ]
  },
  {
   "cell_type": "code",
   "execution_count": 19,
   "metadata": {
    "collapsed": true
   },
   "outputs": [],
   "source": [
    "ctr = SelectionCounter()"
   ]
  },
  {
   "cell_type": "code",
   "execution_count": 20,
   "metadata": {},
   "outputs": [
    {
     "name": "stdout",
     "output_type": "stream",
     "text": [
      "(nBJets>1)\n",
      "MCtt: [26030, 0, 11236, 296, 0, 177, 1513, 2, 10, 6559, 3070, 25242, 638, 0, 10, 606677, 60, 33999, 16, 364, 435]\n",
      "MCtt width: [23275.689665993268, 0, 10074.26712880817, 261.4243763849931, 0, 159.46166704053059, 1319.6434342201835, 1.7897827166318891, 8.937795122265815, 5871.988741451032, 2745.770671793665, 22602.927742055563, 568.1852539879037, 0, 9.348271901607513, 547894.807458238, 51.32026452863589, 30212.035316034, 12.691549129374325, 322.43908224282785, 370.33017330126603]\n",
      "MCt : [80, 0, 41, 0, 0, 0, 8, 0, 0, 17, 16, 87, 3, 0, 0, 2422, 1, 136, 0, 2, 1]\n",
      "MCt width: [74.67986882459371, 0, 37.328172330837695, 0, 0, 0, 7.5840733933448785, 0, 0, 16.50112632393837, 14.67830893278122, 79.82229876480999, 2.4481548166275022, 0, 0, 2224.289410543137, 1.001450675725937, 124.58388739004732, 0, 2.0238260120153426, 0.000215124940732494]\n"
     ]
    }
   ],
   "source": [
    "print(\"(nBJets{})\".format(nbjetcut))\n",
    "\n",
    "print(\"MCtt: {}\".format(ctr.countSlt_ByTauDecay(MCtt,withweights=False)) )\n",
    "print(\"MCtt width: {}\".format(ctr.countSlt_ByTauDecay(MCtt,withweights=True)) )\n",
    "\n",
    "print(\"MCt : {}\".format(ctr.countSlt_ByTauDecay(MCt, withweights=False)) )\n",
    "print(\"MCt width: {}\".format(ctr.countSlt_ByTauDecay(MCt, withweights=True)) )"
   ]
  },
  {
   "cell_type": "code",
   "execution_count": 21,
   "metadata": {},
   "outputs": [
    {
     "name": "stdout",
     "output_type": "stream",
     "text": [
      "data:128975.0\n",
      "TotalMC:130316.94269547907\n",
      "------ MC break down ------\n",
      "[5.09427863e+01 2.76287368e+03 6.11943074e+03 7.01768588e+03\n",
      " 1.08219786e+05 6.14622390e+03]\n"
     ]
    }
   ],
   "source": [
    "ctr.countSlt_Scaled(df_list)"
   ]
  },
  {
   "cell_type": "code",
   "execution_count": 22,
   "metadata": {},
   "outputs": [
    {
     "name": "stdout",
     "output_type": "stream",
     "text": [
      "50.94,2.50\n",
      "2762.87,70.87\n",
      "3357.10,65.18\n",
      "124146.03,151.27\n",
      "128975.00,359.13\n"
     ]
    }
   ],
   "source": [
    "for thisdf in [MCzz, MCdy, MCt, MCtt, Data]:\n",
    "    n = np.sum(thisdf.eventWeight)\n",
    "    nerr = np.sum(thisdf.eventWeight**2)**0.5\n",
    "    print('{:.2f},{:.2f}'.format(n,nerr))"
   ]
  },
  {
   "cell_type": "code",
   "execution_count": 21,
   "metadata": {},
   "outputs": [
    {
     "name": "stdout",
     "output_type": "stream",
     "text": [
      "MCtt : [1811409.0, 1811532.0, 3620281.0, 57057.0, 54227.0, 111125.0, 418126.0, 418126.0, 763147.0, 642646.0, 626108.0, 2350887.0, 643368.0, 627277.0, 2353727.0, 22670017.0, 22653517.0, 4016590.0, 3923504.0, 14718933.0, 70930278.0]\n",
      "MCt  : [23105.0, 23040.0, 46342.0, 694.0, 717.0, 1420.0, 5260.0, 5260.0, 9727.0, 8199.0, 8029.0, 30054.0, 8163.0, 8006.0, 29970.0, 290101.0, 289467.0, 50864.0, 50050.0, 187515.0, 904067.0]\n"
     ]
    }
   ],
   "source": [
    "# print Generator information\n",
    "f = ROOT.TFile(\"../../data/root/2016MC.root\")\n",
    "print(\"MCtt : {}\".format(ctr.countGen_ByTauDecay(f,'ttbar_inclusive')) )\n",
    "temp = np.array(ctr.countGen_ByTauDecay(f,'t_tw'))\n",
    "temp+= np.array(ctr.countGen_ByTauDecay(f,'tbar_tw'))\n",
    "print(\"MCt  : {}\".format(list(temp)) )"
   ]
  },
  {
   "cell_type": "code",
   "execution_count": null,
   "metadata": {
    "collapsed": true
   },
   "outputs": [],
   "source": []
  }
 ],
 "metadata": {
  "kernelspec": {
   "display_name": "Python 3",
   "language": "python",
   "name": "python3"
  },
  "language_info": {
   "codemirror_mode": {
    "name": "ipython",
    "version": 3
   },
   "file_extension": ".py",
   "mimetype": "text/x-python",
   "name": "python",
   "nbconvert_exporter": "python",
   "pygments_lexer": "ipython3",
   "version": "3.6.4"
  }
 },
 "nbformat": 4,
 "nbformat_minor": 2
}
