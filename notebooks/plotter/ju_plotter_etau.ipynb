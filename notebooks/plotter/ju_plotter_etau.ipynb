{
 "cells": [
  {
   "cell_type": "code",
   "execution_count": 1,
   "metadata": {},
   "outputs": [
    {
     "name": "stdout",
     "output_type": "stream",
     "text": [
      "Welcome to JupyROOT 6.13/02\n"
     ]
    },
    {
     "name": "stderr",
     "output_type": "stream",
     "text": [
      "etau selection *** electron_2016B: 100%|██████████████████████| 5.11k/5.11k [00:02<00:00, 2.05kit/s]\n",
      "etau selection *** electron_2016C: 100%|██████████████████████| 1.63k/1.63k [00:00<00:00, 2.06kit/s]\n",
      "etau selection *** electron_2016D: 100%|██████████████████████| 3.43k/3.43k [00:01<00:00, 2.08kit/s]\n",
      "etau selection *** electron_2016E: 100%|██████████████████████| 2.82k/2.82k [00:01<00:00, 2.07kit/s]\n",
      "etau selection *** electron_2016F: 100%|██████████████████████| 2.12k/2.12k [00:01<00:00, 2.08kit/s]\n",
      "etau selection *** electron_2016G: 100%|██████████████████████| 6.09k/6.09k [00:03<00:00, 1.97kit/s]\n",
      "etau selection *** electron_2016H: 100%|██████████████████████| 6.76k/6.76k [00:03<00:00, 2.03kit/s]\n",
      "etau selection *** ww: 100%|████████████████████████████████████| 39.0/39.0 [00:00<00:00, 1.89kit/s]\n",
      "etau selection *** wz_2l2q: 100%|█████████████████████████████████| 658/658 [00:00<00:00, 2.01kit/s]\n",
      "etau selection *** wz_3lnu: 100%|█████████████████████████████████| 42.0/42.0 [00:00<00:00, 999it/s]\n",
      "etau selection *** zz_2l2nu: 100%|██████████████████████████████| 76.0/76.0 [00:00<00:00, 1.27kit/s]\n",
      "etau selection *** zz_2l2q: 100%|█████████████████████████████| 1.89k/1.89k [00:01<00:00, 1.75kit/s]\n",
      "etau selection *** zz_4l: 100%|███████████████████████████████████| 352/352 [00:00<00:00, 1.77kit/s]\n",
      "etau selection *** zjets_m-10to50: 100%|██████████████████████████| 1.00/1.00 [00:00<00:00, 829it/s]\n",
      "etau selection *** zjets_m-50: 100%|██████████████████████████████| 136/136 [00:00<00:00, 21.8kit/s]\n",
      "etau selection *** z1jets_m-10to50: 100%|█████████████████████████| 1.00/1.00 [00:00<00:00, 592it/s]\n",
      "etau selection *** z2jets_m-10to50: 100%|█████████████████████████| 2.00/2.00 [00:00<00:00, 841it/s]\n",
      "etau selection *** z3jets_m-10to50: 100%|███████████████████████| 11.0/11.0 [00:00<00:00, 1.30kit/s]\n",
      "etau selection *** z4jets_m-10to50: 100%|███████████████████████| 11.0/11.0 [00:00<00:00, 1.34kit/s]\n",
      "etau selection *** z1jets_m-50: 100%|███████████████████████████| 42.0/42.0 [00:00<00:00, 1.64kit/s]\n",
      "etau selection *** z2jets_m-50: 100%|█████████████████████████████| 242/242 [00:00<00:00, 1.82kit/s]\n",
      "etau selection *** z3jets_m-50: 100%|█████████████████████████████| 210/210 [00:00<00:00, 1.78kit/s]\n",
      "etau selection *** z4jets_m-50: 100%|█████████████████████████████| 382/382 [00:00<00:00, 1.81kit/s]\n",
      "etau selection *** w1jets: 100%|████████████████████████████████| 3.00/3.00 [00:00<00:00, 1.02kit/s]\n",
      "etau selection *** w2jets: 100%|████████████████████████████████| 13.0/13.0 [00:00<00:00, 1.42kit/s]\n",
      "etau selection *** w3jets: 100%|████████████████████████████████| 83.0/83.0 [00:00<00:00, 1.76kit/s]\n",
      "etau selection *** w4jets: 100%|██████████████████████████████████| 167/167 [00:00<00:00, 1.99kit/s]\n",
      "etau selection *** t_tw: 100%|████████████████████████████████████| 532/532 [00:00<00:00, 2.03kit/s]\n",
      "etau selection *** tbar_tw: 100%|█████████████████████████████████| 511/511 [00:00<00:00, 2.04kit/s]\n",
      "etau selection *** ttbar_inclusive: 100%|███████████████████████| 139k/139k [01:08<00:00, 2.03kit/s]\n"
     ]
    }
   ],
   "source": [
    "%run -i '../../scripts/utility_readblt.py' 'etau'"
   ]
  },
  {
   "cell_type": "code",
   "execution_count": 2,
   "metadata": {},
   "outputs": [],
   "source": [
    "from utility_common import *\n",
    "from utility_plotter import *\n",
    "import ROOT\n",
    "from IPython.display import clear_output\n",
    "## add plotting option and load plotting parameter table\n",
    "%matplotlib inline\n",
    "#%qtconsole --style monokai\n",
    "plt.style.use('classic')\n",
    "plt.rc(\"figure\",facecolor=\"w\",figsize=(6,4))\n",
    "plt.rc(\"font\",size=10)\n",
    "plt.rc(\"savefig\",dpi=300)"
   ]
  },
  {
   "cell_type": "markdown",
   "metadata": {},
   "source": [
    "# 1. Read data and MC as dataframe"
   ]
  },
  {
   "cell_type": "code",
   "execution_count": 3,
   "metadata": {},
   "outputs": [],
   "source": [
    "selection  = \"etau\"\n",
    "pickledir  = \"/home/zchen/Documents/Analysis/workplace/data/pickle/{}/\".format(selection)"
   ]
  },
  {
   "cell_type": "code",
   "execution_count": 4,
   "metadata": {},
   "outputs": [],
   "source": [
    "def prepare_df_list(nbjetcut):\n",
    "    cuts = GetSelectionCut(selection) + \"& (nBJets{})\".format(nbjetcut)\n",
    "\n",
    "    Data = LoadDataframe(pickledir + \"data2016\").query(cuts)\n",
    "    MCzz = LoadDataframe(pickledir + \"mcdiboson\").query(cuts)\n",
    "    MCdy = LoadDataframe(pickledir + \"mcdy\").query(cuts)\n",
    "    MCt  = LoadDataframe(pickledir + \"mct\").query(cuts)\n",
    "    MCtt = LoadDataframe(pickledir + \"mctt\").query(cuts)\n",
    "\n",
    "    # signal mc is tt+tW\n",
    "    MCsg = pd.concat([MCt,MCtt],ignore_index=True)\n",
    "\n",
    "    MCsgf = MCsg.query('genCategory in [17,21] ') # semilep and had\n",
    "    MCsg0 = MCsg.query('genCategory in [1,2,3, 4,5,6,7,8,9, 13,14,15]') #other lep\n",
    "    MCsg1 = MCsg.query('genCategory in [16]') #eh\n",
    "    MCsg2 = MCsg.query('genCategory in [18,19,20]') #tauh\n",
    "    MCsg3 = MCsg.query('genCategory in [10,11,12]') #etau\n",
    "\n",
    "    return [MCzz,MCdy,MCsgf,MCsg0,MCsg1,MCsg2,MCsg3,Data],MCt,MCtt"
   ]
  },
  {
   "cell_type": "markdown",
   "metadata": {},
   "source": [
    "# 2. Plot kinematics"
   ]
  },
  {
   "cell_type": "code",
   "execution_count": 5,
   "metadata": {},
   "outputs": [],
   "source": [
    "pp = pd.read_csv(\"plotparameters.csv\")\n",
    "label_list = [\"Diboson\",\"V+Jets\",r'$tt/tW \\rightarrow l + h$ (other)',\n",
    "              r'$tt/tW \\rightarrow l + l$ (other) ',\n",
    "              r'$tt/tW \\rightarrow \\mu + h$', \n",
    "              r'$tt/tW \\rightarrow \\tau + h$',\n",
    "              r'$tt/tW \\rightarrow \\mu + \\tau$',\n",
    "              'data']\n",
    "color_list = [\"#a32020\",\"#e0301e\",\"#eb8c00\",\"gold\",\"#49feec\",\"deepskyblue\",\"mediumpurple\",\"k\"]"
   ]
  },
  {
   "cell_type": "code",
   "execution_count": 6,
   "metadata": {},
   "outputs": [
    {
     "name": "stdout",
     "output_type": "stream",
     "text": [
      "finish all making plots\n"
     ]
    }
   ],
   "source": [
    "for nbjetcut in [\"==1\",\">1\",\">=1\"]:\n",
    "    df_list,_,__ = prepare_df_list(nbjetcut)\n",
    "    plotoutdir = GetPlotDir(selection, nbjetcut)\n",
    "    for index, row in pp.iterrows():\n",
    "        v,a,b,step,xl = row[\"var\"],row[\"lower\"],row[\"upper\"],row[\"step\"],row[\"xlabel\"]\n",
    "        \n",
    "        plotter = SelectionPlotter(v,a,b,step,df_list)\n",
    "        plotter.settingPlot(xl,label_list,color_list)\n",
    "        plotter.makePlot(plotoutdir)\n",
    "\n",
    "        print(\"making plots nbjet{0}: {1}/{2}\".format(nbjetcut,index,len(pp)))\n",
    "        clear_output(wait=True)\n",
    "        plt.close()\n",
    "        \n",
    "print('finish all making plots')"
   ]
  },
  {
   "cell_type": "markdown",
   "metadata": {},
   "source": [
    "# 3. Counting"
   ]
  },
  {
   "cell_type": "code",
   "execution_count": 21,
   "metadata": {
    "collapsed": true
   },
   "outputs": [],
   "source": [
    "nbjetcut = \"==1\"\n",
    "df_list,MCt,MCtt = prepare_df_list(nbjetcut)\n",
    "ctr = SelectionCounter()"
   ]
  },
  {
   "cell_type": "code",
   "execution_count": null,
   "metadata": {},
   "outputs": [],
   "source": [
    "plt.rc(\"figure\",facecolor=\"w\",figsize=(6,4))\n",
    "\n",
    "v,a,b,step,xl = \"lepton2_pt\",0,200,5,\"lepton2_pt\"\n",
    "plotter = SelectionPlotter(v,a,b,step,df_list)\n",
    "plotter.settingPlot(xl,label_list,color_list,plotWithoutXsErr=False)\n",
    "plotter.makePlot()"
   ]
  },
  {
   "cell_type": "code",
   "execution_count": 22,
   "metadata": {},
   "outputs": [
    {
     "name": "stdout",
     "output_type": "stream",
     "text": [
      "(nBJets>1)\n",
      "MCtt: [158, 0, 60, 1, 0, 0, 805, 0, 7, 33, 24, 15504, 1, 0, 0, 9210, 1, 480, 0, 11, 3]\n",
      "MCtt width: [130.57697759844362, 0, 50.05026440686545, 0.8895741188526154, 0, 0, 684.7226031344867, 0, 6.2043808948993675, 27.422577847503124, 21.551411371231076, 13522.534619865999, 0.9373763430118561, 0, 0, 8049.773023235248, 0.36285650372505185, 417.15499688389707, 0, 8.934245167151092, 2.72306426346302]\n",
      "MCt : [0, 0, 0, 1, 0, 0, 4, 0, 0, 0, 0, 70, 0, 0, 0, 42, 0, 1, 0, 0, 0]\n",
      "MCt width: [0, 0, 0, 0.45709801465272903, 0, 0, 2.788743698000908, 0, 0, 0, 0, 60.995141455680134, 0, 0, 0, 36.88875360801816, 0, 0.9714282989501952, 0, 0, 0]\n"
     ]
    }
   ],
   "source": [
    "print(\"(nBJets{})\".format(nbjetcut))\n",
    "\n",
    "print(\"MCtt: {}\".format(ctr.countSlt_ByTauDecay(MCtt,withweights=False)) )\n",
    "print(\"MCtt width: {}\".format(ctr.countSlt_ByTauDecay(MCtt,withweights=True)) )\n",
    "\n",
    "print(\"MCt : {}\".format(ctr.countSlt_ByTauDecay(MCt, withweights=False)) )\n",
    "print(\"MCt width: {}\".format(ctr.countSlt_ByTauDecay(MCt, withweights=True)) )"
   ]
  },
  {
   "cell_type": "code",
   "execution_count": 23,
   "metadata": {},
   "outputs": [
    {
     "name": "stdout",
     "output_type": "stream",
     "text": [
      "data:4532.0\n",
      "TotalMC:4600.326357177784\n",
      "------ MC break down ------\n",
      "[2.68369881e+00 5.79998993e+01 5.93259084e-01 1.72123739e+02\n",
      " 1.59544842e+03 8.31785508e+01 2.68829879e+03]\n"
     ]
    }
   ],
   "source": [
    "ctr.countSlt_Scaled(df_list)"
   ]
  },
  {
   "cell_type": "code",
   "execution_count": 24,
   "metadata": {},
   "outputs": [
    {
     "name": "stdout",
     "output_type": "stream",
     "text": [
      "2.68,1.03\n",
      "58.00,7.87\n",
      "132.60,12.61\n",
      "4407.04,27.91\n",
      "4532.00,67.32\n"
     ]
    }
   ],
   "source": [
    "for thisdf in [df_list[0],df_list[1], MCt, MCtt, df_list[-1]]:\n",
    "    n = np.sum(thisdf.eventWeight)\n",
    "    nerr = np.sum(thisdf.eventWeight**2)**0.5\n",
    "    print('{:.2f},{:.2f}'.format(n,nerr))"
   ]
  },
  {
   "cell_type": "code",
   "execution_count": 14,
   "metadata": {},
   "outputs": [
    {
     "name": "stdout",
     "output_type": "stream",
     "text": [
      "MCtt : [1811409.0, 1811532.0, 3620281.0, 57057.0, 54227.0, 111125.0, 418126.0, 418126.0, 763147.0, 642646.0, 626108.0, 2350887.0, 643368.0, 627277.0, 2353727.0, 22670017.0, 22653517.0, 4016590.0, 3923504.0, 14718933.0, 70930278.0]\n",
      "MCt  : [23105.0, 23040.0, 46342.0, 694.0, 717.0, 1420.0, 5260.0, 5260.0, 9727.0, 8199.0, 8029.0, 30054.0, 8163.0, 8006.0, 29970.0, 290101.0, 289467.0, 50864.0, 50050.0, 187515.0, 904067.0]\n"
     ]
    }
   ],
   "source": [
    "# print Generator information\n",
    "f = ROOT.TFile(\"../../data/root/2016MC.root\")\n",
    "print(\"MCtt : {}\".format(ctr.countGen_ByTauDecay(f,'ttbar_inclusive')) )\n",
    "temp = np.array(ctr.countGen_ByTauDecay(f,'t_tw'))\n",
    "temp+= np.array(ctr.countGen_ByTauDecay(f,'tbar_tw'))\n",
    "print(\"MCt  : {}\".format(list(temp)) )"
   ]
  },
  {
   "cell_type": "code",
   "execution_count": 9,
   "metadata": {
    "collapsed": true
   },
   "outputs": [],
   "source": [
    "f = ROOT.TFile(\"../../data/root/2016MC.root\")"
   ]
  },
  {
   "cell_type": "code",
   "execution_count": 40,
   "metadata": {
    "collapsed": true
   },
   "outputs": [],
   "source": [
    "t = f.Get('mutau/bltTree_ww')"
   ]
  },
  {
   "cell_type": "code",
   "execution_count": 41,
   "metadata": {},
   "outputs": [
    {
     "data": {
      "text/plain": [
       "<ROOT.TTree object (\"bltTree_ww\") at 0x7f8208210ff0>"
      ]
     },
     "execution_count": 41,
     "metadata": {},
     "output_type": "execute_result"
    }
   ],
   "source": [
    "t "
   ]
  },
  {
   "cell_type": "code",
   "execution_count": null,
   "metadata": {
    "collapsed": true
   },
   "outputs": [],
   "source": []
  }
 ],
 "metadata": {
  "kernelspec": {
   "display_name": "Python 3",
   "language": "python",
   "name": "python3"
  },
  "language_info": {
   "codemirror_mode": {
    "name": "ipython",
    "version": 3
   },
   "file_extension": ".py",
   "mimetype": "text/x-python",
   "name": "python",
   "nbconvert_exporter": "python",
   "pygments_lexer": "ipython3",
   "version": "3.6.4"
  }
 },
 "nbformat": 4,
 "nbformat_minor": 2
}
