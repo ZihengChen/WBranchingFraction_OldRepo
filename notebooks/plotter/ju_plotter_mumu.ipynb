{
 "cells": [
  {
   "cell_type": "code",
   "execution_count": 1,
   "metadata": {},
   "outputs": [
    {
     "name": "stdout",
     "output_type": "stream",
     "text": [
      "Welcome to JupyROOT 6.13/02\n"
     ]
    },
    {
     "name": "stderr",
     "output_type": "stream",
     "text": [
      "mumu selection *** muon_2016B: 100%|██████████████████████████| 28.5k/28.5k [00:13<00:00, 2.05kit/s]\n",
      "mumu selection *** muon_2016C: 100%|██████████████████████████| 11.9k/11.9k [00:05<00:00, 2.02kit/s]\n",
      "mumu selection *** muon_2016D: 100%|██████████████████████████| 19.9k/19.9k [00:09<00:00, 2.10kit/s]\n",
      "mumu selection *** muon_2016E: 100%|██████████████████████████| 17.6k/17.6k [00:08<00:00, 2.07kit/s]\n",
      "mumu selection *** muon_2016F: 100%|██████████████████████████| 14.0k/14.0k [00:06<00:00, 2.13kit/s]\n",
      "mumu selection *** muon_2016G: 100%|██████████████████████████| 38.2k/38.2k [00:17<00:00, 2.13kit/s]\n",
      "mumu selection *** muon_2016H: 100%|██████████████████████████| 43.8k/43.8k [00:20<00:00, 2.10kit/s]\n",
      "mumu selection *** ww: 100%|██████████████████████████████████████| 255/255 [00:00<00:00, 2.09kit/s]\n",
      "mumu selection *** wz_2l2q: 100%|█████████████████████████████| 33.1k/33.1k [00:15<00:00, 2.10kit/s]\n",
      "mumu selection *** wz_3lnu: 100%|█████████████████████████████████| 373/373 [00:00<00:00, 2.13kit/s]\n",
      "mumu selection *** zz_2l2nu: 100%|████████████████████████████| 5.47k/5.47k [00:02<00:00, 2.12kit/s]\n",
      "mumu selection *** zz_2l2q: 100%|███████████████████████████████| 122k/122k [00:54<00:00, 2.23kit/s]\n",
      "mumu selection *** zz_4l: 100%|███████████████████████████████| 4.07k/4.07k [00:01<00:00, 2.30kit/s]\n",
      "mumu selection *** zjets_m-10to50: 100%|██████████████████████████| 172/172 [00:00<00:00, 31.3kit/s]\n",
      "mumu selection *** zjets_m-50: 100%|██████████████████████████| 11.7k/11.7k [00:00<00:00, 35.6kit/s]\n",
      "mumu selection *** z1jets_m-10to50: 100%|█████████████████████████| 201/201 [00:00<00:00, 2.26kit/s]\n",
      "mumu selection *** z2jets_m-10to50: 100%|█████████████████████| 1.31k/1.31k [00:00<00:00, 2.28kit/s]\n",
      "mumu selection *** z3jets_m-10to50: 100%|█████████████████████| 1.18k/1.18k [00:00<00:00, 2.26kit/s]\n",
      "mumu selection *** z4jets_m-10to50: 100%|█████████████████████| 1.46k/1.46k [00:00<00:00, 2.27kit/s]\n",
      "mumu selection *** z1jets_m-50: 100%|█████████████████████████| 3.56k/3.56k [00:01<00:00, 2.31kit/s]\n",
      "mumu selection *** z2jets_m-50: 100%|█████████████████████████| 24.3k/24.3k [00:11<00:00, 2.11kit/s]\n",
      "mumu selection *** z3jets_m-50: 100%|█████████████████████████| 18.6k/18.6k [00:08<00:00, 2.15kit/s]\n",
      "mumu selection *** z4jets_m-50: 100%|█████████████████████████| 26.1k/26.1k [00:12<00:00, 2.14kit/s]\n",
      "mumu selection *** w2jets: 100%|████████████████████████████████| 4.00/4.00 [00:00<00:00, 1.34kit/s]\n",
      "mumu selection *** w3jets: 100%|████████████████████████████████| 28.0/28.0 [00:00<00:00, 1.89kit/s]\n",
      "mumu selection *** w4jets: 100%|████████████████████████████████| 25.0/25.0 [00:00<00:00, 1.91kit/s]\n",
      "mumu selection *** t_tw: 100%|████████████████████████████████| 1.61k/1.61k [00:00<00:00, 2.12kit/s]\n",
      "mumu selection *** tbar_tw: 100%|█████████████████████████████| 1.65k/1.65k [00:00<00:00, 2.12kit/s]\n",
      "mumu selection *** ttbar_inclusive: 100%|███████████████████████| 531k/531k [04:15<00:00, 2.08kit/s]\n"
     ]
    }
   ],
   "source": [
    "%run -i '../../scripts/utility_readblt.py' 'mumu'"
   ]
  },
  {
   "cell_type": "code",
   "execution_count": 2,
   "metadata": {},
   "outputs": [],
   "source": [
    "from utility_common import *\n",
    "from utility_plotter import *\n",
    "import ROOT\n",
    "from IPython.display import clear_output\n",
    "## add plotting option and load plotting parameter table\n",
    "%matplotlib inline\n",
    "#%qtconsole --style monokai\n",
    "plt.style.use('classic')\n",
    "plt.rc(\"figure\",facecolor=\"w\",figsize=(6,4))\n",
    "plt.rc(\"font\",size=10)\n",
    "plt.rc(\"savefig\",dpi=300)"
   ]
  },
  {
   "cell_type": "markdown",
   "metadata": {},
   "source": [
    "# 1. Read data and MC as dataframe"
   ]
  },
  {
   "cell_type": "code",
   "execution_count": 3,
   "metadata": {},
   "outputs": [],
   "source": [
    "selection  = \"mumu\"\n",
    "pickledir  =  \"/home/zchen/Documents/Analysis/workplace/data/pickle/{}/\".format(selection)"
   ]
  },
  {
   "cell_type": "code",
   "execution_count": 4,
   "metadata": {},
   "outputs": [],
   "source": [
    "def prepare_df_list(nbjetcut):\n",
    "    cuts = GetSelectionCut(\"mumu\") + \"& (nBJets{})\".format(nbjetcut)\n",
    "\n",
    "    Data = LoadDataframe(pickledir + \"data2016\").query(cuts)\n",
    "    MCzz = LoadDataframe(pickledir + \"mcdiboson\").query(cuts)\n",
    "    MCdy = LoadDataframe(pickledir + \"mcdy\").query(cuts)\n",
    "    MCt  = LoadDataframe(pickledir + \"mct\").query(cuts)\n",
    "    MCtt = LoadDataframe(pickledir + \"mctt\").query(cuts)\n",
    "    \n",
    "    MCsg = pd.concat([MCt,MCtt],ignore_index=True)\n",
    "\n",
    "    MCsgf = MCsg.query('(genCategory >= 16) ') # semilep and had\n",
    "    MCsg0 = MCsg.query('genCategory in [1,3,4,5,6,7,8,9,10,11,12]') #other lep\n",
    "    MCsg1 = MCsg.query('genCategory in [2]') #mumu\n",
    "    MCsg2 = MCsg.query('genCategory in [13,14,15]') #mutau\n",
    "\n",
    "    return [MCzz,MCdy,MCsgf,MCsg0,MCsg1,MCsg2,Data],MCt,MCtt"
   ]
  },
  {
   "cell_type": "markdown",
   "metadata": {},
   "source": [
    "# 2. Plot kinematics"
   ]
  },
  {
   "cell_type": "code",
   "execution_count": 5,
   "metadata": {},
   "outputs": [],
   "source": [
    "pp = pd.read_csv(\"plotparameters.csv\")\n",
    "label_list = ['Diboson','V+Jets', r'$tt/tW \\rightarrow l + had$',\n",
    "              r'$tt/tW \\rightarrow ll$ other',\n",
    "              r'$tt/tW \\rightarrow \\mu + \\mu$',\n",
    "              r'$tt/tW \\rightarrow \\mu+ \\tau$',\n",
    "              'data']\n",
    "color_list = [\"#a32020\", \"#e0301e\", \"#eb8c00\", \"#49feec\", \"deepskyblue\", \"mediumpurple\", \"k\"]"
   ]
  },
  {
   "cell_type": "code",
   "execution_count": 6,
   "metadata": {},
   "outputs": [
    {
     "name": "stdout",
     "output_type": "stream",
     "text": [
      "finish all making plots\n"
     ]
    }
   ],
   "source": [
    "for nbjetcut in [\"==1\",\">1\",\">=1\"]:\n",
    "    df_list,_,__ = prepare_df_list(nbjetcut)\n",
    "    plotoutdir = GetPlotDir(selection, nbjetcut)\n",
    "    for index, row in pp.iterrows():\n",
    "        v,a,b,step,xl = row[\"var\"],row[\"lower\"],row[\"upper\"],row[\"step\"],row[\"xlabel\"]\n",
    "        \n",
    "        plotter = SelectionPlotter(v,a,b,step,df_list)\n",
    "        plotter.settingPlot(xl,label_list,color_list)\n",
    "        plotter.makePlot(plotoutdir)\n",
    "\n",
    "        print(\"making plots nbjet{0}: {1}/{2}\".format(nbjetcut,index,len(pp)))\n",
    "        clear_output(wait=True)\n",
    "        plt.close()\n",
    "        \n",
    "print('finish all making plots')"
   ]
  },
  {
   "cell_type": "markdown",
   "metadata": {},
   "source": [
    "# 3. Counting"
   ]
  },
  {
   "cell_type": "code",
   "execution_count": 6,
   "metadata": {},
   "outputs": [],
   "source": [
    "nbjetcut = \"==1\"\n",
    "df_list,MCt,MCtt = prepare_df_list(nbjetcut)\n",
    "ctr = SelectionCounter()"
   ]
  },
  {
   "cell_type": "code",
   "execution_count": 9,
   "metadata": {},
   "outputs": [
    {
     "data": {
      "image/png": "[encoded data removed]",
      "text/plain": [
       "<matplotlib.figure.Figure at 0x7f34435095f8>"
      ]
     },
     "metadata": {},
     "output_type": "display_data"
    }
   ],
   "source": [
    "plt.rc(\"figure\",facecolor=\"w\",figsize=(6,4))\n",
    "\n",
    "v,a,b,step,xl = \"lepton2_pt\",0,200,5,\"lepton2_pt\"\n",
    "plotter = SelectionPlotter(v,a,b,step,df_list)\n",
    "plotter.settingPlot(xl,label_list,color_list,plotWithoutXsErr=False)\n",
    "plotter.makePlot()"
   ]
  },
  {
   "cell_type": "code",
   "execution_count": 7,
   "metadata": {},
   "outputs": [
    {
     "name": "stdout",
     "output_type": "stream",
     "text": [
      "(nBJets==1)\n",
      "MCtt: [0, 271460, 297, 0, 2155, 7, 0, 29, 0, 0, 23, 0, 52, 52112, 364, 0, 5139, 2, 406, 0, 3]\n",
      "MCtt width: [0.0, 257460.0588704687, 250.81809615762904, 0.0, 1995.4688748016488, 4.893205776810646, 0.0, 27.554583817720413, 0.0, 0.0, 22.289065301418304, 0.0, 44.83300681016408, 48734.921078588464, 321.8788404385559, 0.0, 4550.211435906156, 2.2414177656173706, 354.1899142397742, 0.0, 2.5451186895370483]\n",
      "MCt : [0, 1833, 0, 0, 15, 0, 0, 0, 0, 0, 0, 0, 1, 372, 3, 0, 42, 0, 1, 0, 0]\n",
      "MCt width: [0.0, 1763.500702716905, 0.0, 0.0, 12.329632185399532, 0.0, 0.0, 0.0, 0.0, 0.0, 0.0, 0.0, 0.5144170522689819, 354.26961600908544, 3.045598328113556, 0.0, 34.857424216810614, 0.0, 0.2623654305934906, 0.0, 0.0]\n"
     ]
    }
   ],
   "source": [
    "print(\"(nBJets{})\".format(nbjetcut))\n",
    "print(\"MCtt: {}\".format(ctr.countSlt_ByTauDecay(MCtt,withweights=False)) )\n",
    "print(\"MCtt width: {}\".format(ctr.countSlt_ByTauDecay(MCtt,withweights=True)) )\n",
    "\n",
    "print(\"MCt : {}\".format(ctr.countSlt_ByTauDecay(MCt, withweights=False)) )\n",
    "print(\"MCt width: {}\".format(ctr.countSlt_ByTauDecay(MCt, withweights=True)) )"
   ]
  },
  {
   "cell_type": "code",
   "execution_count": 8,
   "metadata": {},
   "outputs": [
    {
     "name": "stdout",
     "output_type": "stream",
     "text": [
      "data:70372.0\n",
      "TotalMC:70359.28658751969\n",
      "------ MC break down ------\n",
      "[  187.35759304  7033.57110772   989.4197778    458.37285569\n",
      " 51786.26053374  9904.30471954]\n"
     ]
    }
   ],
   "source": [
    "ctr.countSlt_Scaled(df_list)"
   ]
  },
  {
   "cell_type": "code",
   "execution_count": 9,
   "metadata": {},
   "outputs": [
    {
     "name": "stdout",
     "output_type": "stream",
     "text": [
      "7033.57,73.81\n",
      "989.42,15.44\n",
      "2816.79,61.33\n",
      "60321.56,108.49\n",
      "70372.00,265.28\n"
     ]
    }
   ],
   "source": [
    "for thisdf in [df_list[0],df_list[1], MCt, MCtt, df_list[-1]]:\n",
    "    n = np.sum(thisdf.eventWeight)\n",
    "    nerr = np.sum(thisdf.eventWeight**2)**0.5\n",
    "    print('{:.2f},{:.2f}'.format(n,nerr))"
   ]
  },
  {
   "cell_type": "code",
   "execution_count": 10,
   "metadata": {},
   "outputs": [
    {
     "name": "stdout",
     "output_type": "stream",
     "text": [
      "MCtt : [1811409.0, 1811532.0, 3620281.0, 57057.0, 54227.0, 111125.0, 418126.0, 407605.0, 763147.0, 642646.0, 626108.0, 2350887.0, 643368.0, 627277.0, 2353727.0, 22670017.0, 22653517.0, 4016590.0, 3923504.0, 14718933.0, 70930278.0]\n",
      "MCt  : [23105.0, 23040.0, 46342.0, 694.0, 717.0, 1420.0, 5260.0, 5158.0, 9727.0, 8199.0, 8029.0, 30054.0, 8163.0, 8006.0, 29970.0, 290101.0, 289467.0, 50864.0, 50050.0, 187515.0, 904067.0]\n"
     ]
    }
   ],
   "source": [
    "# print Generator information\n",
    "f = ROOT.TFile(\"../../data/root/2016MC.root\")\n",
    "print(\"MCtt : {}\".format(ctr.countGen_ByTauDecay(f,'ttbar_inclusive')) )\n",
    "temp = np.array(ctr.countGen_ByTauDecay(f,'t_tw'))\n",
    "temp+= np.array(ctr.countGen_ByTauDecay(f,'tbar_tw'))\n",
    "print(\"MCt  : {}\".format(list(temp)) )"
   ]
  },
  {
   "cell_type": "code",
   "execution_count": null,
   "metadata": {},
   "outputs": [],
   "source": []
  }
 ],
 "metadata": {
  "kernelspec": {
   "display_name": "Python 3",
   "language": "python",
   "name": "python3"
  },
  "language_info": {
   "codemirror_mode": {
    "name": "ipython",
    "version": 3
   },
   "file_extension": ".py",
   "mimetype": "text/x-python",
   "name": "python",
   "nbconvert_exporter": "python",
   "pygments_lexer": "ipython3",
   "version": "3.6.4"
  }
 },
 "nbformat": 4,
 "nbformat_minor": 2
}
