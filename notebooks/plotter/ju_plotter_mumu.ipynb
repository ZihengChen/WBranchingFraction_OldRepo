{
 "cells": [
  {
   "cell_type": "code",
   "execution_count": 1,
   "metadata": {},
   "outputs": [
    {
     "name": "stdout",
     "output_type": "stream",
     "text": [
      "Welcome to JupyROOT 6.13/02\n"
     ]
    },
    {
     "name": "stderr",
     "output_type": "stream",
     "text": [
      "mumu selection *** muon_2016B: 100%|██████████████████████████| 28.1k/28.1k [00:12<00:00, 2.18kit/s]\n",
      "mumu selection *** muon_2016C: 100%|██████████████████████████| 11.8k/11.8k [00:05<00:00, 2.26kit/s]\n",
      "mumu selection *** muon_2016D: 100%|██████████████████████████| 19.6k/19.6k [00:09<00:00, 2.17kit/s]\n",
      "mumu selection *** muon_2016E: 100%|██████████████████████████| 16.9k/16.9k [00:07<00:00, 2.23kit/s]\n",
      "mumu selection *** muon_2016F: 100%|██████████████████████████| 13.5k/13.5k [00:06<00:00, 2.20kit/s]\n",
      "mumu selection *** muon_2016G: 100%|██████████████████████████| 37.0k/37.0k [00:16<00:00, 2.24kit/s]\n",
      "mumu selection *** muon_2016H: 100%|██████████████████████████| 42.5k/42.5k [00:18<00:00, 2.25kit/s]\n",
      "mumu selection *** ww: 100%|██████████████████████████████████████| 247/247 [00:00<00:00, 2.21kit/s]\n",
      "mumu selection *** wz_2l2q: 100%|█████████████████████████████| 32.8k/32.8k [00:14<00:00, 2.24kit/s]\n",
      "mumu selection *** wz_3lnu: 100%|█████████████████████████████████| 384/384 [00:00<00:00, 2.27kit/s]\n",
      "mumu selection *** zz_2l2nu: 100%|████████████████████████████| 5.33k/5.33k [00:02<00:00, 2.28kit/s]\n",
      "mumu selection *** zz_2l2q: 100%|███████████████████████████████| 121k/121k [00:54<00:00, 2.20kit/s]\n",
      "mumu selection *** zz_4l: 100%|███████████████████████████████| 3.98k/3.98k [00:01<00:00, 2.00kit/s]\n",
      "mumu selection *** z1jets_m-10to50: 100%|█████████████████████████| 170/170 [00:00<00:00, 1.88kit/s]\n",
      "mumu selection *** z2jets_m-10to50: 100%|█████████████████████| 1.24k/1.24k [00:00<00:00, 2.21kit/s]\n",
      "mumu selection *** z3jets_m-10to50: 100%|█████████████████████| 1.14k/1.14k [00:00<00:00, 2.28kit/s]\n",
      "mumu selection *** z4jets_m-10to50: 100%|█████████████████████| 1.27k/1.27k [00:00<00:00, 1.81kit/s]\n",
      "mumu selection *** zjets_m-10to50: 100%|██████████████████████████| 168/168 [00:00<00:00, 1.95kit/s]\n",
      "mumu selection *** z1jets_m-50: 100%|█████████████████████████| 2.90k/2.90k [00:01<00:00, 1.90kit/s]\n",
      "mumu selection *** z2jets_m-50: 100%|█████████████████████████| 23.6k/23.6k [00:10<00:00, 2.20kit/s]\n",
      "mumu selection *** z3jets_m-50: 100%|█████████████████████████| 18.2k/18.2k [00:08<00:00, 2.21kit/s]\n",
      "mumu selection *** z4jets_m-50: 100%|█████████████████████████| 27.8k/27.8k [00:12<00:00, 2.18kit/s]\n",
      "mumu selection *** zjets_m-50: 100%|██████████████████████████| 11.3k/11.3k [00:05<00:00, 2.03kit/s]\n",
      "mumu selection *** w2jets: 100%|████████████████████████████████| 4.00/4.00 [00:00<00:00, 1.35kit/s]\n",
      "mumu selection *** w3jets: 100%|████████████████████████████████| 25.0/25.0 [00:00<00:00, 1.95kit/s]\n",
      "mumu selection *** w4jets: 100%|████████████████████████████████| 24.0/24.0 [00:00<00:00, 2.03kit/s]\n",
      "mumu selection *** t_tw: 100%|████████████████████████████████| 1.57k/1.57k [00:00<00:00, 2.26kit/s]\n",
      "mumu selection *** tbar_tw: 100%|█████████████████████████████| 1.62k/1.62k [00:00<00:00, 2.22kit/s]\n",
      "mumu selection *** ttbar_inclusive: 100%|███████████████████████| 529k/529k [04:10<00:00, 2.11kit/s]\n"
     ]
    }
   ],
   "source": [
    "%run -i '../../scripts/utility_readblt.py' 'mumu'"
   ]
  },
  {
   "cell_type": "code",
   "execution_count": 15,
   "metadata": {},
   "outputs": [],
   "source": [
    "from utility_common import *\n",
    "from utility_plotter import *\n",
    "import ROOT\n",
    "from IPython.display import clear_output\n",
    "## add plotting option and load plotting parameter table\n",
    "%matplotlib inline\n",
    "#%qtconsole --style monokai\n",
    "plt.style.use('classic')\n",
    "plt.rc(\"figure\",facecolor=\"w\",figsize=(6,4))\n",
    "plt.rc(\"font\",size=10)\n",
    "plt.rc(\"savefig\",dpi=300)"
   ]
  },
  {
   "cell_type": "markdown",
   "metadata": {},
   "source": [
    "# 1. Read data and MC as dataframe"
   ]
  },
  {
   "cell_type": "code",
   "execution_count": 16,
   "metadata": {},
   "outputs": [],
   "source": [
    "selection  = \"mumu\"\n",
    "nbjetcut   =  \">=1\"\n",
    "\n",
    "pickledir  =  \"/home/zchen/Documents/Analysis/workplace/data/pickle/{}/\".format(selection)\n",
    "\n",
    "cuts = GetSelectionCut(\"mumu\") + \"& (nBJets{})\".format(nbjetcut)\n",
    "\n",
    "Data = LoadDataframe(pickledir + \"data2016\").query(cuts)\n",
    "MCzz = LoadDataframe(pickledir + \"mcdiboson\").query(cuts)\n",
    "MCdy = LoadDataframe(pickledir + \"mcdy\").query(cuts)\n",
    "MCt  = LoadDataframe(pickledir + \"mct\").query(cuts)\n",
    "MCtt = LoadDataframe(pickledir + \"mctt\").query(cuts)"
   ]
  },
  {
   "cell_type": "code",
   "execution_count": 17,
   "metadata": {},
   "outputs": [],
   "source": [
    "MCsg = pd.concat([MCt,MCtt],ignore_index=True)\n",
    "\n",
    "MCsgf = MCsg.query('(genCategory >= 16) ') # semilep and had\n",
    "MCsg0 = MCsg.query('genCategory in [1,3,4,5,6,7,8,9,10,11,12]') #other lep\n",
    "MCsg1 = MCsg.query('genCategory in [2]') #mumu\n",
    "MCsg2 = MCsg.query('genCategory in [13,14,15]') #mutau\n",
    "\n",
    "df_list = [MCzz,MCdy,MCsgf,MCsg0,MCsg1,MCsg2,Data]"
   ]
  },
  {
   "cell_type": "markdown",
   "metadata": {},
   "source": [
    "# 2. Plot kinematics"
   ]
  },
  {
   "cell_type": "code",
   "execution_count": 18,
   "metadata": {},
   "outputs": [
    {
     "name": "stdout",
     "output_type": "stream",
     "text": [
      "/home/zchen/Documents/Analysis/workplace/plot/mumu/combined/\n"
     ]
    }
   ],
   "source": [
    "pp = pd.read_csv(\"plotparameters.csv\")\n",
    "label_list = ['Diboson','V+Jets', r'$tt/tW \\rightarrow l + had$',\n",
    "              r'$tt/tW \\rightarrow ll$ other',\n",
    "              r'$tt/tW \\rightarrow \\mu + \\mu$',\n",
    "              r'$tt/tW \\rightarrow \\mu+ \\tau$',\n",
    "              'data']\n",
    "color_list = [\"#a32020\", \"#e0301e\", \"#eb8c00\", \"#49feec\", \"deepskyblue\", \"mediumpurple\", \"k\"]\n",
    "plotoutdir = GetPlotDir(selection, nbjetcut)\n",
    "print(plotoutdir)"
   ]
  },
  {
   "cell_type": "code",
   "execution_count": 19,
   "metadata": {},
   "outputs": [
    {
     "name": "stdout",
     "output_type": "stream",
     "text": [
      "finish all making plots\n"
     ]
    }
   ],
   "source": [
    "for index, row in pp.iterrows():\n",
    "    \n",
    "    v,a,b,step,xl = row[\"var\"], row[\"lower\"], row[\"upper\"], row[\"step\"], row[\"xlabel\"]\n",
    "    plotter = SelectionPlotter(v,a,b,step,df_list)\n",
    "    \n",
    "    plotter.settingPlot(xl,label_list,color_list,logscale=False)\n",
    "    plotter.makePlot(plotoutdir)\n",
    "    plt.close()\n",
    "    \n",
    "    # print out process\n",
    "    print(\"making plots: {0}/{1}\".format(index,len(pp)))\n",
    "    clear_output(wait=True)\n",
    "\n",
    "print('finish all making plots')"
   ]
  },
  {
   "cell_type": "code",
   "execution_count": 20,
   "metadata": {},
   "outputs": [
    {
     "name": "stderr",
     "output_type": "stream",
     "text": [
      "/home/zchen/anaconda3/lib/python3.6/site-packages/numpy/core/fromnumeric.py:52: FutureWarning: reshape is deprecated and will raise in a subsequent release. Please use .values.reshape(...) instead\n",
      "  return getattr(obj, method)(*args, **kwds)\n"
     ]
    },
    {
     "data": {
      "image/png": "[encoded data removed]",
      "text/plain": [
       "<matplotlib.figure.Figure at 0x7f1ccc83a550>"
      ]
     },
     "metadata": {},
     "output_type": "display_data"
    }
   ],
   "source": [
    "v,a,b,step,xl = \"lepton2_pt\",0,200,5,\"lepton2_pt\"\n",
    "adj = np.array([1,1,1,1,1,1])\n",
    "plotter = SelectionPlotter(v,a,b,step,df_list,adjust=adj)\n",
    "plotter.settingPlot(xl,label_list,color_list)\n",
    "plotter.makePlot()"
   ]
  },
  {
   "cell_type": "markdown",
   "metadata": {},
   "source": [
    "# 3. Counting"
   ]
  },
  {
   "cell_type": "code",
   "execution_count": 3,
   "metadata": {
    "collapsed": true
   },
   "outputs": [],
   "source": [
    "ctr = SelectionCounter()"
   ]
  },
  {
   "cell_type": "code",
   "execution_count": 18,
   "metadata": {},
   "outputs": [
    {
     "name": "stdout",
     "output_type": "stream",
     "text": [
      "(nBJets>1)\n",
      "MCtt: [0, 87169, 19, 0, 702, 1, 0, 3, 0, 0, 2, 0, 3, 16435, 31, 0, 461, 0, 24, 0, 0]\n",
      "MCtt width: [0, 83201.43789198286, 16.345635056495667, 0, 646.5313102034852, 0.7739574313163756, 0, 2.761712074279785, 0, 0, 1.2206032276153564, 0, 3.303257465362549, 15468.080919075695, 31.214268028736115, 0, 407.97575078540103, 0, 19.998589165508747, 0, 0]\n",
      "MCt : [0, 326, 1, 0, 3, 0, 0, 0, 0, 0, 0, 0, 0, 78, 1, 0, 1, 0, 0, 0, 0]\n",
      "MCt width: [0, 311.2035199177044, 0.9689044952392578, 0, 2.9473599791526794, 0, 0, 0, 0, 0, 0, 0, 0, 67.58193822845351, 0.9317941665649414, 0, 1.0120819807052612, 0, 0, 0, 0]\n"
     ]
    }
   ],
   "source": [
    "print(\"(nBJets{})\".format(nbjetcut))\n",
    "print(\"MCtt: {}\".format(ctr.countSlt_ByTauDecay(MCtt,withweights=False)) )\n",
    "print(\"MCtt width: {}\".format(ctr.countSlt_ByTauDecay(MCtt,withweights=True)) )\n",
    "\n",
    "print(\"MCt : {}\".format(ctr.countSlt_ByTauDecay(MCt, withweights=False)) )\n",
    "print(\"MCt width: {}\".format(ctr.countSlt_ByTauDecay(MCt, withweights=True)) )"
   ]
  },
  {
   "cell_type": "code",
   "execution_count": 19,
   "metadata": {},
   "outputs": [
    {
     "name": "stdout",
     "output_type": "stream",
     "text": [
      "data:20074.0\n",
      "TotalMC:20224.584002833064\n",
      "------ MC break down ------\n",
      "[   33.33155654   505.52209496    83.5885415    133.43170726\n",
      " 16399.39126963  3069.31883293]\n"
     ]
    }
   ],
   "source": [
    "ctr.countSlt_Scaled(df_list)"
   ]
  },
  {
   "cell_type": "code",
   "execution_count": 21,
   "metadata": {},
   "outputs": [
    {
     "name": "stdout",
     "output_type": "stream",
     "text": [
      "33.33,3.60\n",
      "505.52,19.21\n",
      "499.55,25.79\n",
      "19186.18,61.21\n",
      "20074.00,141.68\n"
     ]
    }
   ],
   "source": [
    "for thisdf in [MCzz, MCdy, MCt, MCtt, Data]:\n",
    "    n = np.sum(thisdf.eventWeight)\n",
    "    nerr = np.sum(thisdf.eventWeight**2)**0.5\n",
    "    print('{:.2f},{:.2f}'.format(n,nerr))"
   ]
  },
  {
   "cell_type": "code",
   "execution_count": 13,
   "metadata": {},
   "outputs": [
    {
     "data": {
      "text/plain": [
       "60080.96692251897"
      ]
     },
     "execution_count": 13,
     "metadata": {},
     "output_type": "execute_result"
    }
   ],
   "source": [
    "a = ctr.countSlt_ByTauDecay(MCtt, withweights=True)\n",
    "sum(a)*MCtt.eventWeightSF.mean()"
   ]
  },
  {
   "cell_type": "code",
   "execution_count": 44,
   "metadata": {},
   "outputs": [
    {
     "data": {
      "text/plain": [
       "29838922.23649788"
      ]
     },
     "execution_count": 44,
     "metadata": {},
     "output_type": "execute_result"
    }
   ],
   "source": [
    "MCtt.eventWeightSF.mean()*155211361*(0.19244/0.192)"
   ]
  },
  {
   "cell_type": "code",
   "execution_count": 46,
   "metadata": {},
   "outputs": [
    {
     "data": {
      "text/plain": [
       "2571248.5183447804"
      ]
     },
     "execution_count": 46,
     "metadata": {},
     "output_type": "execute_result"
    }
   ],
   "source": [
    "MCt.eventWeightSF.mean()*1979948*(1.29739/1.297)"
   ]
  },
  {
   "cell_type": "code",
   "execution_count": 2,
   "metadata": {},
   "outputs": [
    {
     "ename": "NameError",
     "evalue": "name 'ctr' is not defined",
     "output_type": "error",
     "traceback": [
      "\u001b[0;31m---------------------------------------------------------------------------\u001b[0m",
      "\u001b[0;31mNameError\u001b[0m                                 Traceback (most recent call last)",
      "\u001b[0;32m<ipython-input-2-b8b9892ca64c>\u001b[0m in \u001b[0;36m<module>\u001b[0;34m()\u001b[0m\n\u001b[1;32m      1\u001b[0m \u001b[0;31m# print Generator information\u001b[0m\u001b[0;34m\u001b[0m\u001b[0;34m\u001b[0m\u001b[0m\n\u001b[1;32m      2\u001b[0m \u001b[0mf\u001b[0m \u001b[0;34m=\u001b[0m \u001b[0mROOT\u001b[0m\u001b[0;34m.\u001b[0m\u001b[0mTFile\u001b[0m\u001b[0;34m(\u001b[0m\u001b[0;34m\"../../data/root/2016MC.root\"\u001b[0m\u001b[0;34m)\u001b[0m\u001b[0;34m\u001b[0m\u001b[0m\n\u001b[0;32m----> 3\u001b[0;31m \u001b[0mprint\u001b[0m\u001b[0;34m(\u001b[0m\u001b[0;34m\"MCtt : {}\"\u001b[0m\u001b[0;34m.\u001b[0m\u001b[0mformat\u001b[0m\u001b[0;34m(\u001b[0m\u001b[0mctr\u001b[0m\u001b[0;34m.\u001b[0m\u001b[0mcountGen_ByTauDecay\u001b[0m\u001b[0;34m(\u001b[0m\u001b[0mf\u001b[0m\u001b[0;34m,\u001b[0m\u001b[0;34m'ttbar_inclusive'\u001b[0m\u001b[0;34m)\u001b[0m\u001b[0;34m)\u001b[0m \u001b[0;34m)\u001b[0m\u001b[0;34m\u001b[0m\u001b[0m\n\u001b[0m\u001b[1;32m      4\u001b[0m \u001b[0mtemp\u001b[0m \u001b[0;34m=\u001b[0m \u001b[0mnp\u001b[0m\u001b[0;34m.\u001b[0m\u001b[0marray\u001b[0m\u001b[0;34m(\u001b[0m\u001b[0mctr\u001b[0m\u001b[0;34m.\u001b[0m\u001b[0mcountGen_ByTauDecay\u001b[0m\u001b[0;34m(\u001b[0m\u001b[0mf\u001b[0m\u001b[0;34m,\u001b[0m\u001b[0;34m't_tw'\u001b[0m\u001b[0;34m)\u001b[0m\u001b[0;34m)\u001b[0m\u001b[0;34m\u001b[0m\u001b[0m\n\u001b[1;32m      5\u001b[0m \u001b[0mtemp\u001b[0m\u001b[0;34m+=\u001b[0m \u001b[0mnp\u001b[0m\u001b[0;34m.\u001b[0m\u001b[0marray\u001b[0m\u001b[0;34m(\u001b[0m\u001b[0mctr\u001b[0m\u001b[0;34m.\u001b[0m\u001b[0mcountGen_ByTauDecay\u001b[0m\u001b[0;34m(\u001b[0m\u001b[0mf\u001b[0m\u001b[0;34m,\u001b[0m\u001b[0;34m'tbar_tw'\u001b[0m\u001b[0;34m)\u001b[0m\u001b[0;34m)\u001b[0m\u001b[0;34m\u001b[0m\u001b[0m\n",
      "\u001b[0;31mNameError\u001b[0m: name 'ctr' is not defined"
     ]
    }
   ],
   "source": [
    "# print Generator information\n",
    "f = ROOT.TFile(\"../../data/root/2016MC.root\")\n",
    "print(\"MCtt : {}\".format(ctr.countGen_ByTauDecay(f,'ttbar_inclusive')) )\n",
    "temp = np.array(ctr.countGen_ByTauDecay(f,'t_tw'))\n",
    "temp+= np.array(ctr.countGen_ByTauDecay(f,'tbar_tw'))\n",
    "print(\"MCt  : {}\".format(list(temp)) )"
   ]
  },
  {
   "cell_type": "code",
   "execution_count": 3,
   "metadata": {},
   "outputs": [],
   "source": [
    "f = ROOT.TFile(\"../../data/root/2016MC.root\")\n"
   ]
  },
  {
   "cell_type": "code",
   "execution_count": 9,
   "metadata": {},
   "outputs": [],
   "source": [
    "h = f.Get(\"TotalEvents_zjets_m-50\")"
   ]
  },
  {
   "cell_type": "code",
   "execution_count": 10,
   "metadata": {},
   "outputs": [
    {
     "data": {
      "text/plain": [
       "48970867.0"
      ]
     },
     "execution_count": 10,
     "metadata": {},
     "output_type": "execute_result"
    }
   ],
   "source": [
    "h.GetBinContent(1)"
   ]
  },
  {
   "cell_type": "code",
   "execution_count": null,
   "metadata": {},
   "outputs": [],
   "source": []
  }
 ],
 "metadata": {
  "kernelspec": {
   "display_name": "Python 3",
   "language": "python",
   "name": "python3"
  },
  "language_info": {
   "codemirror_mode": {
    "name": "ipython",
    "version": 3
   },
   "file_extension": ".py",
   "mimetype": "text/x-python",
   "name": "python",
   "nbconvert_exporter": "python",
   "pygments_lexer": "ipython3",
   "version": "3.6.4"
  }
 },
 "nbformat": 4,
 "nbformat_minor": 2
}
