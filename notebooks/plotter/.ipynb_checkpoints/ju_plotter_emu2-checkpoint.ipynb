{
 "cells": [
  {
   "cell_type": "code",
   "execution_count": 4,
   "metadata": {
    "collapsed": true
   },
   "outputs": [],
   "source": [
    "#%run -i '../../scripts/utility_readblt.py' 'emu'"
   ]
  },
  {
   "cell_type": "code",
   "execution_count": 1,
   "metadata": {},
   "outputs": [
    {
     "name": "stdout",
     "output_type": "stream",
     "text": [
      "Welcome to JupyROOT 6.10/00\n"
     ]
    }
   ],
   "source": [
    "from utility_common import *\n",
    "from utility_plotter import *\n",
    "import ROOT\n",
    "from IPython.display import clear_output\n",
    "## add plotting option and load plotting parameter table\n",
    "%matplotlib inline\n",
    "#%qtconsole --style monokai\n",
    "plt.style.use('classic')\n",
    "plt.rc(\"figure\",facecolor=\"w\",figsize=(6,4))\n",
    "plt.rc(\"font\",size=10)\n",
    "plt.rc(\"savefig\",dpi=300)"
   ]
  },
  {
   "cell_type": "markdown",
   "metadata": {},
   "source": [
    "# 1. Read data and MC as dataframe"
   ]
  },
  {
   "cell_type": "code",
   "execution_count": 21,
   "metadata": {},
   "outputs": [],
   "source": [
    "selection  = \"emu2\"\n",
    "nbjetcut   =  \">=1\"\n",
    "\n",
    "pickledir  =  \"/Users/zihengchen/Documents/Analysis/workplace/data/pickle/{}/\".format('emu')\n",
    "\n",
    "cuts = GetSelectionCut(selection) + \"& (nBJets{})\".format(nbjetcut)\n",
    "\n",
    "Data = LoadDataframe(pickledir + \"data2016\").query(cuts)\n",
    "MCzz = LoadDataframe(pickledir + \"mcdiboson\").query(cuts)\n",
    "MCdy = LoadDataframe(pickledir + \"mcdy\").query(cuts)\n",
    "MCt  = LoadDataframe(pickledir + \"mct\").query(cuts)\n",
    "MCtt = LoadDataframe(pickledir + \"mctt\").query(cuts)"
   ]
  },
  {
   "cell_type": "code",
   "execution_count": 22,
   "metadata": {
    "collapsed": true
   },
   "outputs": [],
   "source": [
    "Data = Data.drop_duplicates(subset=['runNumber', 'evtNumber'])"
   ]
  },
  {
   "cell_type": "code",
   "execution_count": 23,
   "metadata": {
    "collapsed": true
   },
   "outputs": [],
   "source": [
    "# signal mc is tt+tW\n",
    "MCsg = pd.concat([MCt,MCtt],ignore_index=True)\n",
    "\n",
    "MCsgf = MCsg.query('(genCategory >= 16) ') # semilep and had\n",
    "MCsg0 = MCsg.query('genCategory in [1,2,4,5,6,7,8,9]') #other lep\n",
    "MCsg1 = MCsg.query('genCategory in [3]') #ee\n",
    "MCsg2 = MCsg.query('genCategory in [10,11,12]') #etau\n",
    "MCsg3 = MCsg.query('genCategory in [13,14,15]') #mutau\n",
    "\n",
    "\n",
    "df_list = [MCzz,MCdy,MCsgf,MCsg0,MCsg1,MCsg2,MCsg3,Data]"
   ]
  },
  {
   "cell_type": "markdown",
   "metadata": {},
   "source": [
    "# 2. Plot kinematics"
   ]
  },
  {
   "cell_type": "code",
   "execution_count": 24,
   "metadata": {},
   "outputs": [
    {
     "name": "stdout",
     "output_type": "stream",
     "text": [
      "/Users/zihengchen/Documents/Analysis/workplace/plot/emu2/combined/\n"
     ]
    }
   ],
   "source": [
    "pp = pd.read_csv(\"plotparameters.csv\")\n",
    "label_list = [\"Diboson\",\"V+Jets\",r'$tt/tW \\rightarrow l + h$ (other)',\n",
    "              r'$tt/tW \\rightarrow l + l$ (other) ',\n",
    "              r'$tt/tW \\rightarrow e + \\mu$', \n",
    "              r'$tt/tW \\rightarrow e + \\tau$',\n",
    "              r'$tt/tW \\rightarrow \\mu + \\tau$',\n",
    "              'data']\n",
    "color_list = [\"#a32020\",\"#e0301e\",\"#eb8c00\",\"gold\",\"#49feec\",\"deepskyblue\",\"mediumpurple\",\"k\"]\n",
    "plotoutdir = GetPlotDir(selection, nbjetcut)\n",
    "print(plotoutdir)"
   ]
  },
  {
   "cell_type": "code",
   "execution_count": 25,
   "metadata": {},
   "outputs": [
    {
     "name": "stdout",
     "output_type": "stream",
     "text": [
      "finish all making plots\n"
     ]
    }
   ],
   "source": [
    "for index, row in pp.iterrows():\n",
    "    v,a,b,step,xl = row[\"var\"],row[\"lower\"],row[\"upper\"],row[\"step\"],row[\"xlabel\"]\n",
    "    plotter = SelectionPlotter(v,a,b,step,df_list)\n",
    "    plotter.settingPlot(xl,label_list,color_list)\n",
    "    plotter.makePlot(plotoutdir)\n",
    "    # print out process\n",
    "    print(\"making plots: {0}/{1}\".format(index,len(pp)))\n",
    "    clear_output(wait=True)\n",
    "    plt.close()\n",
    "print('finish all making plots')"
   ]
  },
  {
   "cell_type": "markdown",
   "metadata": {},
   "source": [
    "# 3. Counting"
   ]
  },
  {
   "cell_type": "code",
   "execution_count": 17,
   "metadata": {
    "collapsed": true
   },
   "outputs": [],
   "source": [
    "ctr = SelectionCounter()"
   ]
  },
  {
   "cell_type": "code",
   "execution_count": 18,
   "metadata": {},
   "outputs": [
    {
     "name": "stdout",
     "output_type": "stream",
     "text": [
      "(nBJets==1)\n",
      "MCtt: [153, 1, 51366, 3, 0, 802, 18, 9, 0, 39, 15888, 162, 2733, 1, 31, 2535, 39, 173, 11, 3, 3]\n",
      "MCtt width: [129.46362776728347, 0.6244632005691528, 46635.672158012705, 1.9264374822378159, 0, 711.6392693164526, 16.903316378593445, 5.92995164898457, 0, 31.162499511614442, 14369.817622322176, 140.0907957041636, 2440.655714356255, 0.9474811553955078, 26.819801077246666, 2183.442760859194, 33.36747820675373, 142.9839338605525, 9.190746672451496, 2.7215241193771362, 3.3070802688598633]\n",
      "MCt : [1, 0, 351, 0, 0, 4, 0, 0, 0, 0, 107, 0, 29, 0, 1, 17, 0, 1, 0, 0, 0]\n",
      "MCt width: [0.971936047077179, 0, 324.7577816600424, 0, 0, 3.9208382964134216, 0, 0, 0, 0, 95.4422397762537, 0, 26.830877766013145, 0, 0.9521691203117371, 14.899754613637924, 0, 0.9535976052284241, 0, 0, 0]\n"
     ]
    }
   ],
   "source": [
    "print(\"(nBJets{})\".format(nbjetcut))\n",
    "\n",
    "print(\"MCtt: {}\".format(ctr.countSlt_ByTauDecay(MCtt,withweights=False)) )\n",
    "print(\"MCtt width: {}\".format(ctr.countSlt_ByTauDecay(MCtt,withweights=True)) )\n",
    "\n",
    "print(\"MCt : {}\".format(ctr.countSlt_ByTauDecay(MCt, withweights=False)) )\n",
    "print(\"MCt width: {}\".format(ctr.countSlt_ByTauDecay(MCt, withweights=True)) )"
   ]
  },
  {
   "cell_type": "code",
   "execution_count": 19,
   "metadata": {},
   "outputs": [
    {
     "name": "stdout",
     "output_type": "stream",
     "text": [
      "data:13151.0\n",
      "TotalMC:13643.083533856732\n",
      "------ MC break down ------\n",
      "[  41.86827449  133.63021876  477.17468757  172.9308831  9387.41572599\n",
      " 2919.42736335  510.63638059]\n"
     ]
    }
   ],
   "source": [
    "ctr.countSlt_Scaled(df_list)"
   ]
  },
  {
   "cell_type": "code",
   "execution_count": 20,
   "metadata": {},
   "outputs": [
    {
     "name": "stdout",
     "output_type": "stream",
     "text": [
      "41.87,5.91\n",
      "133.63,11.17\n",
      "608.82,27.76\n",
      "12858.76,48.88\n",
      "13151.00,114.68\n"
     ]
    }
   ],
   "source": [
    "for thisdf in [MCzz, MCdy, MCt, MCtt, Data]:\n",
    "    n = np.sum(thisdf.eventWeight)\n",
    "    nerr = np.sum(thisdf.eventWeight**2)**0.5\n",
    "    print('{:.2f},{:.2f}'.format(n,nerr))\n",
    "#mc,h = PlotHistogram(\"lepton2_pt\",0,150,5,\"lepton2_pt [GeV]\", df_list,label_list,color_list)"
   ]
  },
  {
   "cell_type": "code",
   "execution_count": 11,
   "metadata": {},
   "outputs": [
    {
     "name": "stdout",
     "output_type": "stream",
     "text": [
      "MCtt : [1811409.0, 1811532.0, 3620281.0, 57057.0, 54227.0, 111125.0, 418126.0, 418126.0, 763147.0, 642646.0, 626108.0, 2350887.0, 643368.0, 627277.0, 2353727.0, 22670017.0, 22653517.0, 4016590.0, 3923504.0, 14718933.0, 70930278.0]\n",
      "MCt  : [23105.0, 23040.0, 46342.0, 694.0, 717.0, 1420.0, 5260.0, 5260.0, 9727.0, 8199.0, 8029.0, 30054.0, 8163.0, 8006.0, 29970.0, 290101.0, 289467.0, 50864.0, 50050.0, 187515.0, 904067.0]\n"
     ]
    }
   ],
   "source": [
    "# print Generator information\n",
    "f = ROOT.TFile(\"../../data/root/2016MC.root\")\n",
    "print(\"MCtt : {}\".format(ctr.countGen_ByTauDecay(f,'ttbar_inclusive')) )\n",
    "temp = np.array(ctr.countGen_ByTauDecay(f,'t_tw'))\n",
    "temp+= np.array(ctr.countGen_ByTauDecay(f,'tbar_tw'))\n",
    "print(\"MCt  : {}\".format(list(temp)) )"
   ]
  },
  {
   "cell_type": "code",
   "execution_count": null,
   "metadata": {
    "collapsed": true
   },
   "outputs": [],
   "source": []
  }
 ],
 "metadata": {
  "kernelspec": {
   "display_name": "Python 3",
   "language": "python",
   "name": "python3"
  },
  "language_info": {
   "codemirror_mode": {
    "name": "ipython",
    "version": 3
   },
   "file_extension": ".py",
   "mimetype": "text/x-python",
   "name": "python",
   "nbconvert_exporter": "python",
   "pygments_lexer": "ipython3",
   "version": "3.6.1"
  }
 },
 "nbformat": 4,
 "nbformat_minor": 2
}
