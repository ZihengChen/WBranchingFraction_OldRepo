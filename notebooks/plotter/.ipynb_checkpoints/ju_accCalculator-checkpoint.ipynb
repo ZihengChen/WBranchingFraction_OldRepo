{
 "cells": [
  {
   "cell_type": "code",
   "execution_count": 1,
   "metadata": {},
   "outputs": [
    {
     "name": "stdout",
     "output_type": "stream",
     "text": [
      "Welcome to JupyROOT 6.13/02\n"
     ]
    }
   ],
   "source": [
    "from utility_common import *\n",
    "from utility_plotter import *\n",
    "import ROOT\n",
    "from IPython.display import clear_output\n",
    "## add plotting option and load plotting parameter table\n",
    "%matplotlib inline\n",
    "#%qtconsole --style monokai\n",
    "plt.style.use('classic')\n",
    "plt.rc(\"figure\",facecolor=\"w\",figsize=(6,4))\n",
    "plt.rc(\"font\",size=10)\n",
    "plt.rc(\"savefig\",dpi=300)"
   ]
  },
  {
   "cell_type": "code",
   "execution_count": 2,
   "metadata": {},
   "outputs": [],
   "source": [
    "ctr = SelectionCounter()\n",
    "# print Generator information\n",
    "f = ROOT.TFile(\"/home/zchen/Documents/Analysis/workplace/data/root/2016MC.root\")\n",
    "nGenTT = np.array(ctr.countGen_ByTauDecay(f,'ttbar_inclusive'))\n",
    "\n",
    "nGenT = np.array(ctr.countGen_ByTauDecay(f,'t_tw'))\n",
    "nGenT += np.array(ctr.countGen_ByTauDecay(f,'tbar_tw'))\n",
    "f.Close()"
   ]
  },
  {
   "cell_type": "code",
   "execution_count": 3,
   "metadata": {},
   "outputs": [
    {
     "name": "stdout",
     "output_type": "stream",
     "text": [
      "mumu\n",
      "mutau\n",
      "mu4j\n",
      "ee\n",
      "etau\n",
      "e4j\n",
      "emu\n",
      "emu2\n"
     ]
    }
   ],
   "source": [
    "dirAcc = \"/home/zchen/Documents/Analysis/workplace/data/acceptance/\"\n",
    "for selection in [\"mumu\",\"mutau\",\"mu4j\",\"ee\",\"etau\",\"e4j\",\"emu\",\"emu2\"]:\n",
    "    print(selection)\n",
    "    result = []\n",
    "    if selection == \"emu2\":\n",
    "        pickledir  =  \"/home/zchen/Documents/Analysis/workplace/data/pickle/emu/\"\n",
    "    else:\n",
    "        pickledir  =  \"/home/zchen/Documents/Analysis/workplace/data/pickle/{}/\".format(selection)\n",
    "    for mc in [\"mctt\",\"mct\"]:\n",
    "        for nbjetcut in [\"==1\",\">1\"]:\n",
    "            cuts = GetSelectionCut(selection) + \"& (nBJets{})\".format(nbjetcut)\n",
    "            MC = LoadDataframe(pickledir + mc).query(cuts)\n",
    "            \n",
    "            nAcc = np.array(ctr.countSlt_ByTauDecay(MC,withweights=True))\n",
    "            if mc == \"mctt\":\n",
    "                fractionAccepted = nAcc/nGenTT\n",
    "            if mc == \"mct\":\n",
    "                fractionAccepted = nAcc/nGenT\n",
    "            result.append(fractionAccepted)\n",
    "    result = np.array(result)\n",
    "    np.savetxt(dirAcc+'Acceptance - {}.csv'.format(selection), result, delimiter=',')"
   ]
  },
  {
   "cell_type": "code",
   "execution_count": null,
   "metadata": {},
   "outputs": [],
   "source": []
  }
 ],
 "metadata": {
  "kernelspec": {
   "display_name": "Python 3",
   "language": "python",
   "name": "python3"
  },
  "language_info": {
   "codemirror_mode": {
    "name": "ipython",
    "version": 3
   },
   "file_extension": ".py",
   "mimetype": "text/x-python",
   "name": "python",
   "nbconvert_exporter": "python",
   "pygments_lexer": "ipython3",
   "version": "3.6.4"
  }
 },
 "nbformat": 4,
 "nbformat_minor": 2
}
