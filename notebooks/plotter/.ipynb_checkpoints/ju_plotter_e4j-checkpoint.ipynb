{
 "cells": [
  {
   "cell_type": "code",
   "execution_count": 2,
   "metadata": {
    "collapsed": true
   },
   "outputs": [],
   "source": [
    "#%run -i '../../scripts/utility_readblt.py' 'e4j'"
   ]
  },
  {
   "cell_type": "code",
   "execution_count": 4,
   "metadata": {
    "collapsed": true
   },
   "outputs": [],
   "source": [
    "from utility_common import *\n",
    "from utility_plotter import *\n",
    "import ROOT\n",
    "from IPython.display import clear_output\n",
    "## add plotting option and load plotting parameter table\n",
    "%matplotlib inline\n",
    "#%qtconsole --style monokai\n",
    "plt.style.use('classic')\n",
    "plt.rc(\"figure\",facecolor=\"w\",figsize=(6,4))\n",
    "plt.rc(\"font\",size=10)\n",
    "plt.rc(\"savefig\",dpi=300)"
   ]
  },
  {
   "cell_type": "markdown",
   "metadata": {},
   "source": [
    "# 1. Read data and MC as dataframe"
   ]
  },
  {
   "cell_type": "code",
   "execution_count": 10,
   "metadata": {
    "collapsed": true
   },
   "outputs": [],
   "source": [
    "selection  = \"e4j\"\n",
    "nbjetcut   =  \">1\"\n",
    "\n",
    "pickledir  =  \"/Users/zihengchen/Documents/Analysis/workplace/data/pickle/{}/\".format(selection)\n",
    "\n",
    "cuts = GetSelectionCut(selection) + \"& (nBJets{})\".format(nbjetcut)\n",
    "\n",
    "Data = LoadDataframe(pickledir + \"data2016\").query(cuts)\n",
    "MCzz = LoadDataframe(pickledir + \"mcdiboson\").query(cuts)\n",
    "MCdy = LoadDataframe(pickledir + \"mcdy\").query(cuts)\n",
    "MCt  = LoadDataframe(pickledir + \"mct\").query(cuts)\n",
    "MCtt = LoadDataframe(pickledir + \"mctt\").query(cuts)\n"
   ]
  },
  {
   "cell_type": "code",
   "execution_count": 11,
   "metadata": {
    "collapsed": true
   },
   "outputs": [],
   "source": [
    "# signal mc is tt+tW\n",
    "MCsg = pd.concat([MCt,MCtt],ignore_index=True)\n",
    "\n",
    "MCsgf = MCsg.query('genCategory in [17,18,19,20,21] ') # semilep and had\n",
    "MCsg0 = MCsg.query('genCategory in [1,2,3,4,5,6,7,8,9,13,14,15]') #other lep\n",
    "MCsg1 = MCsg.query('genCategory in [16]') #e+j\n",
    "MCsg2 = MCsg.query('genCategory in [10,11,12]') #etau\n",
    "\n",
    "df_list = [MCzz,MCdy,MCsgf,MCsg0,MCsg1,MCsg2,Data]"
   ]
  },
  {
   "cell_type": "markdown",
   "metadata": {},
   "source": [
    "# 2. Plot kinematics"
   ]
  },
  {
   "cell_type": "code",
   "execution_count": 16,
   "metadata": {},
   "outputs": [
    {
     "name": "stdout",
     "output_type": "stream",
     "text": [
      "/Users/zihengchen/Documents/Analysis/workplace/plot/e4j/binned_nBJets/1b/\n"
     ]
    }
   ],
   "source": [
    "pp = pd.read_csv(\"plotparameters4j.csv\")\n",
    "\n",
    "label_list = ['Diboson','V+Jets',\n",
    "              r'$tt/tW \\rightarrow lh$ other',\n",
    "              r'$tt/tW \\rightarrow ll$ other',\n",
    "              r'$tt/tW \\rightarrow e + h$',\n",
    "              r'$tt/tW \\rightarrow e + \\tau$',\n",
    "              'data']\n",
    "color_list = [\"#a32020\", \"#e0301e\", \"#eb8c00\", \"#49feec\", \"deepskyblue\", \"mediumpurple\", \"k\"]\n",
    "plotoutdir = GetPlotDir(selection, nbjetcut)\n",
    "print(plotoutdir)"
   ]
  },
  {
   "cell_type": "code",
   "execution_count": 17,
   "metadata": {},
   "outputs": [
    {
     "name": "stdout",
     "output_type": "stream",
     "text": [
      "finish all making plots\n"
     ]
    }
   ],
   "source": [
    "pp = pd.read_csv(\"plotparameters4j.csv\")\n",
    "for index, row in pp.iterrows():\n",
    "    v,a,b,step,xl = row[\"var\"],row[\"lower\"],row[\"upper\"],row[\"step\"],row[\"xlabel\"]\n",
    "    plotter = SelectionPlotter(v,a,b,step,df_list)\n",
    "    plotter.settingPlot(xl,label_list,color_list)\n",
    "    plotter.makePlot(plotoutdir)\n",
    "    # print out process\n",
    "    print(\"making plots: {0}/{1}\".format(index,len(pp)))\n",
    "    clear_output(wait=True)\n",
    "    plt.close()\n",
    "print('finish all making plots')"
   ]
  },
  {
   "cell_type": "markdown",
   "metadata": {},
   "source": [
    "# 3. Counting"
   ]
  },
  {
   "cell_type": "code",
   "execution_count": 12,
   "metadata": {
    "collapsed": true
   },
   "outputs": [],
   "source": [
    "ctr = SelectionCounter()"
   ]
  },
  {
   "cell_type": "code",
   "execution_count": 17,
   "metadata": {},
   "outputs": [
    {
     "name": "stdout",
     "output_type": "stream",
     "text": [
      "(nBJets>1)\n",
      "MCtt: [26030, 0, 11236, 296, 0, 177, 1513, 2, 10, 6559, 3070, 25242, 638, 0, 10, 606677, 60, 33999, 16, 364, 435]\n",
      "MCtt width: [23995.556356694095, 0, 10385.842400833164, 269.50966637628153, 0, 164.39347117580473, 1360.4571486806017, 1.845136821269989, 9.2142217755317688, 6053.5966406711668, 2830.6914142202731, 23301.987362943881, 585.75799380196258, 0, 9.6373937129974365, 564840.00768890488, 52.907489204779267, 31146.428160859796, 13.084071267396212, 332.41142499260604, 381.78368381573819]\n",
      "MCt : [80, 0, 41, 0, 0, 0, 8, 0, 0, 17, 16, 87, 3, 0, 0, 2422, 1, 136, 0, 2, 1]\n",
      "MCt width: [76.989555489271879, 0, 38.482651887461543, 0, 0, 0, 7.8186323642730713, 0, 0, 17.011470437049866, 15.132277250289917, 82.291029654443264, 2.5238709449768066, 0, 0, 2293.0818665393163, 1.0324233770370483, 128.43699730932713, 0, 2.0864185690879822, 0.00022177828941494229]\n"
     ]
    }
   ],
   "source": [
    "print(\"(nBJets{})\".format(nbjetcut))\n",
    "\n",
    "print(\"MCtt: {}\".format(ctr.countSlt_ByTauDecay(MCtt,withweights=False)) )\n",
    "print(\"MCtt width: {}\".format(ctr.countSlt_ByTauDecay(MCtt,withweights=True)) )\n",
    "\n",
    "print(\"MCt : {}\".format(ctr.countSlt_ByTauDecay(MCt, withweights=False)) )\n",
    "print(\"MCt width: {}\".format(ctr.countSlt_ByTauDecay(MCt, withweights=True)) )"
   ]
  },
  {
   "cell_type": "code",
   "execution_count": 18,
   "metadata": {},
   "outputs": [
    {
     "name": "stdout",
     "output_type": "stream",
     "text": [
      "data:128975.0\n",
      "TotalMC:134167.93900656677\n",
      "------ MC break down ------\n",
      "[  5.25710539e+01   2.85118251e+03   6.29980286e+03   7.22462547e+03\n",
      "   1.11412103e+05   6.32765396e+03]\n"
     ]
    }
   ],
   "source": [
    "ctr.countSlt_Scaled(df_list)"
   ]
  },
  {
   "cell_type": "code",
   "execution_count": 19,
   "metadata": {},
   "outputs": [
    {
     "name": "stdout",
     "output_type": "stream",
     "text": [
      "52.57,2.58\n",
      "2851.18,73.13\n",
      "3443.04,66.85\n",
      "127821.14,155.75\n",
      "128975.00,359.13\n"
     ]
    }
   ],
   "source": [
    "for thisdf in [MCzz, MCdy, MCt, MCtt, Data]:\n",
    "    n = np.sum(thisdf.eventWeight)\n",
    "    nerr = np.sum(thisdf.eventWeight**2)**0.5\n",
    "    print('{:.2f},{:.2f}'.format(n,nerr))"
   ]
  },
  {
   "cell_type": "code",
   "execution_count": 16,
   "metadata": {},
   "outputs": [
    {
     "name": "stdout",
     "output_type": "stream",
     "text": [
      "MCtt : [1811409.0, 1811532.0, 3620281.0, 57057.0, 54227.0, 111125.0, 418126.0, 418126.0, 763147.0, 642646.0, 626108.0, 2350887.0, 643368.0, 627277.0, 2353727.0, 22670017.0, 22653517.0, 4016590.0, 3923504.0, 14718933.0, 70930278.0]\n",
      "MCt  : [23105.0, 23040.0, 46342.0, 694.0, 717.0, 1420.0, 5260.0, 5260.0, 9727.0, 8199.0, 8029.0, 30054.0, 8163.0, 8006.0, 29970.0, 290101.0, 289467.0, 50864.0, 50050.0, 187515.0, 904067.0]\n"
     ]
    }
   ],
   "source": [
    "# print Generator information\n",
    "f = ROOT.TFile(\"../../data/root/2016MC.root\")\n",
    "print(\"MCtt : {}\".format(ctr.countGen_ByTauDecay(f,'ttbar_inclusive')) )\n",
    "temp = np.array(ctr.countGen_ByTauDecay(f,'t_tw'))\n",
    "temp+= np.array(ctr.countGen_ByTauDecay(f,'tbar_tw'))\n",
    "print(\"MCt  : {}\".format(list(temp)) )"
   ]
  }
 ],
 "metadata": {
  "kernelspec": {
   "display_name": "Python 3",
   "language": "python",
   "name": "python3"
  },
  "language_info": {
   "codemirror_mode": {
    "name": "ipython",
    "version": 3
   },
   "file_extension": ".py",
   "mimetype": "text/x-python",
   "name": "python",
   "nbconvert_exporter": "python",
   "pygments_lexer": "ipython3",
   "version": "3.6.1"
  }
 },
 "nbformat": 4,
 "nbformat_minor": 2
}
