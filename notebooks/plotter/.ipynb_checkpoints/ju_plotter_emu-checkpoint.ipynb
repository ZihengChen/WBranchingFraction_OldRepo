{
 "cells": [
  {
   "cell_type": "code",
   "execution_count": 1,
   "metadata": {},
   "outputs": [
    {
     "name": "stdout",
     "output_type": "stream",
     "text": [
      "Welcome to JupyROOT 6.13/02\n"
     ]
    },
    {
     "name": "stderr",
     "output_type": "stream",
     "text": [
      "emu selection *** muon_2016B: 100%|███████████████████████████| 20.0k/20.0k [00:09<00:00, 2.03kit/s]\n",
      "emu selection *** muon_2016C: 100%|███████████████████████████| 8.24k/8.24k [00:04<00:00, 2.04kit/s]\n",
      "emu selection *** muon_2016D: 100%|███████████████████████████| 13.3k/13.3k [00:06<00:00, 2.07kit/s]\n",
      "emu selection *** muon_2016E: 100%|███████████████████████████| 11.1k/11.1k [00:05<00:00, 2.08kit/s]\n",
      "emu selection *** muon_2016F: 100%|███████████████████████████| 8.74k/8.74k [00:04<00:00, 2.11kit/s]\n",
      "emu selection *** muon_2016G: 100%|███████████████████████████| 24.3k/24.3k [00:11<00:00, 2.13kit/s]\n",
      "emu selection *** muon_2016H: 100%|███████████████████████████| 27.5k/27.5k [00:13<00:00, 2.11kit/s]\n",
      "emu selection *** electron_2016B: 100%|███████████████████████| 4.59k/4.59k [00:02<00:00, 2.14kit/s]\n",
      "emu selection *** electron_2016C: 100%|███████████████████████| 1.43k/1.43k [00:00<00:00, 2.14kit/s]\n",
      "emu selection *** electron_2016D: 100%|███████████████████████| 3.06k/3.06k [00:01<00:00, 2.13kit/s]\n",
      "emu selection *** electron_2016E: 100%|███████████████████████| 2.70k/2.70k [00:01<00:00, 2.15kit/s]\n",
      "emu selection *** electron_2016F: 100%|███████████████████████| 2.05k/2.05k [00:00<00:00, 2.15kit/s]\n",
      "emu selection *** electron_2016G: 100%|███████████████████████| 5.87k/5.87k [00:02<00:00, 2.13kit/s]\n",
      "emu selection *** electron_2016H: 100%|███████████████████████| 6.44k/6.44k [00:03<00:00, 2.12kit/s]\n",
      "emu selection *** ww: 100%|███████████████████████████████████████| 359/359 [00:00<00:00, 2.09kit/s]\n",
      "emu selection *** wz_2l2q: 100%|██████████████████████████████████| 377/377 [00:00<00:00, 2.06kit/s]\n",
      "emu selection *** wz_3lnu: 100%|██████████████████████████████████| 258/258 [00:00<00:00, 1.71kit/s]\n",
      "emu selection *** zz_2l2nu: 100%|███████████████████████████████| 63.0/63.0 [00:00<00:00, 2.02kit/s]\n",
      "emu selection *** zz_2l2q: 100%|██████████████████████████████| 1.39k/1.39k [00:00<00:00, 2.11kit/s]\n",
      "emu selection *** zz_4l: 100%|████████████████████████████████| 1.32k/1.32k [00:00<00:00, 2.20kit/s]\n",
      "emu selection *** zjets_m-10to50: 100%|█████████████████████████| 1.00/1.00 [00:00<00:00, 1.08kit/s]\n",
      "emu selection *** zjets_m-50: 100%|███████████████████████████████| 115/115 [00:00<00:00, 18.0kit/s]\n",
      "emu selection *** z2jets_m-10to50: 100%|██████████████████████████| 1.00/1.00 [00:00<00:00, 600it/s]\n",
      "emu selection *** z3jets_m-10to50: 100%|████████████████████████| 3.00/3.00 [00:00<00:00, 1.12kit/s]\n",
      "emu selection *** z4jets_m-10to50: 100%|████████████████████████| 10.0/10.0 [00:00<00:00, 1.62kit/s]\n",
      "emu selection *** z1jets_m-50: 100%|████████████████████████████| 37.0/37.0 [00:00<00:00, 1.88kit/s]\n",
      "emu selection *** z2jets_m-50: 100%|██████████████████████████████| 193/193 [00:00<00:00, 2.05kit/s]\n",
      "emu selection *** z3jets_m-50: 100%|██████████████████████████████| 153/153 [00:00<00:00, 2.05kit/s]\n",
      "emu selection *** z4jets_m-50: 100%|██████████████████████████████| 245/245 [00:00<00:00, 2.21kit/s]\n",
      "emu selection *** w1jets: 100%|█████████████████████████████████| 2.00/2.00 [00:00<00:00, 1.08kit/s]\n",
      "emu selection *** w2jets: 100%|█████████████████████████████████| 4.00/4.00 [00:00<00:00, 1.36kit/s]\n",
      "emu selection *** w3jets: 100%|█████████████████████████████████| 14.0/14.0 [00:00<00:00, 1.77kit/s]\n",
      "emu selection *** w4jets: 100%|█████████████████████████████████| 44.0/44.0 [00:00<00:00, 2.11kit/s]\n",
      "emu selection *** t_tw: 100%|█████████████████████████████████| 2.27k/2.27k [00:01<00:00, 2.18kit/s]\n",
      "emu selection *** tbar_tw: 100%|██████████████████████████████| 2.24k/2.24k [00:00<00:00, 2.30kit/s]\n",
      "emu selection *** ttbar_inclusive: 100%|████████████████████████| 692k/692k [05:14<00:00, 2.20kit/s]\n"
     ]
    }
   ],
   "source": [
    "%run -i '../../scripts/utility_readblt.py' 'emu'"
   ]
  },
  {
   "cell_type": "code",
   "execution_count": 28,
   "metadata": {},
   "outputs": [],
   "source": [
    "from utility_common import *\n",
    "from utility_plotter import *\n",
    "import ROOT\n",
    "from IPython.display import clear_output\n",
    "## add plotting option and load plotting parameter table\n",
    "%matplotlib inline\n",
    "#%qtconsole --style monokai\n",
    "plt.style.use('classic')\n",
    "plt.rc(\"figure\",facecolor=\"w\",figsize=(6,4))\n",
    "plt.rc(\"font\",size=10)\n",
    "plt.rc(\"savefig\",dpi=300)"
   ]
  },
  {
   "cell_type": "markdown",
   "metadata": {},
   "source": [
    "# 1. Read data and MC as dataframe"
   ]
  },
  {
   "cell_type": "code",
   "execution_count": 29,
   "metadata": {},
   "outputs": [],
   "source": [
    "selection  = \"emu\"\n",
    "pickledir  =  \"../../data/pickle/{}/\".format(selection)"
   ]
  },
  {
   "cell_type": "code",
   "execution_count": 13,
   "metadata": {},
   "outputs": [],
   "source": [
    "def prepare_df_list(nbjetcut):\n",
    "\n",
    "    #cuts = GetSelectionCut(selection) + \"& (nBJets{})\".format(nbjetcut)\n",
    "    \n",
    "    cuts = \"(nBJets{})\".format(nbjetcut)\n",
    "\n",
    "    Data = LoadDataframe(pickledir + \"data2016\").query(cuts)\n",
    "    MCzz = LoadDataframe(pickledir + \"mcdiboson\").query(cuts)\n",
    "    MCdy = LoadDataframe(pickledir + \"mcdy\").query(cuts)\n",
    "    MCt  = LoadDataframe(pickledir + \"mct\").query(cuts)\n",
    "    MCtt = LoadDataframe(pickledir + \"mctt\").query(cuts)\n",
    "\n",
    "    Data = Data.drop_duplicates(subset=['runNumber', 'evtNumber'])\n",
    "\n",
    "\n",
    "    # signal mc is tt+tW\n",
    "    MCsg = pd.concat([MCt,MCtt],ignore_index=True)\n",
    "\n",
    "    MCsgf = MCsg.query('(genCategory >= 16) ') # semilep and had\n",
    "    MCsg0 = MCsg.query('genCategory in [1,2,4,5,6,7,8,9]') #other lep\n",
    "    MCsg1 = MCsg.query('genCategory in [3]') #ee\n",
    "    MCsg2 = MCsg.query('genCategory in [10,11,12]') #etau\n",
    "    MCsg3 = MCsg.query('genCategory in [13,14,15]') #mutau\n",
    "\n",
    "    return [MCzz,MCdy,MCsgf,MCsg0,MCsg1,MCsg2,MCsg3,Data],MCt,MCtt\n"
   ]
  },
  {
   "cell_type": "markdown",
   "metadata": {},
   "source": [
    "# 2. Plot kinematics"
   ]
  },
  {
   "cell_type": "code",
   "execution_count": 14,
   "metadata": {},
   "outputs": [],
   "source": [
    "pp = pd.read_csv(\"plotparameters.csv\")\n",
    "label_list = [\"Diboson\",\"V+Jets\",r'$tt/tW \\rightarrow l + h$ (other)',\n",
    "              r'$tt/tW \\rightarrow l + l$ (other) ',\n",
    "              r'$tt/tW \\rightarrow e + \\mu$', \n",
    "              r'$tt/tW \\rightarrow e + \\tau$',\n",
    "              r'$tt/tW \\rightarrow \\mu + \\tau$',\n",
    "              'data']\n",
    "color_list = [\"#a32020\",\"#e0301e\",\"#eb8c00\",\"gold\",\"#49feec\",\"deepskyblue\",\"mediumpurple\",\"k\"]"
   ]
  },
  {
   "cell_type": "code",
   "execution_count": 5,
   "metadata": {},
   "outputs": [
    {
     "name": "stdout",
     "output_type": "stream",
     "text": [
      "finish all making plots\n"
     ]
    }
   ],
   "source": [
    "for nbjetcut in [\"==1\",\">1\",\">=1\"]:\n",
    "    df_list,_,__ = prepare_df_list(nbjetcut)\n",
    "    plotoutdir = GetPlotDir(selection, nbjetcut)\n",
    "    for index, row in pp.iterrows():\n",
    "        v,a,b,step,xl = row[\"var\"],row[\"lower\"],row[\"upper\"],row[\"step\"],row[\"xlabel\"]\n",
    "        \n",
    "        plotter = SelectionPlotter(v,a,b,step,df_list)\n",
    "        plotter.settingPlot(xl,label_list,color_list)\n",
    "        plotter.makePlot(plotoutdir)\n",
    "\n",
    "        print(\"making plots nbjet{0}: {1}/{2}\".format(nbjetcut,index,len(pp)))\n",
    "        clear_output(wait=True)\n",
    "        plt.close()\n",
    "        \n",
    "print('finish all making plots')"
   ]
  },
  {
   "cell_type": "markdown",
   "metadata": {},
   "source": [
    "# 3. Counting"
   ]
  },
  {
   "cell_type": "code",
   "execution_count": 15,
   "metadata": {},
   "outputs": [],
   "source": [
    "nbjetcut = \"==1\"\n",
    "df_list,MCt,MCtt = prepare_df_list(nbjetcut)\n",
    "ctr = SelectionCounter()"
   ]
  },
  {
   "cell_type": "code",
   "execution_count": 24,
   "metadata": {},
   "outputs": [
    {
     "data": {
      "text/plain": [
       "(array([1093.,    0.,    0.,    0.,    0.,  176.,    0.,    0.,    0.,\n",
       "        1139.]),\n",
       " array([1. , 1.2, 1.4, 1.6, 1.8, 2. , 2.2, 2.4, 2.6, 2.8, 3. ]),\n",
       " <a list of 10 Patch objects>)"
      ]
     },
     "execution_count": 24,
     "metadata": {},
     "output_type": "execute_result"
    },
    {
     "data": {
      "image/png": "[encoded data removed]",
      "text/plain": [
       "<matplotlib.figure.Figure at 0x7f756c80dfd0>"
      ]
     },
     "metadata": {},
     "output_type": "display_data"
    }
   ],
   "source": [
    "plt.hist(df_list[3].triggerLetpon)"
   ]
  },
  {
   "cell_type": "code",
   "execution_count": 27,
   "metadata": {},
   "outputs": [
    {
     "data": {
      "image/png": "[encoded data removed]",
      "text/plain": [
       "<matplotlib.figure.Figure at 0x7f7532e46470>"
      ]
     },
     "metadata": {},
     "output_type": "display_data"
    }
   ],
   "source": [
    "plt.rc(\"figure\",facecolor=\"w\",figsize=(6,4))\n",
    "\n",
    "v,a,b,step,xl = \"triggerLetpon\",0,10,1,\"triggerLepton\"\n",
    "plotter = SelectionPlotter(v,a,b,step,df_list)\n",
    "plotter.settingPlot(xl,label_list,color_list,plotWithoutXsErr=True)\n",
    "plotter.makePlot()"
   ]
  },
  {
   "cell_type": "code",
   "execution_count": 12,
   "metadata": {},
   "outputs": [
    {
     "name": "stdout",
     "output_type": "stream",
     "text": [
      "(nBJets==1)\n",
      "MCtt: [96, 62, 380304, 0, 1, 2218, 9, 41, 0, 33, 24741, 107, 32435, 24, 511, 1532, 1606, 78, 94, 2, 1]\n",
      "MCtt width: [77.1549571196083, 46.061023340560496, 354882.40584785293, 0.0, 0.7975679039955139, 2032.3059593985236, 7.602608934044838, 35.672611649148166, 0.0, 29.426343924365938, 22872.83093074424, 93.91901988699101, 29976.976456432058, 20.872980090556666, 459.4771789474762, 1361.2153118692222, 1444.231057904719, 69.21370067819953, 82.63977120257914, 1.7105766534805298, 0.9174104332923889]\n",
      "MCt : [0, 0, 2750, 0, 0, 15, 0, 1, 0, 0, 200, 0, 231, 0, 10, 10, 12, 1, 0, 0, 0]\n",
      "MCt width: [0.0, 0.0, 2622.06937055297, 0.0, 0.0, 13.206016093492508, 0.0, 1.0283392667770386, 0.0, 0.0, 192.18452978599817, 0.0, 209.64404116373044, 0.0, 10.115220129489899, 7.564920367673039, 10.71093612164259, 0.9943454861640929, 0.0, 0.0, 0.0]\n"
     ]
    }
   ],
   "source": [
    "print(\"(nBJets{})\".format(nbjetcut))\n",
    "\n",
    "print(\"MCtt: {}\".format(ctr.countSlt_ByTauDecay(MCtt,withweights=False)) )\n",
    "print(\"MCtt width: {}\".format(ctr.countSlt_ByTauDecay(MCtt,withweights=True)) )\n",
    "\n",
    "print(\"MCt : {}\".format(ctr.countSlt_ByTauDecay(MCt, withweights=False)) )\n",
    "print(\"MCt width: {}\".format(ctr.countSlt_ByTauDecay(MCt, withweights=True)) )"
   ]
  },
  {
   "cell_type": "code",
   "execution_count": 9,
   "metadata": {},
   "outputs": [
    {
     "name": "stdout",
     "output_type": "stream",
     "text": [
      "data:80621.0\n",
      "TotalMC:84014.29989141245\n",
      "------ MC break down ------\n",
      "[  275.82183726   261.41261646   594.06045536   441.36072866\n",
      " 71630.33793852  4670.54532656  6140.76098858]\n"
     ]
    }
   ],
   "source": [
    "ctr.countSlt_Scaled(df_list)"
   ]
  },
  {
   "cell_type": "code",
   "execution_count": 13,
   "metadata": {
    "scrolled": true
   },
   "outputs": [
    {
     "name": "stdout",
     "output_type": "stream",
     "text": [
      "261.41,21.48\n",
      "594.06,11.76\n",
      "3983.80,72.24\n",
      "79493.27,123.19\n",
      "80621.00,283.94\n"
     ]
    }
   ],
   "source": [
    "for thisdf in [df_list[0],df_list[1], MCt, MCtt, df_list[-1]]:\n",
    "    n = np.sum(thisdf.eventWeight)\n",
    "    nerr = np.sum(thisdf.eventWeight**2)**0.5\n",
    "    print('{:.2f},{:.2f}'.format(n,nerr))\n",
    "#mc,h = PlotHistogram(\"lepton2_pt\",0,150,5,\"lepton2_pt [GeV]\", df_list,label_list,color_list)"
   ]
  },
  {
   "cell_type": "code",
   "execution_count": 14,
   "metadata": {},
   "outputs": [
    {
     "name": "stdout",
     "output_type": "stream",
     "text": [
      "MCtt : [1811409.0, 1811532.0, 3620281.0, 57057.0, 54227.0, 111125.0, 418126.0, 407605.0, 763147.0, 642646.0, 626108.0, 2350887.0, 643368.0, 627277.0, 2353727.0, 22670017.0, 22653517.0, 4016590.0, 3923504.0, 14718933.0, 70930278.0]\n",
      "MCt  : [23105.0, 23040.0, 46342.0, 694.0, 717.0, 1420.0, 5260.0, 5158.0, 9727.0, 8199.0, 8029.0, 30054.0, 8163.0, 8006.0, 29970.0, 290101.0, 289467.0, 50864.0, 50050.0, 187515.0, 904067.0]\n"
     ]
    }
   ],
   "source": [
    "# print Generator information\n",
    "f = ROOT.TFile(\"../../data/root/2016MC.root\")\n",
    "print(\"MCtt : {}\".format(ctr.countGen_ByTauDecay(f,'ttbar_inclusive')) )\n",
    "temp = np.array(ctr.countGen_ByTauDecay(f,'t_tw'))\n",
    "temp+= np.array(ctr.countGen_ByTauDecay(f,'tbar_tw'))\n",
    "print(\"MCt  : {}\".format(list(temp)) )"
   ]
  },
  {
   "cell_type": "code",
   "execution_count": null,
   "metadata": {
    "collapsed": true
   },
   "outputs": [],
   "source": []
  }
 ],
 "metadata": {
  "kernelspec": {
   "display_name": "Python 3",
   "language": "python",
   "name": "python3"
  },
  "language_info": {
   "codemirror_mode": {
    "name": "ipython",
    "version": 3
   },
   "file_extension": ".py",
   "mimetype": "text/x-python",
   "name": "python",
   "nbconvert_exporter": "python",
   "pygments_lexer": "ipython3",
   "version": "3.6.4"
  }
 },
 "nbformat": 4,
 "nbformat_minor": 2
}
