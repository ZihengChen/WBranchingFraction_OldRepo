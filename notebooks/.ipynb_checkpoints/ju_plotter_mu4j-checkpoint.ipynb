{
 "cells": [
  {
   "cell_type": "code",
   "execution_count": 2,
   "metadata": {
    "collapsed": true
   },
   "outputs": [],
   "source": [
    "#%run -i '../scripts/utility_readblt_mu4j.py' 'mu4j'"
   ]
  },
  {
   "cell_type": "code",
   "execution_count": 1,
   "metadata": {},
   "outputs": [
    {
     "name": "stdout",
     "output_type": "stream",
     "text": [
      "Welcome to JupyROOT 6.10/00\n"
     ]
    }
   ],
   "source": [
    "from utility_plottool import *\n",
    "from IPython.display import clear_output\n",
    "## add plotting option and load plotting parameter table\n",
    "%matplotlib inline\n",
    "#%qtconsole --style monokai\n",
    "plt.style.use('classic')\n",
    "plt.rc(\"figure\",facecolor=\"w\",figsize=(6,4))\n",
    "plt.rc(\"font\",size=10)\n",
    "plt.rc(\"savefig\",dpi=300)"
   ]
  },
  {
   "cell_type": "markdown",
   "metadata": {},
   "source": [
    "# 1. Read data and MC as dataframe"
   ]
  },
  {
   "cell_type": "code",
   "execution_count": 2,
   "metadata": {
    "collapsed": true
   },
   "outputs": [],
   "source": [
    "selection  = \"mu4j\"\n",
    "nbjetcut   =  \">=1\"\n",
    "\n",
    "pickledir  =  \"/Users/zihengchen/Documents/Analysis/workplace/data/pickle_{}/\".format(selection)\n",
    "zvetomask  =  \"(nBJets{})\".format(nbjetcut)\n",
    "#zvetomask +=  \"& (dilepton_mass>10)\""
   ]
  },
  {
   "cell_type": "code",
   "execution_count": 3,
   "metadata": {
    "collapsed": true
   },
   "outputs": [],
   "source": [
    "MCqcd = LoadDataframe(pickledir +\"mcqcd\").query(zvetomask)\n",
    "MCzz = LoadDataframe(pickledir +\"mcdiboson\").query(zvetomask)\n",
    "MCdy = LoadDataframe(pickledir +\"mcdy\").query(zvetomask)\n",
    "MCt  = LoadDataframe(pickledir +\"mct\").query(zvetomask)\n",
    "MCtt = LoadDataframe(pickledir +\"mctt\").query(zvetomask)\n",
    "Data = LoadDataframe(pickledir +\"data2016\").query(zvetomask)"
   ]
  },
  {
   "cell_type": "code",
   "execution_count": 4,
   "metadata": {
    "collapsed": true
   },
   "outputs": [],
   "source": [
    "# signal mc is tt+tW\n",
    "MCsg = pd.concat([MCt,MCtt],ignore_index=True)\n",
    "MCsgf = MCsg[(MCsg.wdecay == 'e_')   | (MCsg.wdecay == 'tau_')    | (MCsg.wdecay == '_') ]\n",
    "MCsg0 = MCsg[(MCsg.wdecay == 'ee_')  | (MCsg.wdecay == 'emu_')| (MCsg.wdecay == 'mumu_')    |(MCsg.wdecay == 'tautau_') | (MCsg.wdecay == 'etau_')]\n",
    "MCsg1 = MCsg[(MCsg.wdecay == 'mu_')]\n",
    "MCsg2 = MCsg[(MCsg.wdecay == 'mutau_')]\n",
    "\n",
    "df_list = [MCqcd,MCzz,MCdy,MCsgf,MCsg0,MCsg1,MCsg2,Data]"
   ]
  },
  {
   "cell_type": "markdown",
   "metadata": {},
   "source": [
    "# 2. Plot kinematics"
   ]
  },
  {
   "cell_type": "code",
   "execution_count": 5,
   "metadata": {},
   "outputs": [
    {
     "name": "stdout",
     "output_type": "stream",
     "text": [
      "../plot/mu4j/combined/\n"
     ]
    }
   ],
   "source": [
    "label_list = ['QCD','Diboson','V+Jets',\n",
    "              r'$tt/tW \\rightarrow lh$ other',\n",
    "              r'$tt/tW \\rightarrow ll$ other',\n",
    "              r'$tt/tW \\rightarrow \\mu + h$',\n",
    "              r'$tt/tW \\rightarrow \\mu+ \\tau$',\n",
    "              'data']\n",
    "color_list = [\"#a32020\",\"#e0301e\",\"#eb8c00\",\"gold\",\"#49feec\",\"deepskyblue\",\"mediumpurple\",\"k\"]\n",
    "plotoutdir = GetPlotDir(selection, nbjetcut)\n",
    "print(plotoutdir)"
   ]
  },
  {
   "cell_type": "code",
   "execution_count": 6,
   "metadata": {},
   "outputs": [
    {
     "name": "stdout",
     "output_type": "stream",
     "text": [
      "finish all making plots\n"
     ]
    }
   ],
   "source": [
    "pp = pd.read_csv(\"plotparameters4j.csv\")\n",
    "for index, row in pp.iterrows():\n",
    "    v,a,b,step,xl = row[\"var\"],row[\"lower\"],row[\"upper\"],row[\"step\"],row[\"xlabel\"]\n",
    "    PlotHistogram(v,a,b,step,xl,\n",
    "                  df_list,label_list,color_list,\n",
    "                  plotoutdir)\n",
    "    # print out process\n",
    "    print(\"making plots: {0}/{1}\".format(index,len(pp)))\n",
    "    clear_output(wait=True)\n",
    "    plt.close()\n",
    "print('finish all making plots')"
   ]
  },
  {
   "cell_type": "markdown",
   "metadata": {},
   "source": [
    "# 3. Counting"
   ]
  },
  {
   "cell_type": "code",
   "execution_count": 13,
   "metadata": {},
   "outputs": [
    {
     "name": "stdout",
     "output_type": "stream",
     "text": [
      "(nBJets>1)\n",
      "MCtt: [1, 36803, 12637, 0, 2441, 8, 6972, 4394, 36316, 1, 450, 228, 2, 2454, 5, 130, 882062, 29, 58170, 165, 1429]\n",
      "MCt : [0, 106, 36, 0, 6, 0, 15, 12, 119, 0, 2, 1, 0, 5, 0, 0, 3316, 0, 215, 1, 7]\n"
     ]
    }
   ],
   "source": [
    "print(zvetomask)\n",
    "print(\"MCtt: {}\".format(GetDfLentghWithTauDecay(MCtt)) )\n",
    "print(\"MCt : {}\".format(GetDfLentghWithTauDecay(MCt)) )"
   ]
  },
  {
   "cell_type": "code",
   "execution_count": 14,
   "metadata": {},
   "outputs": [
    {
     "name": "stdout",
     "output_type": "stream",
     "text": [
      "(nBJets>1)\n",
      "MCtt: [0.91228669479659164, 32383.366919024978, 11217.57847688469, 0.0, 2142.181485829858, 6.4041630693064704, 6159.2178626553505, 3904.9576433247566, 32187.644750078234, 0.42593709997478862, 391.76675884845838, 201.5853215794524, 1.9066288147614898, 2158.4896485012241, 4.2048796253261429, 106.52784517571288, 785261.27161783364, 24.745213629787393, 51233.132545610839, 138.73429551665873, 1173.306920866733]\n",
      "MCt : [0.0, 92.044472956917247, 31.251137571203643, 0.0, 4.9777603031683935, 0.0, 13.692389953560056, 11.073882154995964, 105.90133101906724, 0.0, 2.0816853883867239, 1.0006030697131578, 0.0, 5.0444258471385481, 0.0, 0.0, 2939.8004408596598, 0.0, 183.25252344553587, 1.0377439970209679, 5.3703407926642832]\n"
     ]
    }
   ],
   "source": [
    "print(zvetomask)\n",
    "print(\"MCtt: {}\".format( list(np.nan_to_num(GetDfWeightWithTauDecay(MCtt)))))\n",
    "print(\"MCt : {}\".format( list(np.nan_to_num(GetDfWeightWithTauDecay(MCt)))))"
   ]
  },
  {
   "cell_type": "code",
   "execution_count": 9,
   "metadata": {},
   "outputs": [
    {
     "name": "stdout",
     "output_type": "stream",
     "text": [
      "data:831763.0\n",
      "TotalMC:861458\n",
      "------ MC break down ------\n",
      "[76869, 148, 31878, 45140, 38187, 636324, 32909]\n"
     ]
    },
    {
     "data": {
      "image/png": "[encoded data removed]",
      "text/plain": [
       "<matplotlib.figure.Figure at 0x12ee37a90>"
      ]
     },
     "metadata": {},
     "output_type": "display_data"
    }
   ],
   "source": [
    "mc,h = PlotHistogram('nMuons',0,10,1,'nMuons',df_list,label_list,color_list)\n",
    "GetHistComp(mc,h)\n",
    "#mc,h = PlotHistogram(\"lepton2_pt\",0,150,5,\"lepton2_pt [GeV]\", df_list,label_list,color_list)"
   ]
  },
  {
   "cell_type": "code",
   "execution_count": 12,
   "metadata": {},
   "outputs": [
    {
     "name": "stdout",
     "output_type": "stream",
     "text": [
      "76869.57,12077.02\n",
      "148.14,2.81\n",
      "31878.49,287.99\n",
      "26394.13,179.97\n",
      "726160.00,363.32\n",
      "831763.00,912.01\n"
     ]
    }
   ],
   "source": [
    "for thisdf in [MCqcd, MCzz, MCdy, MCt, MCtt, Data]:\n",
    "    n = np.sum(thisdf.eventWeight)\n",
    "    nerr = np.sum(thisdf.eventWeight**2)**0.5\n",
    "    print('{:.2f},{:.2f}'.format(n,nerr))"
   ]
  },
  {
   "cell_type": "code",
   "execution_count": 7,
   "metadata": {},
   "outputs": [
    {
     "name": "stdout",
     "output_type": "stream",
     "text": [
      "MCtt : [1811409.0, 3620281.0, 1811532.0, 642646.0, 626107.0, 2350888.0, 643367.0, 627277.0, 2353728.0, 57056.0, 111124.0, 54227.0, 418128.0, 407605.0, 763147.0, 22670017.0, 22653517.0, 4016587.0, 3923498.0, 14718942.0, 70930278.0]\n",
      "MCt  : [23105.0, 46342.0, 23040.0, 8199.0, 8029.0, 30054.0, 8163.0, 8006.0, 29970.0, 694.0, 1420.0, 717.0, 5260.0, 5158.0, 9727.0, 290101.0, 289467.0, 50864.0, 50049.0, 187516.0, 904067.0]\n"
     ]
    }
   ],
   "source": [
    "# print Generator information\n",
    "f = ROOT.TFile(\"../data/root/{}2016MC.root\".format(selection))\n",
    "print(\"MCtt : {}\".format(GetGenNumWithTauDecay(f,'ttbar')) )\n",
    "temp = np.array(GetGenNumWithTauDecay(f,'t_tw'))\n",
    "temp+= np.array(GetGenNumWithTauDecay(f,'tbar_tw'))\n",
    "print(\"MCt  : {}\".format(list(temp)) )"
   ]
  },
  {
   "cell_type": "code",
   "execution_count": null,
   "metadata": {
    "collapsed": true
   },
   "outputs": [],
   "source": []
  }
 ],
 "metadata": {
  "kernelspec": {
   "display_name": "Python 3",
   "language": "python",
   "name": "python3"
  },
  "language_info": {
   "codemirror_mode": {
    "name": "ipython",
    "version": 3
   },
   "file_extension": ".py",
   "mimetype": "text/x-python",
   "name": "python",
   "nbconvert_exporter": "python",
   "pygments_lexer": "ipython3",
   "version": "3.6.1"
  }
 },
 "nbformat": 4,
 "nbformat_minor": 2
}
