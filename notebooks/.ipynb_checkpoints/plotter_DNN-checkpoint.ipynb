{
 "cells": [
  {
   "cell_type": "code",
   "execution_count": 6,
   "metadata": {
    "collapsed": true
   },
   "outputs": [],
   "source": [
    "from utility_plot import *\n",
    "from utility_DNN import *\n",
    "%matplotlib inline\n",
    "plt.style.use('classic')\n",
    "plt.rc(\"figure\",facecolor=\"w\",figsize=(6,4))\n",
    "plt.rc(\"font\",size=10)\n",
    "plt.rc(\"savefig\",dpi=300)"
   ]
  },
  {
   "cell_type": "markdown",
   "metadata": {},
   "source": [
    "# 1. Load Data"
   ]
  },
  {
   "cell_type": "code",
   "execution_count": 7,
   "metadata": {
    "collapsed": true
   },
   "outputs": [],
   "source": [
    "## read data and MC as dataframe\n",
    "pickledir  = \"/Users/zihengchen/Documents/Analysis/BLTReader/data/pickle_mumu/\"\n",
    "zvetomask  =  \"(dilepton_mass>10) & (dilepton_mass<80 | dilepton_mass>100)\"\n",
    "antichargemask =  \"(lepton1_q == -lepton2_q)\"\n",
    "samechargemask =  \"(lepton1_q ==  lepton2_q)\"\n",
    "\n",
    "# Monte Carlo\n",
    "MCzz  = pd.read_pickle(pickledir+\"mc/ntuple_zz_2l2q.pkl\").query(zvetomask+\"&\"+antichargemask)\n",
    "MCdyl = pd.read_pickle(pickledir+\"mc/ntuple_zjets_m-10to50.pkl\").query(zvetomask+\"&\"+antichargemask)\n",
    "MCdy  = pd.read_pickle(pickledir+\"mc/ntuple_zjets_m-50.pkl\").query(zvetomask+\"&\"+antichargemask)\n",
    "MCt   = pd.read_pickle(pickledir+\"mc/ntuple_t_tw.pkl\").query(zvetomask+\"&\"+antichargemask)\n",
    "MCtt  = pd.read_pickle(pickledir+\"mctt/ntuple_ttbar_lep.pkl\").query(zvetomask+\"&\"+antichargemask)\n",
    "# Data 2016\n",
    "Raw   = LoadDataframe(pickledir +\"data2016\").query(zvetomask)\n",
    "Fake  = Raw.query(samechargemask)\n",
    "Data  = Raw.query(antichargemask)\n",
    "# splitting ttbar\n",
    "MCtt0 = MCtt[ (MCtt.ttlepstate == 'ee') |(MCtt.ttlepstate == 'emu') |(MCtt.ttlepstate == 'mumu') ]\n",
    "MCtt1 = MCtt[(MCtt.ttlepstate == 'etau') | (MCtt.ttlepstate == 'mutau') ]\n",
    "MCtt2 = MCtt[MCtt.ttlepstate == 'tautau']\n",
    "\n"
   ]
  },
  {
   "cell_type": "markdown",
   "metadata": {},
   "source": [
    "# 2. Prediction"
   ]
  },
  {
   "cell_type": "code",
   "execution_count": 8,
   "metadata": {},
   "outputs": [
    {
     "name": "stdout",
     "output_type": "stream",
     "text": [
      "load net\n"
     ]
    },
    {
     "name": "stderr",
     "output_type": "stream",
     "text": [
      "/Users/zihengchen/anaconda/lib/python3.6/site-packages/ipykernel_launcher.py:22: SettingWithCopyWarning: \n",
      "A value is trying to be set on a copy of a slice from a DataFrame.\n",
      "Try using .loc[row_indexer,col_indexer] = value instead\n",
      "\n",
      "See the caveats in the documentation: http://pandas.pydata.org/pandas-docs/stable/indexing.html#indexing-view-versus-copy\n"
     ]
    }
   ],
   "source": [
    "net = torch.load(\"DNN.pt\")\n",
    "dflist = [Fake,MCzz,MCdyl,MCdy,MCt,MCtt0,MCtt1,MCtt2,Data]\n",
    "print(\"load net\")\n",
    "net = net.cpu()\n",
    "NFeature = 69\n",
    "\n",
    "for df in dflist:#range(len(mydflist)):\n",
    "    removecollist = ['eventWeight','nBJets','nElectrons', 'nJets', 'nMuons', 'nPV','ttlepstate',\n",
    "                     'lepton1_q','lepton2_q','lepton1_mother','lepton2_mother']\n",
    "    temp = df.drop(removecollist, axis=1)\n",
    "    temp = temp.reindex()\n",
    "    temp['nntag'] = np.ones(len(temp.index)).astype(int)\n",
    "    tempset    = MyDataset(temp.as_matrix(),NFeature)\n",
    "    temploader = DataLoader(tempset, batch_size=tempset.__len__(),shuffle=False, num_workers=1)\n",
    "    tempiter = iter(temploader).next()\n",
    "    tempinputs   = tempiter[\"feature\"]\n",
    "    templabels   = tempiter[\"label\"]\n",
    "    tempoutputs  = net(Variable(tempinputs))\n",
    "    temppredicts = torch.max(tempoutputs.data, 1)[1] # return likelihood, predict\n",
    "    temppredicts = temppredicts.numpy()\n",
    "    #df = df.reindex()\n",
    "    df[\"nntag\"] = pd.Series(temppredicts,index=df.index)"
   ]
  },
  {
   "cell_type": "markdown",
   "metadata": {},
   "source": [
    "# 3. Making Plots"
   ]
  },
  {
   "cell_type": "code",
   "execution_count": 9,
   "metadata": {
    "collapsed": true
   },
   "outputs": [],
   "source": [
    "cata=2\n",
    "Fake = Fake[Fake.nntag==cata]\n",
    "MCzz = MCzz[MCzz.nntag==cata]\n",
    "MCdyl = MCdyl[MCdyl.nntag==cata]\n",
    "MCdy = MCdy[MCdy.nntag==cata]\n",
    "MCt = MCt[MCt.nntag==cata]\n",
    "MCtt0 = MCtt0[MCtt0.nntag==cata]\n",
    "MCtt1 = MCtt1[MCtt1.nntag==cata]\n",
    "MCtt2 = MCtt2[MCtt2.nntag==cata]\n",
    "Data = Data[Data.nntag==cata]\n",
    "SF = np.array([1,0.008,18.935,4.227,1.297,0.0387])"
   ]
  },
  {
   "cell_type": "code",
   "execution_count": 5,
   "metadata": {},
   "outputs": [
    {
     "data": {
      "text/plain": [
       "<matplotlib.figure.Figure at 0x13c7f17f0>"
      ]
     },
     "metadata": {},
     "output_type": "display_data"
    }
   ],
   "source": [
    "pp = pd.read_csv(\"plotparameters.csv\")\n",
    "pp = pp.drop(50)\n",
    "\n",
    "for index, row in pp.iterrows():\n",
    "    v,a,b,step,xl =  row[\"var\"],row[\"lower\"],row[\"upper\"],row[\"step\"],row[\"xlabel\"]\n",
    "    mybin = np.arange(a,b,step)\n",
    "    \n",
    "    hfake,_ = np.histogram(Fake[v],bins=mybin)\n",
    "    hdata,_ = np.histogram(Data[v],bins=mybin)\n",
    "    \n",
    "    hzz,_ = np.histogram(MCzz[v],bins=mybin,weights=MCzz.eventWeight*SF[1])\n",
    "    hdyl,_ = np.histogram(MCdyl[v],bins=mybin,weights=MCdyl.eventWeight*SF[2])\n",
    "    hdy,_ = np.histogram(MCdy[v],bins=mybin,weights=MCdy.eventWeight*SF[3])\n",
    "    ht ,_ = np.histogram(MCt [v],bins=mybin,weights=MCt.eventWeight*SF[4])\n",
    "    htt0,_ = np.histogram(MCtt0[v],bins=mybin,weights=MCtt0.eventWeight*SF[5])\n",
    "    htt1,_ = np.histogram(MCtt1[v],bins=mybin,weights=MCtt1.eventWeight*SF[5])\n",
    "    htt2,_ = np.histogram(MCtt2[v],bins=mybin,weights=MCtt2.eventWeight*SF[5])\n",
    "    hbackground = hfake + hzz + hdyl + hdy + ht \n",
    "    \n",
    "    center = mybin[:-1]\n",
    "    # 1. show MC\n",
    "    plt.bar(center, hbackground , width=step, bottom=None,lw=0,color=\"0.8\",alpha=0.6,\n",
    "            label='background')\n",
    "    plt.bar(center, htt2 , width=step, bottom=hbackground,lw=0,color=\"#03076c\",alpha=0.6,\n",
    "            label=r'$t\\bar{t} \\rightarrow ^\\tau\\mu + ^\\tau\\mu$')\n",
    "    plt.bar(center, htt1 , width=step, bottom=hbackground+htt2,lw=0,color=\"#54c3d7\",alpha=0.6,\n",
    "            label=r'$t\\bar{t} \\rightarrow \\mu + ^\\tau\\mu$')\n",
    "    plt.bar(center, htt0, width=step, bottom=hbackground+htt2+htt1,lw=0,color=\"#49feec\",alpha=0.6,\n",
    "            label=r'$t\\bar{t} \\rightarrow \\mu + \\mu$')\n",
    "    \n",
    "    hmctotal = hbackground+htt2+htt1+htt0\n",
    "    center = mybin[:-1]+step/2\n",
    "    plt.errorbar(center,hmctotal,yerr=hmctotal**0.5,color=\"k\",fmt='none',lw=200/mybin.size, mew=0, alpha=0.2)\n",
    "    # 2. show data\n",
    "    plt.errorbar(center,hdata,yerr=hdata**0.5,color=\"k\",fmt='.', label=\"data\")\n",
    "    \n",
    "    # 3. plot settings\n",
    "    if xl in [\"lepton_delta_phi\",\"bjet_delta_phi\",\"lbjet_delta_phi\"]:\n",
    "        plt.legend(fontsize=10,loc=\"upper left\")\n",
    "    else:\n",
    "        plt.legend(fontsize=10,loc=\"upper right\")\n",
    "        plt.text(0.04*b+0.96*a, 1.35*hmctotal.max(), r'CMS $preliminary$',style=\"italic\",fontsize=\"15\",fontweight='bold')\n",
    "        \n",
    "    plt.grid()\n",
    "    plt.ylim(1,1.5*hmctotal.max())\n",
    "    plt.xlim(a,b)\n",
    "    #plt.ylim(1,10*h.max())\n",
    "    #plt.yscale('log')\n",
    "    plt.xlabel(xl)\n",
    "    plt.title(\"L=35.7/fb (13TeV)\",loc=\"right\")\n",
    "    plt.savefig(\"../plotdnn/nosubtract/{}.png\".format(v))\n",
    "    plt.clf()\n",
    "    "
   ]
  },
  {
   "cell_type": "code",
   "execution_count": 6,
   "metadata": {},
   "outputs": [
    {
     "data": {
      "text/plain": [
       "<matplotlib.figure.Figure at 0x13b9a0278>"
      ]
     },
     "metadata": {},
     "output_type": "display_data"
    }
   ],
   "source": [
    "pp = pd.read_csv(\"plotparameters.csv\")\n",
    "pp = pp.drop(50)\n",
    "SF = np.array([1,0.008,18.935,4.227,1.297,0.0387])\n",
    "for index, row in pp.iterrows():\n",
    "    v,a,b,step,xl =  row[\"var\"],row[\"lower\"],row[\"upper\"],row[\"step\"],row[\"xlabel\"]\n",
    "    mybin = np.arange(a,b,step)\n",
    "    \n",
    "    hfake,_ = np.histogram(Fake[v],bins=mybin)\n",
    "    hdata,_ = np.histogram(Data[v],bins=mybin)\n",
    "    \n",
    "    hzz,_ = np.histogram(MCzz[v],bins=mybin,weights=MCzz.eventWeight*SF[1])\n",
    "    hdyl,_ = np.histogram(MCdyl[v],bins=mybin,weights=MCdyl.eventWeight*SF[2])\n",
    "    hdy,_ = np.histogram(MCdy[v],bins=mybin,weights=MCdy.eventWeight*SF[3])\n",
    "    ht ,_ = np.histogram(MCt [v],bins=mybin,weights=MCt.eventWeight*SF[4])\n",
    "    htt0,_ = np.histogram(MCtt0[v],bins=mybin,weights=MCtt0.eventWeight*SF[5])\n",
    "    htt1,_ = np.histogram(MCtt1[v],bins=mybin,weights=MCtt1.eventWeight*SF[5])\n",
    "    htt2,_ = np.histogram(MCtt2[v],bins=mybin,weights=MCtt2.eventWeight*SF[5])\n",
    "    hbackground = hfake + hzz + hdyl + hdy + ht \n",
    "    \n",
    "    center = mybin[:-1]\n",
    "    # 1. show MC\n",
    "\n",
    "    plt.bar(center, htt2 , width=step, bottom=None,lw=0,color=\"#03076c\",alpha=0.6,\n",
    "            label=r'$t\\bar{t} \\rightarrow ^\\tau\\mu + ^\\tau\\mu$')\n",
    "    plt.bar(center, htt1 , width=step, bottom=htt2,lw=0,color=\"#54c3d7\",alpha=0.6,\n",
    "            label=r'$t\\bar{t} \\rightarrow \\mu + ^\\tau\\mu$')\n",
    "    plt.bar(center, htt0, width=step, bottom=htt2+htt1,lw=0,color=\"#49feec\",alpha=0.6,\n",
    "            label=r'$t\\bar{t} \\rightarrow \\mu + \\mu$')\n",
    "    \n",
    "    hmctotal = htt2+htt1+htt0\n",
    "    center = mybin[:-1]+step/2\n",
    "    plt.errorbar(center,hmctotal,yerr=hmctotal**0.5,color=\"k\",fmt='none',lw=200/mybin.size, mew=0, alpha=0.2)\n",
    "    # 2. show data\n",
    "    plt.errorbar(center,hdata-hbackground,yerr=hdata**0.5,color=\"k\",fmt='.', label=\"data\")\n",
    "    \n",
    "    # 3. plot settings\n",
    "    if xl in [\"lepton_delta_phi\",\"bjet_delta_phi\",\"lbjet_delta_phi\"]:\n",
    "        plt.legend(fontsize=10,loc=\"upper left\")\n",
    "    else:\n",
    "        plt.legend(fontsize=10,loc=\"upper right\")\n",
    "        plt.text(0.04*b+0.96*a, 1.35*hmctotal.max(), r'CMS $preliminary$',style=\"italic\",fontsize=\"15\",fontweight='bold')\n",
    "        \n",
    "    plt.grid()\n",
    "    plt.ylim(1,1.5*hmctotal.max())\n",
    "    plt.xlim(a,b)\n",
    "    #plt.ylim(1,10*h.max())\n",
    "    #plt.yscale('log')\n",
    "    plt.xlabel(xl)\n",
    "    plt.title(\"L=35.7/fb (13TeV)\",loc=\"right\")\n",
    "    plt.savefig(\"../plotdnn/subtract/{}.png\".format(v))\n",
    "    plt.clf()"
   ]
  },
  {
   "cell_type": "markdown",
   "metadata": {},
   "source": [
    "# 4. pT plot"
   ]
  },
  {
   "cell_type": "code",
   "execution_count": 11,
   "metadata": {},
   "outputs": [
    {
     "data": {
      "image/png": "[encoded data removed]",
      "text/plain": [
       "<matplotlib.figure.Figure at 0x13fc153c8>"
      ]
     },
     "metadata": {},
     "output_type": "display_data"
    }
   ],
   "source": [
    "    l2_pt_direct   = np.r_[MCtt0.lepton2_pt, MCtt1[(abs(MCtt1.lepton2_mother)==24)| (MCtt1.lepton2_mother==0)].lepton2_pt]\n",
    "    l2_pt_direct_w = np.r_[MCtt0.eventWeight, MCtt1[(abs(MCtt1.lepton2_mother)==24) | (MCtt1.lepton2_mother==0)].eventWeight]\n",
    "    l2_pt_indirect = np.r_[MCtt2.lepton2_pt, MCtt1[abs(MCtt1.lepton2_mother)==15].lepton2_pt]\n",
    "    l2_pt_indirect_w= np.r_[MCtt2.eventWeight, MCtt1[abs(MCtt1.lepton2_mother)==15].eventWeight]  \n",
    "    \n",
    "    v,a,b,step,xl =  'lepton2_pt',0,150,5,'lepton2_pt [GeV]'\n",
    "    mybin = np.arange(a,b,step)\n",
    "    \n",
    "    hfake,_ = np.histogram(Fake[v],bins=mybin)\n",
    "    hdata,_ = np.histogram(Data[v],bins=mybin)\n",
    "    \n",
    "    hzz,_ = np.histogram(MCzz[v],bins=mybin,  weights=MCzz.eventWeight *SF[1])\n",
    "    hdyl,_ = np.histogram(MCdyl[v],bins=mybin,weights=MCdyl.eventWeight*SF[2])\n",
    "    hdy,_ = np.histogram(MCdy[v],bins=mybin,  weights=MCdy.eventWeight *SF[3])\n",
    "    ht ,_ = np.histogram(MCt [v],bins=mybin,  weights=MCt.eventWeight  *SF[4])\n",
    "    htt0,_ = np.histogram(MCtt0[v],bins=mybin,weights=MCtt0.eventWeight*SF[5]*17.7/18.5)\n",
    "    htt1,_ = np.histogram(MCtt1[v],bins=mybin,weights=MCtt1.eventWeight*SF[5]*70.7/66.6)\n",
    "    htt2,_ = np.histogram(MCtt2[v],bins=mybin,weights=MCtt2.eventWeight*SF[5]*80.5/75.8)\n",
    "    hbackground = hfake + hzz + hdyl + hdy + ht \n",
    "    \n",
    "    center = mybin[:-1]\n",
    "    # 1. show MC\n",
    "    plt.bar(center, htt2 , width=step, bottom=None,lw=0,color=\"#03076c\",alpha=0.6,\n",
    "            label=r'$t\\bar{t} \\rightarrow ^\\tau\\mu + ^\\tau\\mu$')\n",
    "    plt.bar(center, htt1 , width=step, bottom=htt2,lw=0,color=\"#54c3d7\",alpha=0.6,\n",
    "            label=r'$t\\bar{t} \\rightarrow \\mu + ^\\tau\\mu$')\n",
    "    plt.bar(center, htt0, width=step, bottom=htt2+htt1,lw=0,color=\"#49feec\",alpha=0.6,\n",
    "            label=r'$t\\bar{t} \\rightarrow \\mu + \\mu$')\n",
    "    \n",
    "    hmctotal = htt2+htt1+htt0\n",
    "    center = mybin[:-1]+step/2\n",
    "    plt.errorbar(center,hmctotal,yerr=hmctotal**0.5,color=\"k\",fmt='none',lw=200/mybin.size, mew=0, alpha=0.2)\n",
    "    # 2. show data\n",
    "    plt.errorbar(center,hdata-hbackground,yerr=hdata**0.5,color=\"k\",fmt='.', label=\"data\")\n",
    "    # 3. indirect\n",
    "    histmother = plt.hist([l2_pt_indirect,l2_pt_direct],bins=mybin,stacked=True,histtype=\"step\",\n",
    "             #weights=[np.ones(l2_pt_indirect.size)*SF[5],np.ones(l2_pt_direct.size)*SF[5]],\n",
    "             weights=[l2_pt_indirect_w*SF[5],l2_pt_direct_w*SF[5]],\n",
    "             color=[\"k\",\"gray\"],label=[r'Indirect $^\\tau\\mu$',r'Direct $\\mu$'])\n",
    "    \n",
    "    # 4. plot settings\n",
    "    plt.legend(fontsize=10,loc=\"upper right\")\n",
    "    plt.text(0.04*b+0.96*a, 3600, r'CMS $preliminary$',style=\"italic\",fontsize=\"15\",fontweight='bold')\n",
    "        \n",
    "    plt.grid()\n",
    "    plt.ylim(1,4000)\n",
    "    plt.xlim(a,b)\n",
    "    #plt.ylim(1,10*h.max())\n",
    "    #plt.yscale('log')\n",
    "    plt.xlabel(xl)\n",
    "    plt.title(\"L=35.7/fb (13TeV)\",loc=\"right\")\n",
    "    plt.savefig(\"../plotdnn/subtract/_{}.png\".format(v))\n",
    "    "
   ]
  },
  {
   "cell_type": "code",
   "execution_count": 22,
   "metadata": {},
   "outputs": [
    {
     "name": "stdout",
     "output_type": "stream",
     "text": [
      "6349.09404916\n"
     ]
    },
    {
     "data": {
      "text/plain": [
       "0.42169201436053233"
      ]
     },
     "execution_count": 22,
     "metadata": {},
     "output_type": "execute_result"
    }
   ],
   "source": [
    "print(np.sum(a[0][1]))\n",
    "np.sum(a[0][0])/np.sum(a[0][1])"
   ]
  },
  {
   "cell_type": "code",
   "execution_count": 6,
   "metadata": {},
   "outputs": [
    {
     "data": {
      "text/plain": [
       "7967.0658807722548"
      ]
     },
     "execution_count": 6,
     "metadata": {},
     "output_type": "execute_result"
    }
   ],
   "source": [
    "np.sum(hdata-hbackground)"
   ]
  },
  {
   "cell_type": "code",
   "execution_count": 16,
   "metadata": {},
   "outputs": [
    {
     "data": {
      "image/png": "[encoded data removed]",
      "text/plain": [
       "<matplotlib.figure.Figure at 0x144cbf710>"
      ]
     },
     "metadata": {},
     "output_type": "display_data"
    }
   ],
   "source": [
    "    a = plt.hist([l2_pt_indirect,l2_pt_direct],bins=mybin,stacked=True,histtype=\"step\",\n",
    "             #weights=[np.ones(l2_pt_indirect.size)*SF[5],np.ones(l2_pt_direct.size)*SF[5]],\n",
    "             weights=[l2_pt_indirect_w*SF[5],l2_pt_direct_w*SF[5]],\n",
    "             color=[\"k\",\"gray\"],label=[r'Indirect $^\\tau\\mu$',r'Direct $\\mu$'])"
   ]
  },
  {
   "cell_type": "code",
   "execution_count": 8,
   "metadata": {},
   "outputs": [
    {
     "data": {
      "image/png": "[encoded data removed]",
      "text/plain": [
       "<matplotlib.figure.Figure at 0x13b0816d8>"
      ]
     },
     "metadata": {},
     "output_type": "display_data"
    }
   ],
   "source": [
    "    l1_pt_direct   = np.r_[MCtt0.lepton1_pt, MCtt1[(abs(MCtt1.lepton1_mother)==24)| (MCtt1.lepton1_mother==0)].lepton1_pt]\n",
    "    l1_pt_direct_w = np.r_[MCtt0.eventWeight, MCtt1[(abs(MCtt1.lepton1_mother)==24) | (MCtt1.lepton1_mother==0)].eventWeight]\n",
    "    l1_pt_indirect = np.r_[MCtt2.lepton1_pt, MCtt1[abs(MCtt1.lepton1_mother)==15].lepton1_pt]\n",
    "    l1_pt_indirect_w= np.r_[MCtt2.eventWeight, MCtt1[abs(MCtt1.lepton1_mother)==15].eventWeight]  \n",
    "    \n",
    "    v,a,b,step,xl =  'lepton1_pt',0,150,5,'lepton1_pt [GeV]'\n",
    "    mybin = np.arange(a,b,step)\n",
    "    \n",
    "    hfake,_ = np.histogram(Fake[v],bins=mybin)\n",
    "    hdata,_ = np.histogram(Data[v],bins=mybin)\n",
    "    \n",
    "    hzz,_ = np.histogram(MCzz[v],bins=mybin,  weights=MCzz.eventWeight *SF[1])\n",
    "    hdyl,_ = np.histogram(MCdyl[v],bins=mybin,weights=MCdyl.eventWeight*SF[2])\n",
    "    hdy,_ = np.histogram(MCdy[v],bins=mybin,  weights=MCdy.eventWeight *SF[3])\n",
    "    ht ,_ = np.histogram(MCt [v],bins=mybin,  weights=MCt.eventWeight  *SF[4])\n",
    "    htt0,_ = np.histogram(MCtt0[v],bins=mybin,weights=MCtt0.eventWeight*SF[5])\n",
    "    htt1,_ = np.histogram(MCtt1[v],bins=mybin,weights=MCtt1.eventWeight*SF[5])\n",
    "    htt2,_ = np.histogram(MCtt2[v],bins=mybin,weights=MCtt2.eventWeight*SF[5])\n",
    "    hbackground = hfake + hzz + hdyl + hdy + ht \n",
    "    \n",
    "    center = mybin[:-1]\n",
    "    # 1. show MC\n",
    "    plt.bar(center, htt2 , width=step, bottom=None,lw=0,color=\"#03076c\",alpha=0.6,\n",
    "            label=r'$t\\bar{t} \\rightarrow ^\\tau\\mu + ^\\tau\\mu$')\n",
    "    plt.bar(center, htt1 , width=step, bottom=htt2,lw=0,color=\"#54c3d7\",alpha=0.6,\n",
    "            label=r'$t\\bar{t} \\rightarrow \\mu + ^\\tau\\mu$')\n",
    "    plt.bar(center, htt0, width=step, bottom=htt2+htt1,lw=0,color=\"#49feec\",alpha=0.6,\n",
    "            label=r'$t\\bar{t} \\rightarrow \\mu + \\mu$')\n",
    "    \n",
    "    hmctotal = htt2+htt1+htt0\n",
    "    center = mybin[:-1]+step/2\n",
    "    plt.errorbar(center,hmctotal,yerr=hmctotal**0.5,color=\"k\",fmt='none',lw=200/mybin.size, mew=0, alpha=0.2)\n",
    "    # 2. show data\n",
    "    plt.errorbar(center,hdata-hbackground,yerr=hdata**0.5,color=\"k\",fmt='.', label=\"data\")\n",
    "    # 3. indirect\n",
    "    plt.hist([l1_pt_indirect,l1_pt_direct],bins=mybin,stacked=True,histtype=\"step\",\n",
    "             #weights=[np.ones(l2_pt_indirect.size)*SF[5],np.ones(l2_pt_direct.size)*SF[5]],\n",
    "             weights=[l1_pt_indirect_w*SF[5],l1_pt_direct_w*SF[5]],\n",
    "             color=[\"k\",\"gray\"],label=[r'Indirect $^\\tau\\mu$',r'Direct $\\mu$'])\n",
    "    \n",
    "    # 4. plot settings\n",
    "    plt.legend(fontsize=10,loc=\"upper right\")\n",
    "    plt.text(0.04*b+0.96*a, 2250, r'CMS $preliminary$',style=\"italic\",fontsize=\"15\",fontweight='bold')\n",
    "        \n",
    "    plt.grid()\n",
    "    plt.ylim(1,2500)\n",
    "    plt.xlim(a,b)\n",
    "    #plt.ylim(1,10*h.max())\n",
    "    #plt.yscale('log')\n",
    "    plt.xlabel(xl)\n",
    "    plt.title(\"L=35.7/fb (13TeV)\",loc=\"right\")\n",
    "    plt.savefig(\"../plotdnn/subtract/_{}.png\".format(v))\n"
   ]
  },
  {
   "cell_type": "code",
   "execution_count": null,
   "metadata": {
    "collapsed": true
   },
   "outputs": [],
   "source": []
  },
  {
   "cell_type": "code",
   "execution_count": null,
   "metadata": {
    "collapsed": true
   },
   "outputs": [],
   "source": []
  },
  {
   "cell_type": "code",
   "execution_count": null,
   "metadata": {
    "collapsed": true
   },
   "outputs": [],
   "source": []
  }
 ],
 "metadata": {
  "kernelspec": {
   "display_name": "Python 3",
   "language": "python",
   "name": "python3"
  },
  "language_info": {
   "codemirror_mode": {
    "name": "ipython",
    "version": 3
   },
   "file_extension": ".py",
   "mimetype": "text/x-python",
   "name": "python",
   "nbconvert_exporter": "python",
   "pygments_lexer": "ipython3",
   "version": "3.6.1"
  }
 },
 "nbformat": 4,
 "nbformat_minor": 2
}
