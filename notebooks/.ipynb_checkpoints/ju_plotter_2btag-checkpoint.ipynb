{
 "cells": [
  {
   "cell_type": "code",
   "execution_count": 4,
   "metadata": {
    "collapsed": true
   },
   "outputs": [],
   "source": [
    "# First make BLT to pickle if not made\n",
    "#%run -i 'utility_readBLT_2btag.py'\n",
    "#%run -i 'utility_printyeilds.py'"
   ]
  },
  {
   "cell_type": "code",
   "execution_count": 1,
   "metadata": {
    "collapsed": true
   },
   "outputs": [],
   "source": [
    "from utility_plot import *\n",
    "## add plotting option and load plotting parameter table\n",
    "%matplotlib inline\n",
    "#%qtconsole --style monokai\n",
    "plt.style.use('classic')\n",
    "plt.rc(\"figure\",facecolor=\"w\",figsize=(6,4))\n",
    "plt.rc(\"font\",size=10)\n",
    "plt.rc(\"savefig\",dpi=300)"
   ]
  },
  {
   "cell_type": "markdown",
   "metadata": {},
   "source": [
    "# 1. Read data and MC as dataframe"
   ]
  },
  {
   "cell_type": "code",
   "execution_count": 2,
   "metadata": {
    "collapsed": true
   },
   "outputs": [],
   "source": [
    "pickledir  = \"/Users/zihengchen/Documents/Analysis/BLTReader/data/pickle_mumu_2btag/\"\n",
    "zvetomask  =  \" (lepton2_pt>5) & (dilepton_mass>10) & (dilepton_mass<80 | dilepton_mass>100)\"\n",
    "antichargemask =  \"(lepton1_q == -lepton2_q)\"\n",
    "samechargemask =  \"(lepton1_q ==  lepton2_q)\"\n",
    "\n",
    "# Monte Carlo\n",
    "MCzz  = pd.read_pickle(pickledir+\"mc/ntuple_zz_2l2q.pkl\").query(zvetomask+\"&\"+antichargemask)\n",
    "MCdyl = pd.read_pickle(pickledir+\"mc/ntuple_zjets_m-10to50.pkl\").query(zvetomask+\"&\"+antichargemask)\n",
    "MCdy  = pd.read_pickle(pickledir+\"mc/ntuple_zjets_m-50.pkl\").query(zvetomask+\"&\"+antichargemask)\n",
    "MCta  = pd.read_pickle(pickledir+\"mc/ntuple_t_tw.pkl\").query(zvetomask+\"&\"+antichargemask)\n",
    "MCtb  = pd.read_pickle(pickledir+\"mc/ntuple_tbar_tw.pkl\").query(zvetomask+\"&\"+antichargemask)\n",
    "MCt   = pd.concat([MCta,MCtb],ignore_index=True)\n",
    "MCtt  = pd.read_pickle(pickledir+\"mctt/ntuple_ttbar_lep.pkl\").query(zvetomask+\"&\"+antichargemask)\n",
    "# Data 2016\n",
    "Raw   = LoadDataframe(pickledir +\"data2016\").query(zvetomask)\n",
    "Fake  = Raw.query(samechargemask)\n",
    "Data  = Raw.query(antichargemask)"
   ]
  },
  {
   "cell_type": "code",
   "execution_count": 3,
   "metadata": {
    "collapsed": true
   },
   "outputs": [],
   "source": [
    "MCtt0 = MCtt[(MCtt.ttlepstate == 'mumu') ]\n",
    "MCtt1 = MCtt[(MCtt.ttlepstate == 'mutau')]\n",
    "MCtt2 = MCtt[MCtt.ttlepstate == 'tautau']\n",
    "MCttf = MCtt[(MCtt.ttlepstate == 'ee') |(MCtt.ttlepstate == 'emu') | (MCtt.ttlepstate == 'etau') ]"
   ]
  },
  {
   "cell_type": "markdown",
   "metadata": {},
   "source": [
    "# 2. Plot kinematics"
   ]
  },
  {
   "cell_type": "code",
   "execution_count": 4,
   "metadata": {},
   "outputs": [
    {
     "data": {
      "text/plain": [
       "<matplotlib.figure.Figure at 0x1169e1048>"
      ]
     },
     "metadata": {},
     "output_type": "display_data"
    }
   ],
   "source": [
    "pp = pd.read_csv(\"plotparameters.csv\")\n",
    "pp = pp.drop(50)\n",
    "for index, row in pp.iterrows():\n",
    "    v,a,b,step,xl = row[\"var\"],row[\"lower\"],row[\"upper\"],row[\"step\"],row[\"xlabel\"]\n",
    "    mybin = np.arange(a,b,step)\n",
    "    # 1. show MC\n",
    "    #SF = np.array([1,0.008,18.935,4.227,1.297,0.387])\n",
    "    SF = np.array([1,0.008,18.935,4.23,1.297,0.0387])\n",
    "    mc = plt.hist([Fake[v],MCzz[v],MCdyl[v],MCdy[v],MCt[v],\n",
    "                   MCtt2[v],MCtt1[v],MCtt0[v],MCttf[v],],\n",
    "            weights=[ SF[0]*Fake.eventWeight,\n",
    "                      SF[1]*MCzz.eventWeight,\n",
    "                      SF[2]*MCdyl.eventWeight,\n",
    "                      SF[3]*MCdy.eventWeight,\n",
    "                      SF[4]*MCt.eventWeight,\n",
    "                      SF[5]*MCtt2.eventWeight,\n",
    "                      SF[5]*MCtt1.eventWeight,\n",
    "                      SF[5]*MCtt0.eventWeight,\n",
    "                      SF[5]*MCttf.eventWeight],\n",
    "             label=[\"Fake\",\"Diboson\",\"_nolegend_\",\"DY\",\"single t\",\n",
    "                    r'$t\\bar{t} \\rightarrow ^\\tau\\mu + ^\\tau\\mu$',\n",
    "                    r'$t\\bar{t} \\rightarrow \\mu + ^\\tau\\mu$',\n",
    "                    r'$t\\bar{t} \\rightarrow \\mu + \\mu$',\n",
    "                    r'$t\\bar{t}$ other leptonic'],\n",
    "             color=[\"#a32020\",\"#e0301e\",\"#eb8c00\",\"#eb8c00\",\"gold\",\n",
    "                    \"#49feec\",\n",
    "                    \"deepskyblue\",\n",
    "                    \"mediumpurple\",\n",
    "                    \"darkmagenta\"],\n",
    "             bins = mybin,lw=0,alpha=0.7,histtype=\"stepfilled\", stacked=True)\n",
    "    mc = mc[0]\n",
    "    mcerr = mc[-1]**0.5\n",
    "    plt.errorbar(mybin[1:]-step/2,mc[-1],yerr=mcerr,color=\"k\",fmt='none',lw=200/mybin.size, mew=0, alpha=0.2)\n",
    "\n",
    "    # 2. show data\n",
    "    h,edge = np.histogram(Data[v],mybin,weights=Data.eventWeight)\n",
    "    center = edge[1:]-step/2\n",
    "    plt.errorbar(center,h,yerr=h**0.5,color=\"k\",fmt='.', label=\"data\")\n",
    "\n",
    "    # 3. plot settings\n",
    "    if xl in [\"lepton_delta_phi\",\"bjet_delta_phi\",\"lbjet_delta_phi\"]:\n",
    "        plt.legend(fontsize=10,loc=\"upper left\")\n",
    "    else:\n",
    "        plt.legend(fontsize=10,loc=\"upper right\")\n",
    "        plt.text(0.04*b+0.96*a, 1.35*h.max(), r'CMS $preliminary$',style=\"italic\",fontsize=\"15\",fontweight='bold')\n",
    "        \n",
    "    plt.grid()\n",
    "    plt.ylim(1,1.5*h.max())\n",
    "    plt.xlim(a,b)\n",
    "    #plt.ylim(1,10*h.max())\n",
    "    #plt.yscale('log')\n",
    "    plt.xlabel(xl)\n",
    "    plt.title(\"L=35.7/fb (13TeV)\",loc=\"right\")\n",
    "    plt.savefig(\"../plot/2mu2jet_2btag/{}.png\".format(v))\n",
    "    plt.clf()"
   ]
  },
  {
   "cell_type": "code",
   "execution_count": 11,
   "metadata": {},
   "outputs": [
    {
     "data": {
      "text/plain": [
       "162.25"
      ]
     },
     "execution_count": 11,
     "metadata": {},
     "output_type": "execute_result"
    }
   ],
   "source": [
    "59*2.75"
   ]
  },
  {
   "cell_type": "code",
   "execution_count": null,
   "metadata": {
    "collapsed": true
   },
   "outputs": [],
   "source": []
  },
  {
   "cell_type": "code",
   "execution_count": null,
   "metadata": {
    "collapsed": true
   },
   "outputs": [],
   "source": []
  },
  {
   "cell_type": "code",
   "execution_count": null,
   "metadata": {
    "collapsed": true
   },
   "outputs": [],
   "source": []
  },
  {
   "cell_type": "code",
   "execution_count": null,
   "metadata": {
    "collapsed": true
   },
   "outputs": [],
   "source": []
  },
  {
   "cell_type": "code",
   "execution_count": null,
   "metadata": {
    "collapsed": true
   },
   "outputs": [],
   "source": []
  },
  {
   "cell_type": "code",
   "execution_count": null,
   "metadata": {
    "collapsed": true
   },
   "outputs": [],
   "source": []
  },
  {
   "cell_type": "code",
   "execution_count": 9,
   "metadata": {},
   "outputs": [
    {
     "data": {
      "image/png": "[encoded data removed]",
      "text/plain": [
       "<matplotlib.figure.Figure at 0x115d0bf60>"
      ]
     },
     "metadata": {},
     "output_type": "display_data"
    }
   ],
   "source": [
    "    v,a,b,step,xl = 'nMuons',0,10,1,'nMuons'\n",
    "    mybin = np.arange(a,b,step)\n",
    "    # 1. show MC\n",
    "    SF = np.array([1,0.008,18.935,4.3,1.297,0.387])\n",
    "    mc = plt.hist([Fake[v],MCzz[v],MCdyl[v],MCdy[v],MCt[v],\n",
    "                   MCtt2[v],MCtt1[v],MCtt0[v],MCttf[v],],\n",
    "            weights=[ SF[0]*Fake.eventWeight,\n",
    "                      SF[1]*MCzz.eventWeight,\n",
    "                      SF[2]*MCdyl.eventWeight,\n",
    "                      SF[3]*MCdy.eventWeight,\n",
    "                      SF[4]*MCt.eventWeight,\n",
    "                      SF[5]*MCtt2.eventWeight,\n",
    "                      SF[5]*MCtt1.eventWeight,\n",
    "                      SF[5]*MCtt0.eventWeight,\n",
    "                      SF[5]*MCttf.eventWeight],\n",
    "             label=[\"Fake\",\"Diboson\",\"_nolegend_\",\"DY\",\"single t\",\n",
    "                    r'$t\\bar{t} \\rightarrow ^\\tau\\mu + ^\\tau\\mu$',\n",
    "                    r'$t\\bar{t} \\rightarrow \\mu + ^\\tau\\mu$',\n",
    "                    r'$t\\bar{t} \\rightarrow \\mu + \\mu$',\n",
    "                    r'$t\\bar{t}$ other leptonic'],\n",
    "             color=[\"#a32020\",\"#e0301e\",\"#eb8c00\",\"#eb8c00\",\"gold\",\n",
    "                    \"#49feec\",\n",
    "                    \"deepskyblue\",\n",
    "                    \"mediumpurple\",\n",
    "                    \"darkmagenta\"],\n",
    "             bins = mybin,lw=0,alpha=0.6,histtype=\"stepfilled\", stacked=False)\n",
    "    mc = mc[0]"
   ]
  },
  {
   "cell_type": "code",
   "execution_count": 14,
   "metadata": {},
   "outputs": [
    {
     "name": "stdout",
     "output_type": "stream",
     "text": [
      "555.0\n",
      "28.5639272576\n",
      "275.58732346\n",
      "628.019337541\n",
      "570.908544472\n",
      "1978.58330047\n",
      "41810.5565939\n",
      "177098.875235\n",
      "403.714064637\n"
     ]
    }
   ],
   "source": [
    "for i in range(9):\n",
    "    print(np.sum(mc[i]))"
   ]
  },
  {
   "cell_type": "code",
   "execution_count": 15,
   "metadata": {},
   "outputs": [
    {
     "data": {
      "text/plain": [
       "903.606661001"
      ]
     },
     "execution_count": 15,
     "metadata": {},
     "output_type": "execute_result"
    }
   ],
   "source": [
    "275.58732346+628.019337541"
   ]
  },
  {
   "cell_type": "code",
   "execution_count": null,
   "metadata": {
    "collapsed": true
   },
   "outputs": [],
   "source": []
  },
  {
   "cell_type": "code",
   "execution_count": null,
   "metadata": {
    "collapsed": true
   },
   "outputs": [],
   "source": []
  },
  {
   "cell_type": "code",
   "execution_count": null,
   "metadata": {
    "collapsed": true
   },
   "outputs": [],
   "source": []
  },
  {
   "cell_type": "code",
   "execution_count": null,
   "metadata": {
    "collapsed": true
   },
   "outputs": [],
   "source": []
  },
  {
   "cell_type": "code",
   "execution_count": null,
   "metadata": {
    "collapsed": true
   },
   "outputs": [],
   "source": []
  },
  {
   "cell_type": "code",
   "execution_count": 19,
   "metadata": {},
   "outputs": [
    {
     "data": {
      "text/plain": [
       "18752.704200012256"
      ]
     },
     "execution_count": 19,
     "metadata": {},
     "output_type": "execute_result"
    }
   ],
   "source": [
    "i=7\n",
    "np.sum(mc[i])-np.sum(mc[i-1])"
   ]
  },
  {
   "cell_type": "code",
   "execution_count": 20,
   "metadata": {},
   "outputs": [
    {
     "data": {
      "text/plain": [
       "26159.817900015329"
      ]
     },
     "execution_count": 20,
     "metadata": {},
     "output_type": "execute_result"
    }
   ],
   "source": [
    "np.sum(mc[7])"
   ]
  },
  {
   "cell_type": "code",
   "execution_count": null,
   "metadata": {
    "collapsed": true
   },
   "outputs": [],
   "source": []
  },
  {
   "cell_type": "code",
   "execution_count": 7,
   "metadata": {},
   "outputs": [
    {
     "name": "stdout",
     "output_type": "stream",
     "text": [
      "ee mc yield is 0\n",
      "emu mc yield is 2229\n",
      "mumu mc yield is 482337\n",
      "etau mc yield is 150\n",
      "mutau mc yield is 121133\n",
      "tautau mc yield is 5888\n",
      "1097.0\n",
      "30.624\n",
      "340.83\n",
      "689.001\n",
      "328.141\n",
      "227.8656\n",
      "4687.8471\n",
      "18666.4419\n",
      "92.0673\n"
     ]
    }
   ],
   "source": [
    "########\n",
    "for tag in ['ee','emu','mumu','etau','mutau','tautau']:\n",
    "    mcyield = len(MCtt[MCtt.ttlepstate == tag ])\n",
    "    print('{} mc yield is {}'.format(tag,mcyield) )\n",
    "print(len(Fake)*SF[0])\n",
    "print(len(MCzz)*SF[1])\n",
    "print(len(MCdyl)*SF[2])\n",
    "print(len(MCdy)*SF[3])\n",
    "print(len(MCt)*SF[4])\n",
    "print(len(MCtt2)*SF[5])\n",
    "print(len(MCtt1)*SF[5])\n",
    "print(len(MCtt0)*SF[5])\n",
    "print(len(MCttf)*SF[5])"
   ]
  },
  {
   "cell_type": "code",
   "execution_count": null,
   "metadata": {
    "collapsed": true
   },
   "outputs": [],
   "source": []
  },
  {
   "cell_type": "code",
   "execution_count": null,
   "metadata": {
    "collapsed": true
   },
   "outputs": [],
   "source": [
    "            weights=[SF[0]*Fake.eventWeight,\n",
    "                      SF[1]*MCzz.eventWeight,\n",
    "                      SF[2]*MCdyl.eventWeight,\n",
    "                      SF[3]*MCdy.eventWeight,\n",
    "                      SF[4]*MCt.eventWeight,\n",
    "                      SF[5]*MCtt2.eventWeight,\n",
    "                      SF[5]*MCtt1.eventWeight,\n",
    "                      SF[5]*MCtt0.eventWeight],"
   ]
  }
 ],
 "metadata": {
  "kernelspec": {
   "display_name": "Python 3",
   "language": "python",
   "name": "python3"
  },
  "language_info": {
   "codemirror_mode": {
    "name": "ipython",
    "version": 3
   },
   "file_extension": ".py",
   "mimetype": "text/x-python",
   "name": "python",
   "nbconvert_exporter": "python",
   "pygments_lexer": "ipython3",
   "version": "3.6.1"
  }
 },
 "nbformat": 4,
 "nbformat_minor": 2
}
