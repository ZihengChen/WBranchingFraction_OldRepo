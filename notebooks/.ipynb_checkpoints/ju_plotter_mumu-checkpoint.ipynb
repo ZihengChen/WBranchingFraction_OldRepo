{
 "cells": [
  {
   "cell_type": "code",
   "execution_count": 21,
   "metadata": {
    "collapsed": true
   },
   "outputs": [],
   "source": [
    "#%run -i '../scripts/utility_readblt.py' 'mumu'"
   ]
  },
  {
   "cell_type": "code",
   "execution_count": 24,
   "metadata": {},
   "outputs": [
    {
     "name": "stdout",
     "output_type": "stream",
     "text": [
      "Welcome to JupyROOT 6.10/00\n"
     ]
    }
   ],
   "source": [
    "from utility_common import *\n",
    "from class_plotter import *\n",
    "import ROOT\n",
    "from IPython.display import clear_output\n",
    "## add plotting option and load plotting parameter table\n",
    "%matplotlib inline\n",
    "#%qtconsole --style monokai\n",
    "plt.style.use('classic')\n",
    "plt.rc(\"figure\",facecolor=\"w\",figsize=(6,4))\n",
    "plt.rc(\"font\",size=10)\n",
    "plt.rc(\"savefig\",dpi=300)"
   ]
  },
  {
   "cell_type": "markdown",
   "metadata": {},
   "source": [
    "# 1. Read data and MC as dataframe"
   ]
  },
  {
   "cell_type": "code",
   "execution_count": 13,
   "metadata": {
    "collapsed": true
   },
   "outputs": [],
   "source": [
    "selection  = \"mumu\"\n",
    "nbjetcut   =  \"==1\"\n",
    "\n",
    "pickledir  =  \"/Users/zihengchen/Documents/Analysis/workplace/data/pickle_{}/\".format(selection)\n",
    "zvetomask  =  \"(lepton2_pt>5) & (nBJets{})\".format(nbjetcut)\n",
    "zvetomask +=  \"& (dilepton_mass>10) & (dilepton_mass<80 | dilepton_mass>100)\""
   ]
  },
  {
   "cell_type": "code",
   "execution_count": 14,
   "metadata": {
    "collapsed": true
   },
   "outputs": [],
   "source": [
    "Data = LoadDataframe(pickledir +\"data2016\").query(zvetomask)\n",
    "MCzz = LoadDataframe(pickledir +\"mcdiboson\").query(zvetomask)\n",
    "MCdy = LoadDataframe(pickledir +\"mcdy\").query(zvetomask)\n",
    "MCt  = LoadDataframe(pickledir +\"mct\").query(zvetomask)\n",
    "MCtt = LoadDataframe(pickledir +\"mctt\").query(zvetomask)\n",
    "\n",
    "# signal mc is tt+tW\n",
    "MCsg = pd.concat([MCt,MCtt],ignore_index=True)\n",
    "MCsgf = MCsg[(MCsg.wdecay == 'e_')   | (MCsg.wdecay == 'mu_') | (MCsg.wdecay == 'tau_')    | (MCsg.wdecay == '_') ]\n",
    "MCsg0 = MCsg[(MCsg.wdecay == 'emu_') | (MCsg.wdecay == 'ee_') | (MCsg.wdecay == 'tautau_') | (MCsg.wdecay == 'etau_')]\n",
    "MCsg1 = MCsg[(MCsg.wdecay == 'mumu_')]\n",
    "MCsg2 = MCsg[(MCsg.wdecay == 'mutau_')]\n",
    "\n",
    "df_list = [MCzz,MCdy,MCsgf,MCsg0,MCsg1,MCsg2,Data]"
   ]
  },
  {
   "cell_type": "markdown",
   "metadata": {},
   "source": [
    "# 2. Plot kinematics"
   ]
  },
  {
   "cell_type": "code",
   "execution_count": 4,
   "metadata": {},
   "outputs": [
    {
     "name": "stdout",
     "output_type": "stream",
     "text": [
      "../plot/mumu/binned_nBJets/2b/\n"
     ]
    }
   ],
   "source": [
    "label_list = ['Diboson','V+Jets', r'$tt/tW \\rightarrow l + had$',\n",
    "              r'$tt/tW \\rightarrow ll$ other',\n",
    "              r'$tt/tW \\rightarrow \\mu + \\mu$',\n",
    "              r'$tt/tW \\rightarrow \\mu+ \\tau$',\n",
    "              'data']\n",
    "color_list = [\"#a32020\",\"#e0301e\",\"#eb8c00\",\"#49feec\",\"deepskyblue\",\"mediumpurple\",\"k\"]\n",
    "plotoutdir = GetPlotDir(selection, nbjetcut)\n",
    "print(plotoutdir)"
   ]
  },
  {
   "cell_type": "code",
   "execution_count": 7,
   "metadata": {},
   "outputs": [
    {
     "name": "stdout",
     "output_type": "stream",
     "text": [
      "finish all making plots\n"
     ]
    }
   ],
   "source": [
    "pp = pd.read_csv(\"plotparameters.csv\")\n",
    "for index, row in pp.iterrows():\n",
    "    v,a,b,step,xl = row[\"var\"],row[\"lower\"],row[\"upper\"],row[\"step\"],row[\"xlabel\"]\n",
    "    ploter = SelectionPlotter(v,a,b,step,df_list)\n",
    "    ploter.settingPlot(xl,label_list,color_list,                    \n",
    "                       logscale   = False,\n",
    "                       isstacked  = True,\n",
    "                       figuresize = (6,5.4))\n",
    "    ploter.makePlot(plotoutdir)\n",
    "    \n",
    "    # print out process\n",
    "    print(\"making plots: {0}/{1}\".format(index,len(pp)))\n",
    "    clear_output(wait=True)\n",
    "    plt.close()\n",
    "print('finish all making plots')"
   ]
  },
  {
   "cell_type": "markdown",
   "metadata": {},
   "source": [
    "# 3. Counting"
   ]
  },
  {
   "cell_type": "code",
   "execution_count": 32,
   "metadata": {},
   "outputs": [
    {
     "name": "stdout",
     "output_type": "stream",
     "text": [
      "Initialize SelectionCounter\n"
     ]
    }
   ],
   "source": [
    "ctr = SelectionCounter()"
   ]
  },
  {
   "cell_type": "code",
   "execution_count": 33,
   "metadata": {},
   "outputs": [
    {
     "name": "stdout",
     "output_type": "stream",
     "text": [
      "(lepton2_pt>5) & (nBJets==1)& (dilepton_mass>10) & (dilepton_mass<80 | dilepton_mass>100)\n",
      "MCtt: [0, 560.42723538117036, 269064.94908739696, 0, 56.694292826042656, 3.7353588143979302, 112.79145152501275, 60109.115423286101, 655.62690715066537, 0, 10.595671723601166, 2681.7318092590926, 0, 52.900799034854607, 0, 2.0631950464453617, 9227.0698206399411, 4.7574907345901138, 749.70872729372513, 10.455432390746196, 35.06127104777471]\n",
      "MCt : [0, 6.7724487320857554, 1826.5196376397078, 0, 0, 0, 2.3963717899785948, 416.96164930888682, 4.8396491034128681, 0, 0, 20.894099581456263, 0, 0, 0, 0, 94.812738289790161, 0, 4.9294036384555922, 0, 0]\n"
     ]
    }
   ],
   "source": [
    "print(zvetomask)\n",
    "print(\"MCtt: {}\".format(ctr.countSlt_ByTauDecay(MCtt,withweights=True)) )\n",
    "print(\"MCt : {}\".format(ctr.countSlt_ByTauDecay(MCt,withweights=True)) )"
   ]
  },
  {
   "cell_type": "code",
   "execution_count": 34,
   "metadata": {},
   "outputs": [
    {
     "name": "stdout",
     "output_type": "stream",
     "text": [
      "data:78172.0\n",
      "TotalMC:78877.5693984787\n",
      "------ MC break down ------\n",
      "[   174.25417383   9710.14673717   2054.41775204    682.03214784\n",
      "  54020.08563005  12236.63295755]\n"
     ]
    }
   ],
   "source": [
    "ctr.countSlt_Scaled(df_list)"
   ]
  },
  {
   "cell_type": "code",
   "execution_count": 35,
   "metadata": {},
   "outputs": [
    {
     "name": "stdout",
     "output_type": "stream",
     "text": [
      "174.25,3.40\n",
      "9710.15,316.92\n",
      "3072.33,63.40\n",
      "65920.84,113.02\n",
      "78172.00,279.59\n"
     ]
    }
   ],
   "source": [
    "for thisdf in [MCzz, MCdy, MCt, MCtt, Data]:\n",
    "    n = np.sum(thisdf.eventWeight)\n",
    "    nerr = np.sum(thisdf.eventWeight**2)**0.5\n",
    "    print('{:.2f},{:.2f}'.format(n,nerr))"
   ]
  },
  {
   "cell_type": "code",
   "execution_count": 36,
   "metadata": {},
   "outputs": [
    {
     "name": "stdout",
     "output_type": "stream",
     "text": [
      "MCtt : [1811409.0, 3620281.0, 1811532.0, 642646.0, 626107.0, 2350888.0, 643367.0, 627277.0, 2353728.0, 57056.0, 111124.0, 54227.0, 418128.0, 407605.0, 763147.0, 22670017.0, 22653517.0, 4016587.0, 3923498.0, 14718942.0, 70930278.0]\n",
      "MCt  : [23105.0, 46342.0, 23040.0, 8199.0, 8029.0, 30054.0, 8163.0, 8006.0, 29970.0, 694.0, 1420.0, 717.0, 5260.0, 5158.0, 9727.0, 290101.0, 289467.0, 50864.0, 50049.0, 187516.0, 904067.0]\n"
     ]
    }
   ],
   "source": [
    "# print Generator information\n",
    "f = ROOT.TFile(\"../data/root/{}2016MC.root\".format(selection))\n",
    "print(\"MCtt : {}\".format(ctr.countGen_ByTauDecay(f,'ttbar')) )\n",
    "temp = np.array(ctr.countGen_ByTauDecay(f,'t_tw'))\n",
    "temp+= np.array(ctr.countGen_ByTauDecay(f,'tbar_tw'))\n",
    "print(\"MCt  : {}\".format(list(temp)) )"
   ]
  }
 ],
 "metadata": {
  "kernelspec": {
   "display_name": "Python 3",
   "language": "python",
   "name": "python3"
  },
  "language_info": {
   "codemirror_mode": {
    "name": "ipython",
    "version": 3
   },
   "file_extension": ".py",
   "mimetype": "text/x-python",
   "name": "python",
   "nbconvert_exporter": "python",
   "pygments_lexer": "ipython3",
   "version": "3.6.1"
  }
 },
 "nbformat": 4,
 "nbformat_minor": 2
}
