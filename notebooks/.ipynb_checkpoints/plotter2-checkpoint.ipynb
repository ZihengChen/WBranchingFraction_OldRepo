{
 "cells": [
  {
   "cell_type": "code",
   "execution_count": 1,
   "metadata": {},
   "outputs": [],
   "source": [
    "# First make BLT to pickle if not made\n",
    "#%run -i 'utility_readBLT.py'\n",
    "# %run -i 'utility_printyeilds.py'"
   ]
  },
  {
   "cell_type": "code",
   "execution_count": 2,
   "metadata": {
    "collapsed": true
   },
   "outputs": [],
   "source": [
    "from utility_plot import *\n",
    "from utility_DNN import *\n",
    "%matplotlib inline\n",
    "plt.style.use('classic')\n",
    "plt.rc(\"figure\",facecolor=\"w\",figsize=(6,4))\n",
    "plt.rc(\"font\",size=10)\n",
    "plt.rc(\"savefig\",dpi=300)"
   ]
  },
  {
   "cell_type": "markdown",
   "metadata": {},
   "source": [
    "# 1. Load Data and MC"
   ]
  },
  {
   "cell_type": "code",
   "execution_count": 16,
   "metadata": {
    "collapsed": true
   },
   "outputs": [],
   "source": [
    "pickledir  = \"/Users/zihengchen/Documents/Analysis/BLTReader/data/pickle_mumu/\"\n",
    "zvetomask  =  \"(dilepton_mass>10) & (dilepton_mass<80 | dilepton_mass>100)\"\n",
    "antichargemask =  \"(lepton1_q == -lepton2_q)\"\n",
    "samechargemask =  \"(lepton1_q ==  lepton2_q)\""
   ]
  },
  {
   "cell_type": "code",
   "execution_count": 17,
   "metadata": {
    "collapsed": true
   },
   "outputs": [],
   "source": [
    "# Monte Carlo\n",
    "MCzz  = pd.read_pickle(pickledir+\"mc/ntuple_zz_2l2q.pkl\").query(zvetomask+\"&\"+antichargemask)\n",
    "MCdyl = pd.read_pickle(pickledir+\"mc/ntuple_zjets_m-10to50.pkl\").query(zvetomask+\"&\"+antichargemask)\n",
    "MCdy  = pd.read_pickle(pickledir+\"mc/ntuple_zjets_m-50.pkl\").query(zvetomask+\"&\"+antichargemask)\n",
    "MCt   = pd.read_pickle(pickledir+\"mc/ntuple_t_tw.pkl\").query(zvetomask+\"&\"+antichargemask)\n",
    "MCtt  = pd.read_pickle(pickledir+\"mc/ntuple_ttbar_lep.pkl\").query(zvetomask+\"&\"+antichargemask)\n",
    "# Data 2016\n",
    "Raw   = LoadDataframe(pickledir +\"data2016\").query(zvetomask)\n",
    "Fake  = Raw.query(samechargemask)\n",
    "Data  = Raw.query(antichargemask)"
   ]
  },
  {
   "cell_type": "code",
   "execution_count": 18,
   "metadata": {
    "collapsed": true
   },
   "outputs": [],
   "source": [
    "MCtt0 = MCtt[ (MCtt.ttlepstate == 'ee') |(MCtt.ttlepstate == 'emu') |(MCtt.ttlepstate == 'mumu') ]\n",
    "MCtt1 = MCtt[(MCtt.ttlepstate == 'etau') | (MCtt.ttlepstate == 'mutau') ]\n",
    "MCtt2 = MCtt[MCtt.ttlepstate == 'tautau']"
   ]
  },
  {
   "cell_type": "markdown",
   "metadata": {},
   "source": [
    "# 2. Plot Kinematics"
   ]
  },
  {
   "cell_type": "markdown",
   "metadata": {},
   "source": [
    "## 2.1 Plot with Background Subtraction"
   ]
  },
  {
   "cell_type": "code",
   "execution_count": 14,
   "metadata": {},
   "outputs": [
    {
     "data": {
      "text/plain": [
       "<matplotlib.figure.Figure at 0x13b151ba8>"
      ]
     },
     "metadata": {},
     "output_type": "display_data"
    }
   ],
   "source": [
    "pp = pd.read_csv(\"plotparameters.csv\")\n",
    "pp = pp.drop(50)\n",
    "SF = np.array([1,0.008,18.935,4.227,1.297,0.0387])\n",
    "for index, row in pp.iterrows():\n",
    "    v,a,b,step,xl =  row[\"var\"],row[\"lower\"],row[\"upper\"],row[\"step\"],row[\"xlabel\"]\n",
    "    mybin = np.arange(a,b,step)\n",
    "    \n",
    "    hfake,_ = np.histogram(Fake[v],bins=mybin)\n",
    "    hdata,_ = np.histogram(Data[v],bins=mybin)\n",
    "    \n",
    "    hzz,_ = np.histogram(MCzz[v],bins=mybin,weights=MCzz.eventWeight*SF[1])\n",
    "    hdy0,_ = np.histogram(MCdyl[v],bins=mybin,weights=MCdyl.eventWeight*SF[2])\n",
    "    hdy,_ = np.histogram(MCdy[v],bins=mybin,weights=MCdy.eventWeight*SF[3])\n",
    "    ht ,_ = np.histogram(MCt [v],bins=mybin,weights=MCt.eventWeight*SF[4])\n",
    "    htt0,_ = np.histogram(MCtt0[v],bins=mybin,weights=MCtt0.eventWeight*SF[5])\n",
    "    htt1,_ = np.histogram(MCtt1[v],bins=mybin,weights=MCtt1.eventWeight*SF[5])\n",
    "    htt2,_ = np.histogram(MCtt2[v],bins=mybin,weights=MCtt2.eventWeight*SF[5])\n",
    "    hbackground = hfake + hzz + hdy0 + hdy + ht \n",
    "    \n",
    "    center = mybin[:-1]\n",
    "    # 1. show MC\n",
    "    plt.bar(center, htt2 , width=step, bottom=None,lw=0,color=\"#03076c\",alpha=0.6,\n",
    "            label=r'$t\\bar{t} \\rightarrow ^\\tau\\mu + ^\\tau\\mu$')\n",
    "    plt.bar(center, htt1 , width=step, bottom=htt2,lw=0,color=\"#54c3d7\",alpha=0.6,\n",
    "            label=r'$t\\bar{t} \\rightarrow \\mu + ^\\tau\\mu$')\n",
    "    plt.bar(center, htt0, width=step, bottom=htt2+htt1,lw=0,color=\"#49feec\",alpha=0.6,\n",
    "            label=r'$t\\bar{t} \\rightarrow \\mu + \\mu$')\n",
    "    \n",
    "    hmctotal = htt2+htt1+htt0\n",
    "    center = mybin[:-1]+step/2\n",
    "    plt.errorbar(center,hmctotal,yerr=hmctotal**0.5,color=\"k\",fmt='none',lw=200/mybin.size, mew=0, alpha=0.2)\n",
    "    # 2. show data\n",
    "    plt.errorbar(center,hdata-hbackground,yerr=hdata**0.5,color=\"k\",fmt='.', label=\"data\")\n",
    "    \n",
    "    # 3. plot settings\n",
    "    if xl in [\"lepton_delta_phi\",\"bjet_delta_phi\",\"lbjet_delta_phi\"]:\n",
    "        plt.legend(fontsize=10,loc=\"upper left\")\n",
    "    else:\n",
    "        plt.legend(fontsize=10,loc=\"upper right\")\n",
    "        plt.text(0.04*b+0.96*a, 1.35*hmctotal.max(), r'CMS $preliminary$',style=\"italic\",fontsize=\"15\",fontweight='bold')\n",
    "        \n",
    "    plt.grid()\n",
    "    plt.ylim(1,1.5*hmctotal.max())\n",
    "    plt.xlim(a,b)\n",
    "    #plt.ylim(1,10*h.max())\n",
    "    #plt.yscale('log')\n",
    "    plt.xlabel(xl)\n",
    "    plt.title(\"L=35.7/fb (13TeV)\",loc=\"right\")\n",
    "    plt.savefig(\"../plot/bgremoved/{}.png\".format(v))\n",
    "    plt.clf()\n",
    "    "
   ]
  },
  {
   "cell_type": "markdown",
   "metadata": {},
   "source": [
    "## 2.2 Plot with background MC separated"
   ]
  },
  {
   "cell_type": "code",
   "execution_count": 20,
   "metadata": {},
   "outputs": [
    {
     "data": {
      "text/plain": [
       "<matplotlib.figure.Figure at 0x13a99e438>"
      ]
     },
     "metadata": {},
     "output_type": "display_data"
    }
   ],
   "source": [
    "pp = pd.read_csv(\"plotparameters.csv\")\n",
    "pp = pp.drop(50)\n",
    "SF = np.array([1,0.008,18.935,4.227,1.297,0.0387])\n",
    "for index, row in pp.iterrows():\n",
    "    v,a,b,step,xl =  row[\"var\"],row[\"lower\"],row[\"upper\"],row[\"step\"],row[\"xlabel\"]\n",
    "    mybin = np.arange(a,b,step)\n",
    "    \n",
    "    hfake,_ = np.histogram(Fake[v],bins=mybin)\n",
    "    hdata,_ = np.histogram(Data[v],bins=mybin)\n",
    "    \n",
    "    hzz,_ = np.histogram(MCzz[v],bins=mybin,  weights=MCzz.eventWeight *SF[1])\n",
    "    hdy0,_ = np.histogram(MCdyl[v],bins=mybin,weights=MCdyl.eventWeight*SF[2])\n",
    "    hdy,_ = np.histogram(MCdy[v],bins=mybin,  weights=MCdy.eventWeight *SF[3])\n",
    "    ht ,_ = np.histogram(MCt [v],bins=mybin,  weights=MCt.eventWeight  *SF[4])\n",
    "    htt0,_ = np.histogram(MCtt0[v],bins=mybin,weights=MCtt0.eventWeight*SF[5])\n",
    "    htt1,_ = np.histogram(MCtt1[v],bins=mybin,weights=MCtt1.eventWeight*SF[5])\n",
    "    htt2,_ = np.histogram(MCtt2[v],bins=mybin,weights=MCtt2.eventWeight*SF[5])\n",
    "    hdy = hdy0 + hdy\n",
    "    \n",
    "    center = mybin[:-1]\n",
    "    # 1. show MC\n",
    "    plt.bar(center,hfake,width=step, bottom=None, lw=0,color=\"0.5\",alpha=0.6,label=\"Fake\")\n",
    "    hmctotal = hfake.astype(float)\n",
    "    plt.bar(center,hzz,width=step, bottom=hmctotal,lw=0,color=\"0.6\",alpha=0.6,label=\"Diboson\")\n",
    "    hmctotal += hzz\n",
    "    plt.bar(center,hdy,width=step, bottom=hmctotal,lw=0,color=\"0.7\",alpha=0.6,label=\"DY\")\n",
    "    hmctotal += hdy\n",
    "    plt.bar(center, ht,width=step, bottom=hmctotal,lw=0,color=\"0.8\",alpha=0.6,label=\"Single-t\")\n",
    "    hmctotal += ht\n",
    "    hmcbg = hmctotal\n",
    "    plt.bar(center,htt2,width=step, bottom=hmctotal,lw=0,color=\"#03076c\",alpha=0.6,\n",
    "            label=r'$t\\bar{t} \\rightarrow ^\\tau\\mu + ^\\tau\\mu$')\n",
    "    hmctotal += htt2\n",
    "    plt.bar(center,htt1,width=step, bottom=hmctotal,lw=0,color=\"#54c3d7\",alpha=0.6,\n",
    "            label=r'$t\\bar{t} \\rightarrow \\mu + ^\\tau\\mu$')\n",
    "    hmctotal += htt1\n",
    "    plt.bar(center,htt0,width=step, bottom=hmctotal,lw=0,color=\"#49feec\",alpha=0.6,\n",
    "            label=r'$t\\bar{t} \\rightarrow \\mu + \\mu$')\n",
    "    hmctotal += htt0\n",
    "    \n",
    "    center = mybin[:-1]+step/2\n",
    "    plt.errorbar(center,hmctotal,yerr=hmctotal**0.5,color=\"k\",fmt='none',lw=200/mybin.size, mew=0, alpha=0.2)\n",
    "    # 2. show data\n",
    "    plt.errorbar(center,hdata,yerr=hdata**0.5,color=\"k\",fmt='.', label=\"data\")\n",
    "    \n",
    "    # 3. plot settings\n",
    "    if xl in [\"lepton_delta_phi\",\"bjet_delta_phi\",\"lbjet_delta_phi\"]:\n",
    "        plt.legend(fontsize=10,loc=\"upper left\")\n",
    "    else:\n",
    "        plt.legend(fontsize=10,loc=\"upper right\")\n",
    "        plt.text(0.04*b+0.96*a, 1.35*hmctotal.max(), r'CMS $preliminary$',style=\"italic\",fontsize=\"15\",fontweight='bold')\n",
    "        \n",
    "    plt.grid()\n",
    "    plt.ylim(1,1.5*hmctotal.max())\n",
    "    plt.xlim(a,b)\n",
    "    #plt.ylim(1,10*h.max())\n",
    "    #plt.yscale('log')\n",
    "    plt.xlabel(xl)\n",
    "    plt.title(\"L=35.7/fb (13TeV)\",loc=\"right\")\n",
    "    plt.savefig(\"../plot/bgshown/{}.png\".format(v))\n",
    "    plt.clf()\n",
    "    "
   ]
  },
  {
   "cell_type": "code",
   "execution_count": null,
   "metadata": {
    "collapsed": true
   },
   "outputs": [],
   "source": []
  }
 ],
 "metadata": {
  "kernelspec": {
   "display_name": "Python 3",
   "language": "python",
   "name": "python3"
  },
  "language_info": {
   "codemirror_mode": {
    "name": "ipython",
    "version": 3
   },
   "file_extension": ".py",
   "mimetype": "text/x-python",
   "name": "python",
   "nbconvert_exporter": "python",
   "pygments_lexer": "ipython3",
   "version": "3.6.1"
  }
 },
 "nbformat": 4,
 "nbformat_minor": 2
}
