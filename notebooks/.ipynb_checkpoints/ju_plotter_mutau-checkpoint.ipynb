{
 "cells": [
  {
   "cell_type": "code",
   "execution_count": 1,
   "metadata": {
    "collapsed": true
   },
   "outputs": [],
   "source": [
    "#%run -i '../scripts/utility_readblt.py' 'mutau'"
   ]
  },
  {
   "cell_type": "code",
   "execution_count": 1,
   "metadata": {},
   "outputs": [
    {
     "name": "stdout",
     "output_type": "stream",
     "text": [
      "Welcome to JupyROOT 6.10/00\n"
     ]
    }
   ],
   "source": [
    "from utility_plottool import *\n",
    "from IPython.display import clear_output\n",
    "## add plotting option and load plotting parameter table\n",
    "%matplotlib inline\n",
    "#%qtconsole --style monokai\n",
    "plt.style.use('classic')\n",
    "plt.rc(\"figure\",facecolor=\"w\",figsize=(6,4))\n",
    "plt.rc(\"font\",size=10)\n",
    "plt.rc(\"savefig\",dpi=300)"
   ]
  },
  {
   "cell_type": "markdown",
   "metadata": {},
   "source": [
    "# 1. Read data and MC as dataframe"
   ]
  },
  {
   "cell_type": "code",
   "execution_count": 3,
   "metadata": {
    "collapsed": true
   },
   "outputs": [],
   "source": [
    "selection  = \"mutau\"\n",
    "nbjetcut   =  \">=1\"\n",
    "\n",
    "pickledir  =  \"/Users/zihengchen/Documents/Analysis/workplace/data/pickle_{}/\".format(selection)\n",
    "zvetomask  =  \"(lepton2_pt>5) & (nBJets{})\".format(nbjetcut)\n",
    "zvetomask +=  \"& (dilepton_mass>10)\"\n",
    "\n",
    "Data = LoadDataframe(pickledir +\"data2016\").query(zvetomask)\n",
    "MCzz = LoadDataframe(pickledir +\"mcdiboson\").query(zvetomask)\n",
    "MCdy = LoadDataframe(pickledir +\"mcdy\").query(zvetomask)\n",
    "MCt  = LoadDataframe(pickledir +\"mct\").query(zvetomask)\n",
    "MCtt = LoadDataframe(pickledir +\"mctt\").query(zvetomask)"
   ]
  },
  {
   "cell_type": "code",
   "execution_count": 4,
   "metadata": {
    "collapsed": true
   },
   "outputs": [],
   "source": [
    "# signal mc is tt+tW\n",
    "MCsg = pd.concat([MCt,MCtt],ignore_index=True)\n",
    "MCsgf = MCsg[(MCsg.wdecay == 'e_')   | (MCsg.wdecay == 'tau_')| (MCsg.wdecay == '_') ]\n",
    "MCsg0 = MCsg[(MCsg.wdecay == 'emu_') | (MCsg.wdecay == 'ee_') | (MCsg.wdecay == 'mumu_')   | (MCsg.wdecay == 'tautau_') | (MCsg.wdecay == 'etau_')]\n",
    "MCsg1 = MCsg[(MCsg.wdecay == 'mu_')]\n",
    "MCsg2 = MCsg[(MCsg.wdecay == 'tau_')]\n",
    "MCsg3 = MCsg[(MCsg.wdecay == 'mutau_')]\n",
    "\n",
    "df_list = [MCzz,MCdy,MCsgf,MCsg0,MCsg1,MCsg2,MCsg3,Data]"
   ]
  },
  {
   "cell_type": "markdown",
   "metadata": {},
   "source": [
    "# 2. Plot kinematics"
   ]
  },
  {
   "cell_type": "code",
   "execution_count": 5,
   "metadata": {},
   "outputs": [
    {
     "name": "stdout",
     "output_type": "stream",
     "text": [
      "../plot/mutau/combined/\n"
     ]
    }
   ],
   "source": [
    "label_list = [\"Diboson\",\"V+Jets\",r'$tt/tW \\rightarrow l + h$ (other)',\n",
    "              r'$tt/tW \\rightarrow l + l$ (other) ',\n",
    "              r'$tt/tW \\rightarrow \\mu + h$', \n",
    "              r'$tt/tW \\rightarrow \\tau + h$',\n",
    "              r'$tt/tW \\rightarrow \\mu + \\tau$',\n",
    "              'data']\n",
    "color_list = [\"#a32020\",\"#e0301e\",\"#eb8c00\",\"gold\",\"#49feec\",\"deepskyblue\",\"mediumpurple\",\"k\"]\n",
    "plotoutdir = GetPlotDir(selection, nbjetcut)\n",
    "print(plotoutdir)"
   ]
  },
  {
   "cell_type": "code",
   "execution_count": 5,
   "metadata": {},
   "outputs": [
    {
     "name": "stdout",
     "output_type": "stream",
     "text": [
      "finish all making plots\n"
     ]
    }
   ],
   "source": [
    "pp = pd.read_csv(\"plotparameters.csv\")\n",
    "for index, row in pp.iterrows():\n",
    "    v,a,b,step,xl = row[\"var\"],row[\"lower\"],row[\"upper\"],row[\"step\"],row[\"xlabel\"]\n",
    "    PlotHistogram(v,a,b,step,xl,\n",
    "                  df_list,label_list,color_list,\n",
    "                  plotoutdir)\n",
    "    # print out process\n",
    "    print(\"making plots: {0}/{1}\".format(index,len(pp)))\n",
    "    clear_output(wait=True)\n",
    "    plt.close()\n",
    "print('finish all making plots')"
   ]
  },
  {
   "cell_type": "markdown",
   "metadata": {},
   "source": [
    "# 3. Counting"
   ]
  },
  {
   "cell_type": "code",
   "execution_count": 13,
   "metadata": {},
   "outputs": [
    {
     "name": "stdout",
     "output_type": "stream",
     "text": [
      "(lepton2_pt>5) & (nBJets>1)& (dilepton_mass>10)\n",
      "MCtt: [0, 219, 112, 0, 16, 0, 54, 31, 22873, 0, 2, 4, 0, 1467, 0, 1, 13616, 0, 872, 29, 23]\n",
      "MCt : [0, 0, 1, 0, 0, 0, 0, 0, 116, 0, 0, 0, 0, 6, 0, 0, 55, 0, 2, 0, 0]\n"
     ]
    }
   ],
   "source": [
    "print(zvetomask)\n",
    "print(\"MCtt: {}\".format(GetDfLentghWithTauDecay(MCtt)) )\n",
    "print(\"MCt : {}\".format(GetDfLentghWithTauDecay(MCt)) )"
   ]
  },
  {
   "cell_type": "code",
   "execution_count": 15,
   "metadata": {},
   "outputs": [
    {
     "name": "stdout",
     "output_type": "stream",
     "text": [
      "(lepton2_pt>5) & (nBJets>1)& (dilepton_mass>10)\n",
      "MCtt: [0.0, 186.98758530379945, 98.036919945679458, 0.0, 13.886566433897066, 0.0, 46.997278406327396, 29.63292967582732, 20571.234169345891, 0.0, 1.9787167692845058, 2.7085883710274645, 0.0, 1307.7499007182021, 0.0, 0.87073124197205398, 12129.572038634975, 0.0, 757.45801292316662, 23.189108917438151, 21.522360179496804]\n",
      "MCt : [0.0, 0.0, 1.0356143257465216, 0.0, 0.0, 0.0, 0.0, 0.0, 107.22433615381988, 0.0, 0.0, 0.0, 0.0, 5.9096663145835651, 0.0, 0.0, 50.805283386283726, 0.0, 1.9755168724718448, 0.0, 0.0]\n"
     ]
    }
   ],
   "source": [
    "print(zvetomask)\n",
    "print(\"MCtt: {}\".format( list(np.nan_to_num(GetDfWeightWithTauDecay(MCtt)))))\n",
    "print(\"MCt : {}\".format( list(np.nan_to_num(GetDfWeightWithTauDecay(MCt)))))"
   ]
  },
  {
   "cell_type": "code",
   "execution_count": 12,
   "metadata": {},
   "outputs": [
    {
     "name": "stdout",
     "output_type": "stream",
     "text": [
      "data:6747.0\n",
      "TotalMC:6681\n",
      "------ MC break down ------\n",
      "[3, 84, 164, 280, 2622, 161, 3365]\n"
     ]
    },
    {
     "data": {
      "image/png": "[encoded data removed]",
      "text/plain": [
       "<matplotlib.figure.Figure at 0x13471b9e8>"
      ]
     },
     "metadata": {},
     "output_type": "display_data"
    }
   ],
   "source": [
    "mc,h = PlotHistogram('nMuons',0,10,1,'nMuons',df_list,label_list,color_list)\n",
    "GetHistComp(mc,h)"
   ]
  },
  {
   "cell_type": "code",
   "execution_count": 6,
   "metadata": {},
   "outputs": [
    {
     "name": "stdout",
     "output_type": "stream",
     "text": [
      "MCtt : [1811409.0, 3620281.0, 1811532.0, 642646.0, 626107.0, 2350888.0, 643367.0, 627277.0, 2353728.0, 57056.0, 111124.0, 54227.0, 418128.0, 407605.0, 763147.0, 22670017.0, 22653517.0, 4016587.0, 3923498.0, 14718942.0, 70930278.0]\n",
      "MCt  : [23105.0, 46342.0, 23040.0, 8199.0, 8029.0, 30054.0, 8163.0, 8006.0, 29970.0, 694.0, 1420.0, 717.0, 5260.0, 5158.0, 9727.0, 290101.0, 289467.0, 50864.0, 50049.0, 187516.0, 904067.0]\n"
     ]
    }
   ],
   "source": [
    "f = ROOT.TFile(\"../data/root/{}2016MC.root\".format(selection))\n",
    "print(\"MCtt : {}\".format(GetGenNumWithTauDecay(f,'ttbar')) )\n",
    "temp = np.array(GetGenNumWithTauDecay(f,'t_tw'))\n",
    "temp+= np.array(GetGenNumWithTauDecay(f,'tbar_tw'))\n",
    "print(\"MCt  : {}\".format(list(temp)) )"
   ]
  },
  {
   "cell_type": "code",
   "execution_count": 5,
   "metadata": {},
   "outputs": [
    {
     "name": "stdout",
     "output_type": "stream",
     "text": [
      "26.03,1.64\n",
      "1121.20,67.08\n",
      "1389.71,40.30\n",
      "23991.62,64.35\n",
      "27799.00,166.73\n"
     ]
    }
   ],
   "source": [
    "for thisdf in [MCzz, MCdy, MCt, MCtt, Data]:\n",
    "    n = np.sum(thisdf.eventWeight)\n",
    "    nerr = np.sum(thisdf.eventWeight**2)**0.5\n",
    "    print('{:.2f},{:.2f}'.format(n,nerr))"
   ]
  },
  {
   "cell_type": "code",
   "execution_count": null,
   "metadata": {
    "collapsed": true
   },
   "outputs": [],
   "source": []
  },
  {
   "cell_type": "code",
   "execution_count": 10,
   "metadata": {},
   "outputs": [
    {
     "name": "stdout",
     "output_type": "stream",
     "text": [
      "Index(['bjet1_energy', 'bjet1_eta', 'bjet1_phi', 'bjet1_pt', 'bjet1_px',\n",
      "       'bjet1_py', 'bjet1_pz', 'bjet2_energy', 'bjet2_eta', 'bjet2_phi',\n",
      "       ...\n",
      "       'lepton_delta_r', 'met', 'metPhi', 'nBJets', 'nElectrons', 'nJets',\n",
      "       'nMuons', 'nPV', 'taudecay', 'wdecay'],\n",
      "      dtype='object', length=101)\n"
     ]
    }
   ],
   "source": [
    "MCtt.columns"
   ]
  },
  {
   "cell_type": "code",
   "execution_count": null,
   "metadata": {
    "collapsed": true
   },
   "outputs": [],
   "source": []
  },
  {
   "cell_type": "code",
   "execution_count": null,
   "metadata": {
    "collapsed": true
   },
   "outputs": [],
   "source": []
  }
 ],
 "metadata": {
  "kernelspec": {
   "display_name": "Python 3",
   "language": "python",
   "name": "python3"
  },
  "language_info": {
   "codemirror_mode": {
    "name": "ipython",
    "version": 3
   },
   "file_extension": ".py",
   "mimetype": "text/x-python",
   "name": "python",
   "nbconvert_exporter": "python",
   "pygments_lexer": "ipython3",
   "version": "3.6.1"
  }
 },
 "nbformat": 4,
 "nbformat_minor": 2
}
