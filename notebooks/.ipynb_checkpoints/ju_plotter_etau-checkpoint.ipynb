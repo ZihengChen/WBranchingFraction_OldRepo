{
 "cells": [
  {
   "cell_type": "code",
   "execution_count": 2,
   "metadata": {},
   "outputs": [],
   "source": [
    "# First make BLT to pickle if not made\n",
    "#%run -i 'utility_readBLT_etau.py'\n",
    "#%run -i 'utility_printyeilds.py'"
   ]
  },
  {
   "cell_type": "code",
   "execution_count": 5,
   "metadata": {
    "collapsed": true
   },
   "outputs": [],
   "source": [
    "from utility_plot import *\n",
    "## add plotting option and load plotting parameter table\n",
    "%matplotlib inline\n",
    "#%qtconsole --style monokai\n",
    "plt.style.use('classic')\n",
    "plt.rc(\"figure\",facecolor=\"w\",figsize=(6,4))\n",
    "plt.rc(\"font\",size=10)\n",
    "plt.rc(\"savefig\",dpi=300)"
   ]
  },
  {
   "cell_type": "markdown",
   "metadata": {},
   "source": [
    "# 1. Read data and MC as dataframe"
   ]
  },
  {
   "cell_type": "code",
   "execution_count": 10,
   "metadata": {
    "collapsed": true
   },
   "outputs": [],
   "source": [
    "zvetomask  =  \"(lepton2_pt>5) & (nBJets>=2)\"\n",
    "zvetomask  =  zvetomask+ \"& (dilepton_mass>10) & (dilepton_mass<80 | dilepton_mass>100)\""
   ]
  },
  {
   "cell_type": "code",
   "execution_count": 11,
   "metadata": {},
   "outputs": [],
   "source": [
    "pickledir  = \"/Users/zihengchen/Documents/Analysis/BLTReader/data/pickle_etau/\"\n",
    "Data = LoadDataframe(pickledir +\"data2016\").query(zvetomask)\n",
    "MCzz = LoadDataframe(pickledir +\"mcdiboson\").query(zvetomask)\n",
    "MCdy = LoadDataframe(pickledir +\"mcdy\").query(zvetomask)\n",
    "MCt  = LoadDataframe(pickledir +\"mct\").query(zvetomask)\n",
    "MCtt = LoadDataframe(pickledir +\"mctt\").query(zvetomask)"
   ]
  },
  {
   "cell_type": "code",
   "execution_count": 12,
   "metadata": {
    "collapsed": true
   },
   "outputs": [],
   "source": [
    "MCtt0 = MCtt[(MCtt.wdecay == 'mumu_') | (MCtt.wdecay == 'emu_') | (MCtt.wdecay == 'tautau_') | (MCtt.wdecay == 'mutau_')]\n",
    "MCtt1 = MCtt[(MCtt.wdecay == 'ee_')]\n",
    "MCtt2 = MCtt[MCtt.wdecay == 'etau_']\n",
    "MCttf = MCtt[(MCtt.wdecay == 'e_') | (MCtt.wdecay == 'mu_') | (MCtt.wdecay == 'tau_') | (MCtt.wdecay == '_') ]"
   ]
  },
  {
   "cell_type": "markdown",
   "metadata": {},
   "source": [
    "# 2. Plot kinematics"
   ]
  },
  {
   "cell_type": "code",
   "execution_count": 7,
   "metadata": {},
   "outputs": [
    {
     "data": {
      "text/plain": [
       "<matplotlib.figure.Figure at 0x130af19b0>"
      ]
     },
     "metadata": {},
     "output_type": "display_data"
    }
   ],
   "source": [
    "pp = pd.read_csv(\"plotparameters.csv\")\n",
    "pp = pp.drop(50)\n",
    "for index, row in pp.iterrows():\n",
    "    v,a,b,step,xl = row[\"var\"],row[\"lower\"],row[\"upper\"],row[\"step\"],row[\"xlabel\"]\n",
    "    mybin = np.arange(a,b,step)\n",
    "    # 1. show MC\n",
    "    mc = plt.hist([MCzz[v],MCdy[v],MCt[v],\n",
    "                   MCtt2[v],MCtt1[v],MCtt0[v],MCttf[v]],\n",
    "            weights=[ MCzz.eventWeight,MCdy.eventWeight,MCt.eventWeight,\n",
    "                      MCtt2.eventWeight,\n",
    "                      MCtt1.eventWeight,\n",
    "                      MCtt0.eventWeight,\n",
    "                      MCttf.eventWeight\n",
    "                    ],\n",
    "             label=[\"Diboson\",\"DY\",\"single t\",\n",
    "                    r'$t\\bar{t} \\rightarrow e + \\tau$',\n",
    "                    r'$t\\bar{t} \\rightarrow e + e$',\n",
    "                    r'$t\\bar{t}$ other leptonic',\n",
    "                    r'$t\\bar{t}$ semilep/had'],\n",
    "             color=[\"#a32020\",\"#e0301e\",\"#eb8c00\",\n",
    "                    \"gold\",\n",
    "                    \"#49feec\",\n",
    "                    \"deepskyblue\",\n",
    "                    \"mediumpurple\"],\n",
    "             bins = mybin,lw=0,alpha=0.8,histtype=\"stepfilled\", stacked=True)\n",
    "    mc = mc[0]\n",
    "    mcerr = mc[-1]**0.5\n",
    "    plt.errorbar(mybin[1:]-step/2,mc[-1],yerr=mcerr,color=\"k\",fmt='none',lw=200/mybin.size, mew=0, alpha=0.2)\n",
    "\n",
    "    # 2. show data\n",
    "    h,edge = np.histogram(Data[v],mybin,weights=Data.eventWeight)\n",
    "    center = edge[1:]-step/2\n",
    "    plt.errorbar(center,h,yerr=h**0.5,color=\"k\",fmt='.', label=\"data\")\n",
    "\n",
    "    # 3. plot settings\n",
    "    if xl in [\"lepton_delta_phi\",\"bjet_delta_phi\",\"lbjet_delta_phi\"]:\n",
    "        plt.legend(fontsize=10,loc=\"upper left\")\n",
    "    else:\n",
    "        plt.legend(fontsize=10,loc=\"upper right\")\n",
    "        plt.text(0.04*b+0.96*a, 1.35*h.max(), r'CMS $preliminary$',style=\"italic\",fontsize=\"15\",fontweight='bold')\n",
    "        \n",
    "    plt.grid()\n",
    "    plt.ylim(1,1.5*h.max())\n",
    "    plt.xlim(a,b)\n",
    "    #plt.ylim(1,10*h.max())\n",
    "    #plt.yscale('log')\n",
    "    plt.xlabel(xl)\n",
    "    plt.title(\"L=35.7/fb (13TeV)\",loc=\"right\")\n",
    "    plt.savefig(\"../plot/etau/{}.png\".format(v))\n",
    "    plt.clf()"
   ]
  },
  {
   "cell_type": "markdown",
   "metadata": {},
   "source": [
    "# 3. Counting"
   ]
  },
  {
   "cell_type": "code",
   "execution_count": 12,
   "metadata": {},
   "outputs": [
    {
     "data": {
      "image/png": "[encoded data removed]",
      "text/plain": [
       "<matplotlib.figure.Figure at 0x12f5e1128>"
      ]
     },
     "metadata": {},
     "output_type": "display_data"
    }
   ],
   "source": [
    "    v,a,b,step,xl = 'nMuons',0,10,1,'nMuons'\n",
    "    mybin = np.arange(a,b,step)\n",
    "    # 1. show MC\n",
    "    SF = np.array([1,0.008,18.935,4.3,1.297,0.387])\n",
    "    mc = plt.hist([Fake[v],MCzz[v],MCdyl[v],MCdy[v],MCt[v],\n",
    "                   MCtt2[v],MCtt1[v],MCtt0[v],MCttf[v],],\n",
    "            weights=[ SF[0]*Fake.eventWeight,\n",
    "                      SF[1]*MCzz.eventWeight,\n",
    "                      SF[2]*MCdyl.eventWeight,\n",
    "                      SF[3]*MCdy.eventWeight,\n",
    "                      SF[4]*MCt.eventWeight,\n",
    "                      SF[5]*MCtt2.eventWeight,\n",
    "                      SF[5]*MCtt1.eventWeight,\n",
    "                      SF[5]*MCtt0.eventWeight,\n",
    "                      SF[6]*MCttf.eventWeight],\n",
    "             label=[\"Fake\",\"Diboson\",\"_nolegend_\",\"DY\",\"single t\",\n",
    "                    r'$t\\bar{t} \\rightarrow ^\\tau\\mu + ^\\tau\\mu$',\n",
    "                    r'$t\\bar{t} \\rightarrow \\mu + ^\\tau\\mu$',\n",
    "                    r'$t\\bar{t} \\rightarrow \\mu + \\mu$',\n",
    "                    r'$t\\bar{t}$ other leptonic'],\n",
    "             color=[\"#a32020\",\"#e0301e\",\"#eb8c00\",\"#eb8c00\",\"gold\",\n",
    "                    \"#49feec\",\n",
    "                    \"deepskyblue\",\n",
    "                    \"mediumpurple\",\n",
    "                    \"darkmagenta\"],\n",
    "             bins = mybin,lw=0,alpha=0.6,histtype=\"stepfilled\", stacked=True)\n",
    "    mc = mc[0]"
   ]
  },
  {
   "cell_type": "code",
   "execution_count": null,
   "metadata": {
    "collapsed": true
   },
   "outputs": [],
   "source": [
    "print(np.sum(h))\n",
    "print(np.sum(mc[8]))\n",
    "print(np.sum(mc[0]))\n",
    "for i in np.arange(1,9):\n",
    "    print(np.sum(mc[i])-np.sum(mc[i-1]))"
   ]
  },
  {
   "cell_type": "code",
   "execution_count": null,
   "metadata": {
    "collapsed": true
   },
   "outputs": [],
   "source": []
  },
  {
   "cell_type": "code",
   "execution_count": null,
   "metadata": {
    "collapsed": true
   },
   "outputs": [],
   "source": []
  },
  {
   "cell_type": "code",
   "execution_count": null,
   "metadata": {
    "collapsed": true
   },
   "outputs": [],
   "source": []
  },
  {
   "cell_type": "code",
   "execution_count": null,
   "metadata": {
    "collapsed": true
   },
   "outputs": [],
   "source": []
  },
  {
   "cell_type": "code",
   "execution_count": null,
   "metadata": {
    "collapsed": true
   },
   "outputs": [],
   "source": []
  },
  {
   "cell_type": "code",
   "execution_count": null,
   "metadata": {
    "collapsed": true
   },
   "outputs": [],
   "source": []
  },
  {
   "cell_type": "code",
   "execution_count": null,
   "metadata": {
    "collapsed": true
   },
   "outputs": [],
   "source": []
  },
  {
   "cell_type": "code",
   "execution_count": null,
   "metadata": {
    "collapsed": true
   },
   "outputs": [],
   "source": []
  },
  {
   "cell_type": "code",
   "execution_count": null,
   "metadata": {
    "collapsed": true
   },
   "outputs": [],
   "source": []
  },
  {
   "cell_type": "code",
   "execution_count": null,
   "metadata": {
    "collapsed": true
   },
   "outputs": [],
   "source": []
  },
  {
   "cell_type": "markdown",
   "metadata": {},
   "source": [
    "# Debug"
   ]
  },
  {
   "cell_type": "code",
   "execution_count": 13,
   "metadata": {},
   "outputs": [
    {
     "name": "stdout",
     "output_type": "stream",
     "text": [
      "(lepton2_pt>5) & (nBJets>=2)& (dilepton_mass>10) & (dilepton_mass<80 | dilepton_mass>100)\n",
      "[175, 64, 0, 42, 23, 11319, 4, 0, 0, 0, 1, 0, 645, 0, 13, 9873, 1, 562, 0, 11, 6]\n",
      "[1, 0, 0, 0, 0, 52, 0, 0, 0, 0, 0, 0, 2, 0, 1, 41, 0, 2, 0, 0, 0]\n"
     ]
    }
   ],
   "source": [
    "print(zvetomask)\n",
    "for measuredf in [MCtt,MCt]:\n",
    "    yields = []\n",
    "    for tag in ['ee_','emu_','mumu_','etau_','mutau_','tautau_','e_','mu_','tau_','_']:\n",
    "        temp = measuredf[measuredf.wdecay == tag ]\n",
    "        if tag in ['tautau_']:\n",
    "            for taudcy in ['ee_','emu_','mumu_','eh_','muh_','hh_']:\n",
    "                yields.append( len(temp[temp.taudecay==taudcy]) )\n",
    "        elif tag in ['etau_','mutau_','tau_']:\n",
    "            for taudcy in ['e_','mu_','h_']:\n",
    "                yields.append(len(temp[temp.taudecay==taudcy]))\n",
    "        else:\n",
    "            yields.append(len(temp))\n",
    "    print(yields)"
   ]
  },
  {
   "cell_type": "code",
   "execution_count": null,
   "metadata": {
    "collapsed": true
   },
   "outputs": [],
   "source": [
    "(lepton2_pt>5) & (nBJets==1)& (dilepton_mass>10) & (dilepton_mass<80 | dilepton_mass>100)\n",
    "[911, 313, 0, 245, 96, 38334, 15, 0, 4, 16, 5, 0, 2198, 0, 40, 40452, 2, 2338, 0, 93, 60]\n",
    "[5, 2, 0, 0, 0, 306, 0, 0, 0, 1, 0, 0, 21, 0, 0, 403, 0, 22, 0, 1, 0]\n",
    "\n",
    "\n",
    "(lepton2_pt>5) & (nBJets>=2)& (dilepton_mass>10) & (dilepton_mass<80 | dilepton_mass>100)\n",
    "[175, 64, 0, 42, 23, 11319, 4, 0, 0, 0, 1, 0, 645, 0, 13, 9873, 1, 562, 0, 11, 6]\n",
    "[1, 0, 0, 0, 0, 52, 0, 0, 0, 0, 0, 0, 2, 0, 1, 41, 0, 2, 0, 0, 0]"
   ]
  },
  {
   "cell_type": "code",
   "execution_count": null,
   "metadata": {
    "collapsed": true
   },
   "outputs": [],
   "source": []
  },
  {
   "cell_type": "code",
   "execution_count": 5,
   "metadata": {},
   "outputs": [
    {
     "data": {
      "image/png": "[encoded data removed]",
      "text/plain": [
       "<matplotlib.figure.Figure at 0x12ba07ba8>"
      ]
     },
     "metadata": {},
     "output_type": "display_data"
    }
   ],
   "source": [
    "    v,a,b,step,xl = 'nMuons',0,10,1,'nMuons'\n",
    "    mybin = np.arange(a,b,step)\n",
    "    # 1. show MC\n",
    "    SF = np.array([1,0.008,18.935,4.3,1.297,0.387])\n",
    "    mc = plt.hist([Fake[v],MCzz[v],MCdyl[v],MCdy[v],MCt[v],\n",
    "                   MCtt2[v],MCtt1[v],MCtt0[v],MCttf[v],],\n",
    "            weights=[ SF[0]*Fake.eventWeight,\n",
    "                      SF[1]*MCzz.eventWeight,\n",
    "                      SF[2]*MCdyl.eventWeight,\n",
    "                      SF[3]*MCdy.eventWeight,\n",
    "                      SF[4]*MCt.eventWeight,\n",
    "                      SF[5]*MCtt2.eventWeight,\n",
    "                      SF[5]*MCtt1.eventWeight,\n",
    "                      SF[5]*MCtt0.eventWeight,\n",
    "                      SF[5]*MCttf.eventWeight],\n",
    "             label=[\"Fake\",\"Diboson\",\"_nolegend_\",\"DY\",\"single t\",\n",
    "                    r'$t\\bar{t} \\rightarrow ^\\tau\\mu + ^\\tau\\mu$',\n",
    "                    r'$t\\bar{t} \\rightarrow \\mu + ^\\tau\\mu$',\n",
    "                    r'$t\\bar{t} \\rightarrow \\mu + \\mu$',\n",
    "                    r'$t\\bar{t}$ other'],\n",
    "             color=[\"#a32020\",\"#e0301e\",\"#eb8c00\",\"#eb8c00\",\"gold\",\n",
    "                    \"#49feec\",\n",
    "                    \"deepskyblue\",\n",
    "                    \"mediumpurple\",\n",
    "                    \"darkmagenta\"],\n",
    "             bins = mybin,lw=0,alpha=0.6,histtype=\"stepfilled\", stacked=True)\n",
    "    mc = mc[0]\n"
   ]
  },
  {
   "cell_type": "code",
   "execution_count": 11,
   "metadata": {},
   "outputs": [
    {
     "data": {
      "text/plain": [
       "array([  0.00000000e+00,   0.00000000e+00,   8.43916050e+04,\n",
       "         7.18373284e+02,   7.60529609e+00,   0.00000000e+00,\n",
       "         0.00000000e+00,   0.00000000e+00,   0.00000000e+00])"
      ]
     },
     "execution_count": 11,
     "metadata": {},
     "output_type": "execute_result"
    }
   ],
   "source": [
    "mc[7]"
   ]
  },
  {
   "cell_type": "code",
   "execution_count": 8,
   "metadata": {
    "collapsed": true
   },
   "outputs": [],
   "source": [
    "import ROOT\n",
    "f=ROOT.TFile(\"../data/root/etau2016MC.root\");\n"
   ]
  },
  {
   "cell_type": "code",
   "execution_count": 11,
   "metadata": {},
   "outputs": [
    {
     "name": "stdout",
     "output_type": "stream",
     "text": [
      "1811409.0\n",
      "3620281.0\n",
      "1811532.0\n",
      "3619641.0\n",
      "3624372.0\n",
      "1811287.0\n",
      "22670017.0\n",
      "22653517.0\n",
      "22659027.0\n",
      "70930278.0\n"
     ]
    }
   ],
   "source": [
    "hist = f.Get(\"GenEvents_ttbar\")\n",
    "for i in range(10):\n",
    "    print(hist.GetBinContent(i*10+1))"
   ]
  },
  {
   "cell_type": "code",
   "execution_count": 5,
   "metadata": {},
   "outputs": [
    {
     "name": "stdout",
     "output_type": "stream",
     "text": [
      "91832423.0\n",
      "13356306.0\n",
      "0.0\n",
      "0.0\n",
      "0.0\n",
      "0.0\n"
     ]
    }
   ],
   "source": [
    "for i in range(6):\n",
    "    print(hist.GetBinContent(i*10+1))"
   ]
  },
  {
   "cell_type": "code",
   "execution_count": 20,
   "metadata": {},
   "outputs": [
    {
     "data": {
      "text/plain": [
       "214.30852911318652"
      ]
     },
     "execution_count": 20,
     "metadata": {},
     "output_type": "execute_result"
    }
   ],
   "source": [
    "i=8\n",
    "np.sum(mc[i])-np.sum(mc[i-1])"
   ]
  },
  {
   "cell_type": "code",
   "execution_count": 9,
   "metadata": {
    "collapsed": true
   },
   "outputs": [],
   "source": [
    "from collections import defaultdict\n",
    "SF_table = {'ttbar'         :  0.192,\n",
    "           'zjets_m-10to50' : 18.935,\n",
    "           'zjets_m-50'     :  4.227,\n",
    "           'zz_2l2q'        :  0.008,\n",
    "           't_tw'           :  0.130,\n",
    "           'tbar_tw'        :  0.129,\n",
    "          }\n",
    "SF_table = defaultdict(lambda: 1.0, SF_table)"
   ]
  },
  {
   "cell_type": "code",
   "execution_count": 13,
   "metadata": {},
   "outputs": [
    {
     "name": "stdout",
     "output_type": "stream",
     "text": [
      "ee_ mc yield is 6\n",
      "emu_ mc yield is 2\n",
      "mumu_ mc yield is 0\n",
      "etau_ mc yield is 358\n",
      "mutau_ mc yield is 0\n",
      "tautau_ mc yield is 25\n",
      "e_ mc yield is 444\n",
      "mu_ mc yield is 0\n",
      "tau_ mc yield is 25\n",
      "_ mc yield is 0\n"
     ]
    }
   ],
   "source": [
    "for tag in ['ee_','emu_','mumu_','etau_','mutau_','tautau_','e_','mu_','tau_','_']:\n",
    "    mcyield = len(MCt[MCt.ttlepstate == tag ])\n",
    "    print('{} mc yield is {}'.format(tag,mcyield) )"
   ]
  },
  {
   "cell_type": "code",
   "execution_count": 7,
   "metadata": {},
   "outputs": [
    {
     "name": "stdout",
     "output_type": "stream",
     "text": [
      "ee mc yield is 0\n",
      "emu mc yield is 2229\n",
      "mumu mc yield is 482337\n",
      "etau mc yield is 150\n",
      "mutau mc yield is 121133\n",
      "tautau mc yield is 5888\n",
      "1097.0\n",
      "30.624\n",
      "340.83\n",
      "689.001\n",
      "328.141\n",
      "227.8656\n",
      "4687.8471\n",
      "18666.4419\n",
      "92.0673\n"
     ]
    }
   ],
   "source": [
    "########\n",
    "for tag in ['ee','emu','mumu','etau','mutau','tautau']:\n",
    "    mcyield = len(MCtt[MCtt.ttlepstate == tag ])\n",
    "    print('{} mc yield is {}'.format(tag,mcyield) )\n",
    "print(len(Fake)*SF[0])\n",
    "print(len(MCzz)*SF[1])\n",
    "print(len(MCdyl)*SF[2])\n",
    "print(len(MCdy)*SF[3])\n",
    "print(len(MCt)*SF[4])\n",
    "print(len(MCtt2)*SF[5])\n",
    "print(len(MCtt1)*SF[5])\n",
    "print(len(MCtt0)*SF[5])\n",
    "print(len(MCttf)*SF[5])"
   ]
  },
  {
   "cell_type": "code",
   "execution_count": 6,
   "metadata": {},
   "outputs": [
    {
     "data": {
      "text/plain": [
       "<matplotlib.figure.Figure at 0x1304660b8>"
      ]
     },
     "metadata": {},
     "output_type": "display_data"
    }
   ],
   "source": [
    "pp = pd.read_csv(\"plotparameters.csv\")\n",
    "pp = pp.drop(50)\n",
    "for index, row in pp.iterrows():\n",
    "    v,a,b,step,xl = row[\"var\"],row[\"lower\"],row[\"upper\"],row[\"step\"],row[\"xlabel\"]\n",
    "    mybin = np.arange(a,b,step)\n",
    "    # 1. show MC\n",
    "    SF = np.array([1,0.008,18.935,4.23,1.297,0.0387])\n",
    "    mc = plt.hist([Fake[v],MCzz[v],MCdy[v],MCt[v],\n",
    "                   MCtt2[v],MCtt1[v],MCtt0[v],MCttf[v],],\n",
    "            weights=[ SF[0]*Fake.eventWeight,\n",
    "                      SF[1]*MCzz.eventWeight,\n",
    "                      SF[3]*MCdy.eventWeight,\n",
    "                      SF[4]*MCt.eventWeight,\n",
    "                      SF[5]*MCtt2.eventWeight,\n",
    "                      SF[5]*MCtt1.eventWeight,\n",
    "                      SF[5]*MCtt0.eventWeight,\n",
    "                      SF[5]*MCttf.eventWeight],\n",
    "             label=[\"Fake\",\"Diboson\",\"DY\",\"single t\",\n",
    "                    r'$t\\bar{t} \\rightarrow \\tau+ \\tau$',\n",
    "                    r'$t\\bar{t} \\rightarrow \\mu + \\tau$',\n",
    "                    r'$t\\bar{t} \\rightarrow \\mu + e$',\n",
    "                    r'$t\\bar{t}$ other leptonic'],\n",
    "             color=[\"#a32020\",\"#e0301e\",\"#eb8c00\",\"gold\",\n",
    "                    \"#49feec\",\n",
    "                    \"deepskyblue\",\n",
    "                    \"mediumpurple\",\n",
    "                    \"darkmagenta\"],\n",
    "             bins = mybin,lw=0,alpha=0.8,histtype=\"stepfilled\", stacked=True)\n",
    "    mc = mc[0]\n",
    "    mcerr = mc[-1]**0.5\n",
    "    plt.errorbar(mybin[1:]-step/2,mc[-1],yerr=mcerr,color=\"k\",fmt='none',lw=200/mybin.size, mew=0, alpha=0.2)\n",
    "\n",
    "    # 2. show data\n",
    "    h,edge = np.histogram(Data[v],mybin,weights=Data.eventWeight)\n",
    "    center = edge[1:]-step/2\n",
    "    plt.errorbar(center,h,yerr=h**0.5,color=\"k\",fmt='.', label=\"data\")\n",
    "\n",
    "    # 3. plot settings\n",
    "    if xl in [\"lepton_delta_phi\",\"bjet_delta_phi\",\"lbjet_delta_phi\"]:\n",
    "        plt.legend(fontsize=10,loc=\"upper left\")\n",
    "    else:\n",
    "        plt.legend(fontsize=10,loc=\"upper right\")\n",
    "        plt.text(0.04*b+0.96*a, 1.35*h.max(), r'CMS $preliminary$',style=\"italic\",fontsize=\"15\",fontweight='bold')\n",
    "        \n",
    "    plt.grid()\n",
    "    plt.ylim(1,1.5*h.max())\n",
    "    plt.xlim(a,b)\n",
    "    #plt.ylim(1,10*h.max())\n",
    "    #plt.yscale('log')\n",
    "    plt.xlabel(xl)\n",
    "    plt.title(\"L=35.7/fb (13TeV)\",loc=\"right\")\n",
    "    plt.savefig(\"../plot/mutau2jet_1btag/{}.png\".format(v))\n",
    "    plt.clf()"
   ]
  },
  {
   "cell_type": "code",
   "execution_count": null,
   "metadata": {
    "collapsed": true
   },
   "outputs": [],
   "source": [
    "            weights=[SF[0]*Fake.eventWeight,\n",
    "                      SF[1]*MCzz.eventWeight,\n",
    "                      SF[2]*MCdyl.eventWeight,\n",
    "                      SF[3]*MCdy.eventWeight,\n",
    "                      SF[4]*MCt.eventWeight,\n",
    "                      SF[5]*MCtt2.eventWeight,\n",
    "                      SF[5]*MCtt1.eventWeight,\n",
    "                      SF[5]*MCtt0.eventWeight],"
   ]
  },
  {
   "cell_type": "code",
   "execution_count": null,
   "metadata": {
    "collapsed": true
   },
   "outputs": [],
   "source": [
    "mybins = np.arange(1,60,2)\n",
    "plt.hist(Fake[\"lepton2_pt\"], bins = mybins, weights=1*np.ones(len(Fake)), \n",
    "         histtype=\"stepfilled\", color=\"gray\", label=\"Fake\",lw=0,alpha=0.3)\n",
    "plt.hist(MCttf[\"lepton2_pt\"],bins = mybins, weights=0.1424*np.ones(len(MCttf)),\n",
    "         histtype=\"step\", color=\"darkmagenta\", lw=1,label=\"tt_semilep oppoSign\"\n",
    "        )\n",
    "plt.hist(MCttf_s[\"lepton2_pt\"],bins = mybins, weights=0.1424*np.ones(len(MCttf_s)),\n",
    "         histtype=\"step\", color=\"g\", lw=1,label=\"tt_semilep sameSign\"\n",
    "        )\n",
    "plt.grid()\n",
    "plt.legend()\n",
    "plt.xlabel(\"lepton2_pt [GeV]\")\n",
    "plt.savefig(\"ttsemilep.png\")"
   ]
  }
 ],
 "metadata": {
  "kernelspec": {
   "display_name": "Python 3",
   "language": "python",
   "name": "python3"
  },
  "language_info": {
   "codemirror_mode": {
    "name": "ipython",
    "version": 3
   },
   "file_extension": ".py",
   "mimetype": "text/x-python",
   "name": "python",
   "nbconvert_exporter": "python",
   "pygments_lexer": "ipython3",
   "version": "3.6.1"
  }
 },
 "nbformat": 4,
 "nbformat_minor": 2
}
