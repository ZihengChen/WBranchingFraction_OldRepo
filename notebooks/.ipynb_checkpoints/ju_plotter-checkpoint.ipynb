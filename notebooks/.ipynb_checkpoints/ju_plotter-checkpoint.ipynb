{
 "cells": [
  {
   "cell_type": "code",
   "execution_count": 12,
   "metadata": {},
   "outputs": [
    {
     "name": "stdout",
     "output_type": "stream",
     "text": [
      "Welcome to JupyROOT 6.10/00\n"
     ]
    },
    {
     "name": "stderr",
     "output_type": "stream",
     "text": [
      "muon_2016B: 100%|████████████████████| 3.62K/3.62K [00:00<00:00, 4.96Kit/s]\n",
      "muon_2016C: 100%|████████████████████| 1.51K/1.51K [00:00<00:00, 5.56Kit/s]\n",
      "muon_2016D: 100%|████████████████████| 2.52K/2.52K [00:00<00:00, 5.43Kit/s]\n",
      "muon_2016E: 100%|████████████████████| 2.20K/2.20K [00:00<00:00, 5.41Kit/s]\n",
      "muon_2016F: 100%|████████████████████| 1.71K/1.71K [00:00<00:00, 5.57Kit/s]\n",
      "muon_2016G: 100%|████████████████████| 4.72K/4.72K [00:00<00:00, 5.87Kit/s]\n",
      "muon_2016H: 100%|████████████████████| 5.39K/5.39K [00:00<00:00, 5.47Kit/s]\n",
      "zjets_m-10to50: 100%|██████████████████| 28.0/28.0 [00:00<00:00, 3.97Kit/s]\n",
      "zjets_m-50: 100%|████████████████████| 1.36K/1.36K [00:00<00:00, 5.04Kit/s]\n",
      "ttbar_lep: 100%|███████████████████████| 313K/313K [00:51<00:00, 6.02Kit/s]\n",
      "zz_2l2q: 100%|███████████████████████| 14.3K/14.3K [00:02<00:00, 5.70Kit/s]\n",
      "t_tw: 100%|██████████████████████████████| 216/216 [00:00<00:00, 5.33Kit/s]\n",
      "tbar_tw: 100%|███████████████████████████| 228/228 [00:00<00:00, 5.56Kit/s]\n"
     ]
    },
    {
     "data": {
      "text/plain": [
       "<matplotlib.figure.Figure at 0x144381be0>"
      ]
     },
     "metadata": {},
     "output_type": "display_data"
    }
   ],
   "source": [
    "# First make BLT to pickle if not made\n",
    "#%run -i 'utility_readBLT.py'\n",
    "#%run -i 'utility_printyeilds.py'"
   ]
  },
  {
   "cell_type": "code",
   "execution_count": 13,
   "metadata": {
    "collapsed": true
   },
   "outputs": [],
   "source": [
    "from utility_plot import *\n",
    "from utility_DNN import *\n",
    "## add plotting option and load plotting parameter table\n",
    "%matplotlib inline\n",
    "#%qtconsole --style monokai\n",
    "plt.style.use('classic')\n",
    "plt.rc(\"figure\",facecolor=\"w\",figsize=(6,4))\n",
    "plt.rc(\"font\",size=10)\n",
    "plt.rc(\"savefig\",dpi=300)"
   ]
  },
  {
   "cell_type": "markdown",
   "metadata": {},
   "source": [
    "# 1. Read data and MC as dataframe"
   ]
  },
  {
   "cell_type": "code",
   "execution_count": 14,
   "metadata": {
    "collapsed": true
   },
   "outputs": [],
   "source": [
    "pickledir  = \"/Users/zihengchen/Documents/Analysis/BLTReader/data/pickle_mumu2/\"\n",
    "zvetomask  =  \" (dilepton_mass>10) & (dilepton_mass<80 | dilepton_mass>100)\"\n",
    "antichargemask =  \"(lepton1_q == -lepton2_q)\"\n",
    "samechargemask =  \"(lepton1_q ==  lepton2_q)\"\n",
    "\n",
    "# Monte Carlo\n",
    "MCzz  = pd.read_pickle(pickledir+\"mc/ntuple_zz_2l2q.pkl\").query(zvetomask+\"&\"+antichargemask)\n",
    "MCdyl = pd.read_pickle(pickledir+\"mc/ntuple_zjets_m-10to50.pkl\").query(zvetomask+\"&\"+antichargemask)\n",
    "MCdy  = pd.read_pickle(pickledir+\"mc/ntuple_zjets_m-50.pkl\").query(zvetomask+\"&\"+antichargemask)\n",
    "MCt   = pd.read_pickle(pickledir+\"mc/ntuple_t_tw.pkl\").query(zvetomask+\"&\"+antichargemask)\n",
    "MCtt  = pd.read_pickle(pickledir+\"mctt/ntuple_ttbar_lep.pkl\").query(zvetomask+\"&\"+antichargemask)\n",
    "# Data 2016\n",
    "Raw   = LoadDataframe(pickledir +\"data2016\").query(zvetomask)\n",
    "Fake  = Raw.query(samechargemask)\n",
    "Data  = Raw.query(antichargemask)"
   ]
  },
  {
   "cell_type": "code",
   "execution_count": 15,
   "metadata": {
    "collapsed": true
   },
   "outputs": [],
   "source": [
    "MCtt0 = MCtt[(MCtt.ttlepstate == 'mumu') ]\n",
    "MCtt1 = MCtt[(MCtt.ttlepstate == 'mutau')]\n",
    "MCtt2 = MCtt[MCtt.ttlepstate == 'tautau']\n",
    "MCttf = MCtt[(MCtt.ttlepstate == 'ee') |(MCtt.ttlepstate == 'emu') | (MCtt.ttlepstate == 'etau') ]"
   ]
  },
  {
   "cell_type": "markdown",
   "metadata": {},
   "source": [
    "# 2. Plot kinematics"
   ]
  },
  {
   "cell_type": "code",
   "execution_count": 17,
   "metadata": {},
   "outputs": [
    {
     "data": {
      "text/plain": [
       "<matplotlib.figure.Figure at 0x14d1d0d68>"
      ]
     },
     "metadata": {},
     "output_type": "display_data"
    }
   ],
   "source": [
    "pp = pd.read_csv(\"plotparameters.csv\")\n",
    "pp = pp.drop(50)\n",
    "for index, row in pp.iterrows():\n",
    "    v,a,b,step,xl = row[\"var\"],row[\"lower\"],row[\"upper\"],row[\"step\"],row[\"xlabel\"]\n",
    "    mybin = np.arange(a,b,step)\n",
    "    # 1. show MC\n",
    "    #SF = np.array([1,0.008,18.935,4.227,1.297,0.387])\n",
    "    SF = np.array([1,0.008,18.935,4.23,1.297,0.387])\n",
    "    mc = plt.hist([Fake[v],MCzz[v],MCdyl[v],MCdy[v],MCt[v],\n",
    "                   MCtt2[v],MCtt1[v],MCtt0[v],MCttf[v],],\n",
    "            weights=[ SF[0]*Fake.eventWeight,\n",
    "                      SF[1]*MCzz.eventWeight,\n",
    "                      SF[2]*MCdyl.eventWeight,\n",
    "                      SF[3]*MCdy.eventWeight,\n",
    "                      SF[4]*MCt.eventWeight,\n",
    "                      SF[5]*MCtt2.eventWeight,\n",
    "                      SF[5]*MCtt1.eventWeight,\n",
    "                      SF[5]*MCtt0.eventWeight,\n",
    "                      SF[5]*MCttf.eventWeight],\n",
    "             label=[\"Fake\",\"Diboson\",\"_nolegend_\",\"DY\",\"single t\",\n",
    "                    r'$t\\bar{t} \\rightarrow ^\\tau\\mu + ^\\tau\\mu$',\n",
    "                    r'$t\\bar{t} \\rightarrow \\mu + ^\\tau\\mu$',\n",
    "                    r'$t\\bar{t} \\rightarrow \\mu + \\mu$',\n",
    "                    r'$t\\bar{t}$ other leptonic'],\n",
    "             color=[\"#a32020\",\"#e0301e\",\"#eb8c00\",\"#eb8c00\",\"gold\",\n",
    "                    \"#49feec\",\n",
    "                    \"deepskyblue\",\n",
    "                    \"mediumpurple\",\n",
    "                    \"k\"],\n",
    "             bins = mybin,lw=0,alpha=0.6,histtype=\"stepfilled\", stacked=True)\n",
    "    mc = mc[0]\n",
    "    mcerr = mc[-1]**0.5\n",
    "    plt.errorbar(mybin[1:]-step/2,mc[-1],yerr=mcerr,color=\"k\",fmt='none',lw=200/mybin.size, mew=0, alpha=0.2)\n",
    "\n",
    "    # 2. show data\n",
    "    h,edge = np.histogram(Data[v],mybin,weights=Data.eventWeight)\n",
    "    center = edge[1:]-step/2\n",
    "    plt.errorbar(center,h,yerr=h**0.5,color=\"k\",fmt='.', label=\"data\")\n",
    "\n",
    "    # 3. plot settings\n",
    "    if xl in [\"lepton_delta_phi\",\"bjet_delta_phi\",\"lbjet_delta_phi\"]:\n",
    "        plt.legend(fontsize=10,loc=\"upper left\")\n",
    "    else:\n",
    "        plt.legend(fontsize=10,loc=\"upper right\")\n",
    "        plt.text(0.04*b+0.96*a, 1.35*h.max(), r'CMS $preliminary$',style=\"italic\",fontsize=\"15\",fontweight='bold')\n",
    "        \n",
    "    plt.grid()\n",
    "    plt.ylim(1,1.5*h.max())\n",
    "    plt.xlim(a,b)\n",
    "    #plt.ylim(1,10*h.max())\n",
    "    #plt.yscale('log')\n",
    "    plt.xlabel(xl)\n",
    "    plt.title(\"L=35.7/fb (13TeV)\",loc=\"right\")\n",
    "    plt.savefig(\"../plot/2mu2jet_1btag/{}.png\".format(v))\n",
    "    plt.clf()"
   ]
  },
  {
   "cell_type": "code",
   "execution_count": 21,
   "metadata": {},
   "outputs": [
    {
     "data": {
      "image/png": "[encoded data removed]",
      "text/plain": [
       "<matplotlib.figure.Figure at 0x14c844198>"
      ]
     },
     "metadata": {},
     "output_type": "display_data"
    }
   ],
   "source": [
    "    v,a,b,step,xl = 'nMuons',0,10,1,'nMuons'\n",
    "    mybin = np.arange(a,b,step)\n",
    "    # 1. show MC\n",
    "    SF = np.array([1,0.008,18.935,4.3,1.297,0.387])\n",
    "    mc = plt.hist([Fake[v],MCzz[v],MCdyl[v],MCdy[v],MCt[v],\n",
    "                   MCtt2[v],MCtt1[v],MCtt0[v],MCttf[v],],\n",
    "            weights=[ SF[0]*Fake.eventWeight,\n",
    "                      SF[1]*MCzz.eventWeight,\n",
    "                      SF[2]*MCdyl.eventWeight,\n",
    "                      SF[3]*MCdy.eventWeight,\n",
    "                      SF[4]*MCt.eventWeight,\n",
    "                      SF[5]*MCtt2.eventWeight,\n",
    "                      SF[5]*MCtt1.eventWeight,\n",
    "                      SF[5]*MCtt0.eventWeight,\n",
    "                      SF[5]*MCttf.eventWeight],\n",
    "             label=[\"Fake\",\"Diboson\",\"_nolegend_\",\"DY\",\"single t\",\n",
    "                    r'$t\\bar{t} \\rightarrow ^\\tau\\mu + ^\\tau\\mu$',\n",
    "                    r'$t\\bar{t} \\rightarrow \\mu + ^\\tau\\mu$',\n",
    "                    r'$t\\bar{t} \\rightarrow \\mu + \\mu$',\n",
    "                    r'$t\\bar{t}$ other'],\n",
    "             color=[\"#a32020\",\"#e0301e\",\"#eb8c00\",\"#eb8c00\",\"gold\",\n",
    "                    \"#49feec\",\n",
    "                    \"deepskyblue\",\n",
    "                    \"mediumpurple\",\n",
    "                    \"k\"],\n",
    "             bins = mybin,lw=0,alpha=0.6,histtype=\"stepfilled\", stacked=True)\n",
    "    mc = mc[0]\n"
   ]
  },
  {
   "cell_type": "code",
   "execution_count": 19,
   "metadata": {},
   "outputs": [
    {
     "data": {
      "text/plain": [
       "18752.704200012256"
      ]
     },
     "execution_count": 19,
     "metadata": {},
     "output_type": "execute_result"
    }
   ],
   "source": [
    "i=7\n",
    "np.sum(mc[i])-np.sum(mc[i-1])"
   ]
  },
  {
   "cell_type": "code",
   "execution_count": 20,
   "metadata": {},
   "outputs": [
    {
     "data": {
      "text/plain": [
       "26159.817900015329"
      ]
     },
     "execution_count": 20,
     "metadata": {},
     "output_type": "execute_result"
    }
   ],
   "source": [
    "np.sum(mc[7])"
   ]
  },
  {
   "cell_type": "code",
   "execution_count": null,
   "metadata": {
    "collapsed": true
   },
   "outputs": [],
   "source": []
  },
  {
   "cell_type": "code",
   "execution_count": 7,
   "metadata": {},
   "outputs": [
    {
     "name": "stdout",
     "output_type": "stream",
     "text": [
      "ee mc yield is 0\n",
      "emu mc yield is 2229\n",
      "mumu mc yield is 482337\n",
      "etau mc yield is 150\n",
      "mutau mc yield is 121133\n",
      "tautau mc yield is 5888\n",
      "1097.0\n",
      "30.624\n",
      "340.83\n",
      "689.001\n",
      "328.141\n",
      "227.8656\n",
      "4687.8471\n",
      "18666.4419\n",
      "92.0673\n"
     ]
    }
   ],
   "source": [
    "########\n",
    "for tag in ['ee','emu','mumu','etau','mutau','tautau']:\n",
    "    mcyield = len(MCtt[MCtt.ttlepstate == tag ])\n",
    "    print('{} mc yield is {}'.format(tag,mcyield) )\n",
    "print(len(Fake)*SF[0])\n",
    "print(len(MCzz)*SF[1])\n",
    "print(len(MCdyl)*SF[2])\n",
    "print(len(MCdy)*SF[3])\n",
    "print(len(MCt)*SF[4])\n",
    "print(len(MCtt2)*SF[5])\n",
    "print(len(MCtt1)*SF[5])\n",
    "print(len(MCtt0)*SF[5])\n",
    "print(len(MCttf)*SF[5])"
   ]
  },
  {
   "cell_type": "code",
   "execution_count": null,
   "metadata": {
    "collapsed": true
   },
   "outputs": [],
   "source": []
  },
  {
   "cell_type": "code",
   "execution_count": null,
   "metadata": {
    "collapsed": true
   },
   "outputs": [],
   "source": [
    "            weights=[SF[0]*Fake.eventWeight,\n",
    "                      SF[1]*MCzz.eventWeight,\n",
    "                      SF[2]*MCdyl.eventWeight,\n",
    "                      SF[3]*MCdy.eventWeight,\n",
    "                      SF[4]*MCt.eventWeight,\n",
    "                      SF[5]*MCtt2.eventWeight,\n",
    "                      SF[5]*MCtt1.eventWeight,\n",
    "                      SF[5]*MCtt0.eventWeight],"
   ]
  }
 ],
 "metadata": {
  "kernelspec": {
   "display_name": "Python 3",
   "language": "python",
   "name": "python3"
  },
  "language_info": {
   "codemirror_mode": {
    "name": "ipython",
    "version": 3
   },
   "file_extension": ".py",
   "mimetype": "text/x-python",
   "name": "python",
   "nbconvert_exporter": "python",
   "pygments_lexer": "ipython3",
   "version": "3.6.1"
  }
 },
 "nbformat": 4,
 "nbformat_minor": 2
}
