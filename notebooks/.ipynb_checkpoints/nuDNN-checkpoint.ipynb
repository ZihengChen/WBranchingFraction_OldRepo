{
 "cells": [
  {
   "cell_type": "code",
   "execution_count": 6,
   "metadata": {},
   "outputs": [],
   "source": [
    "from utility_DNN import *\n",
    "from utility_plot import *\n",
    "from utility_nusolver import *\n",
    "from IPython.display import clear_output\n",
    "## add plotting option and load plotting parameter table\n",
    "%matplotlib inline\n",
    "#%qtconsole --style monokai\n",
    "plt.style.use('classic')\n",
    "plt.rc(\"figure\",facecolor=\"w\",figsize=(6,4))\n",
    "plt.rc(\"font\",size=10)\n",
    "plt.rc(\"savefig\",dpi=300)"
   ]
  },
  {
   "cell_type": "markdown",
   "metadata": {},
   "source": [
    "# 0. Load Data "
   ]
  },
  {
   "cell_type": "code",
   "execution_count": 13,
   "metadata": {
    "collapsed": true
   },
   "outputs": [],
   "source": [
    "## read data and MC as dataframe\n",
    "pickledir  = \"/Users/zihengchen/Documents/Analysis/BLTReader/data/pickle_mumu/\"\n",
    "zvetomask  =  \"(dilepton_mass>10) & (dilepton_mass<80 | dilepton_mass>100)\"\n",
    "antichargemask =  \"(lepton1_q == -lepton2_q)\"\n",
    "samechargemask =  \"(lepton1_q ==  lepton2_q)\"\n",
    "\n",
    "# Monte Carlo\n",
    "MCzz  = pd.read_pickle(pickledir+\"mc/ntuple_zz_2l2q.pkl\").query(zvetomask+\"&\"+antichargemask)\n",
    "MCdyl = pd.read_pickle(pickledir+\"mc/ntuple_zjets_m-10to50.pkl\").query(zvetomask+\"&\"+antichargemask)\n",
    "MCdy  = pd.read_pickle(pickledir+\"mc/ntuple_zjets_m-50.pkl\").query(zvetomask+\"&\"+antichargemask)\n",
    "MCt   = pd.read_pickle(pickledir+\"mc/ntuple_t_tw.pkl\").query(zvetomask+\"&\"+antichargemask)\n",
    "MCtt  = pd.read_pickle(pickledir+\"mctt/ntuple_ttbar_lep.pkl\").query(zvetomask+\"&\"+antichargemask)\n",
    "# Data 2016\n",
    "Raw   = LoadDataframe(pickledir +\"data2016\").query(zvetomask)\n",
    "Fake  = Raw.query(samechargemask)\n",
    "Data  = Raw.query(antichargemask)\n",
    "# splitting ttbar\n",
    "MCtt0 = MCtt[ (MCtt.ttlepstate == 'ee') |(MCtt.ttlepstate == 'emu') |(MCtt.ttlepstate == 'mumu') ]\n",
    "MCtt1 = MCtt[(MCtt.ttlepstate == 'etau') | (MCtt.ttlepstate == 'mutau') ]\n",
    "MCtt2 = MCtt[MCtt.ttlepstate == 'tautau']"
   ]
  },
  {
   "cell_type": "markdown",
   "metadata": {},
   "source": [
    "# 1. Boostrap Training Set"
   ]
  },
  {
   "cell_type": "code",
   "execution_count": 14,
   "metadata": {
    "collapsed": true
   },
   "outputs": [],
   "source": [
    "##############################\n",
    "# boost strap dataset\n",
    "portion = 0.5/0.0387\n",
    "rejectionpower = 0.4\n",
    "##############################\n",
    "\n",
    "# weighting for fake,zz,DY,t,tt\n",
    "SF = np.array([1,0.008,18.935,4.227,1.297,0.0387])*portion\n",
    "Fake_   = Fake .sample(frac=SF[0],replace=True)\n",
    "MCzz_   = MCzz .sample(frac=SF[1],replace=False)\n",
    "MCdy1_  = MCdy .sample(frac=SF[2],replace=True)\n",
    "MCdy_   = MCdy .sample(frac=SF[3],replace=True)\n",
    "MCt_    = MCt  .sample(frac=SF[4],replace=True)\n",
    "MCtt0_  = MCtt0.sample(frac=SF[5]*rejectionpower,replace=False)\n",
    "MCtt1_  = MCtt1.sample(frac=SF[5],replace=False)\n",
    "MCtt2_  = MCtt2.sample(frac=SF[5],replace=False)\n",
    "\n",
    "MCbkg   = pd.concat([Fake_,MCzz_,MCdy_,MCt_],ignore_index=True)\n",
    "MCttbkg = MCtt0_\n",
    "MCttsig = pd.concat([MCtt1_,MCtt2_],ignore_index=True)"
   ]
  },
  {
   "cell_type": "code",
   "execution_count": 15,
   "metadata": {},
   "outputs": [],
   "source": [
    "removecollist = ['eventWeight','nBJets','nElectrons', 'nJets', 'nMuons', 'nPV','ttlepstate',\n",
    "                 'lepton1_q','lepton2_q','lepton1_mother','lepton2_mother']\n",
    "MCbkg.drop(removecollist, axis=1, inplace=True)\n",
    "MCttbkg.drop(removecollist, axis=1, inplace=True)\n",
    "MCttsig.drop(removecollist, axis=1, inplace=True)\n",
    "\n",
    "MCbkg = MCbkg.reset_index(drop=True)\n",
    "MCttbkg = MCttbkg.reset_index(drop=True)\n",
    "MCttsig = MCttsig.reset_index(drop=True)\n",
    "\n",
    "\n",
    "dat = Data.reset_index(drop=True)\n",
    "dat.drop(removecollist, axis=1, inplace=True)"
   ]
  },
  {
   "cell_type": "markdown",
   "metadata": {},
   "source": [
    "## 1.2 Solve Nuetrino"
   ]
  },
  {
   "cell_type": "code",
   "execution_count": 18,
   "metadata": {
    "collapsed": true
   },
   "outputs": [],
   "source": [
    "MCttsig = pd.read_csv(\"MCttsig.csv\").drop('Unnamed: 0', axis=1)\n",
    "MCttbkg = pd.read_csv(\"MCttbkg.csv\").drop('Unnamed: 0', axis=1)\n",
    "MCbkg = pd.read_csv(\"MCbkg.csv\").drop('Unnamed: 0', axis=1)"
   ]
  },
  {
   "cell_type": "code",
   "execution_count": null,
   "metadata": {
    "collapsed": true
   },
   "outputs": [],
   "source": [
    "nuvar =['nu1_sol1normal','nu2_sol1normal','nu1_sol2normal','nu2_sol2normal',\n",
    "             'nu1_sol1cross','nu2_sol1cross','nu1_sol2cross','nu2_sol2cross']\n",
    "# data\n",
    "datnu = dfwithnusolutions(dat)\n",
    "datnu = np.nan_to_num(datnu)\n",
    "dat   = pd.concat([dat,  pd.DataFrame(datnu,columns=nuvar)],axis=1)\n",
    "\n",
    "dat['label'] = 0\n",
    "dat.to_csv(\"dat.csv\")\n",
    "\n",
    "\n",
    "# MC\n",
    "MCbkgnu = dfwithnusolutions(MCbkg)\n",
    "MCttbkgnu = dfwithnusolutions(MCttbkg)\n",
    "MCttsignu = dfwithnusolutions(MCttsig)\n",
    "MCbkgnu = np.nan_to_num(MCbkgnu)\n",
    "MCttbkgnu = np.nan_to_num(MCttbkgnu)\n",
    "MCttsignu = np.nan_to_num(MCttsignu)\n",
    "\n",
    "MCbkg   = pd.concat([MCbkg,  pd.DataFrame(MCbkgnu,columns=nuvar)],axis=1)\n",
    "MCttbkg = pd.concat([MCttbkg,pd.DataFrame(MCttbkgnu,columns=nuvar) ],axis=1)\n",
    "MCttsig = pd.concat([MCttsig,pd.DataFrame(MCttsignu,columns=nuvar)],axis=1)\n",
    "\n",
    "\n",
    "MCbkg['label'] = 0\n",
    "MCttbkg['label'] = 1\n",
    "MCttsig['label'] = 2\n",
    "MCttsig.to_csv(\"MCttsig.csv\")\n",
    "MCttbkg.to_csv(\"MCttbkg.csv\")\n",
    "MCbkg.to_csv(\"MCbkg.csv\")"
   ]
  },
  {
   "cell_type": "markdown",
   "metadata": {},
   "source": [
    "## 1.3 Prepare Trainingset"
   ]
  },
  {
   "cell_type": "code",
   "execution_count": 21,
   "metadata": {},
   "outputs": [],
   "source": [
    "BATCHSIZE   = 500\n",
    "NFeature    = 69+8\n",
    "df_train    = pd.concat([MCbkg,MCttbkg,MCttsig],ignore_index=True)\n",
    "trainset    = MyDataset(df_train.as_matrix(),NFeature)\n",
    "trainloader = DataLoader(trainset, batch_size=BATCHSIZE,shuffle=True, num_workers=4)"
   ]
  },
  {
   "cell_type": "markdown",
   "metadata": {},
   "source": [
    "# 2. Define DNN and Train DNN"
   ]
  },
  {
   "cell_type": "code",
   "execution_count": 22,
   "metadata": {},
   "outputs": [],
   "source": [
    "#net = Net(NFeature,128,256,64,3).cuda()\n",
    "net = torch.load(\"checkpointDNNnu.pt\")"
   ]
  },
  {
   "cell_type": "code",
   "execution_count": 28,
   "metadata": {},
   "outputs": [
    {
     "name": "stdout",
     "output_type": "stream",
     "text": [
      "[200] loss: 179.33203\n",
      "Finished Training\n"
     ]
    }
   ],
   "source": [
    "net = net.cuda()\n",
    "criterion   = nn.CrossEntropyLoss()\n",
    "optimizer   = optim.SGD(net.parameters(), lr=0.0001, momentum=0.9)\n",
    "## start to train\n",
    "#------------------------------------------------------------------\n",
    "for epoch in range(200):  # loop over the dataset multiple times\n",
    "    running_loss = 0.0\n",
    "    for i, onebatch in enumerate(trainloader,0):\n",
    "        # get the inputs\n",
    "        inputs = Variable(onebatch[\"feature\"]).cuda()\n",
    "        labels = Variable(onebatch[\"label\"]).cuda()\n",
    "        # zero the parameter gradients\n",
    "        optimizer.zero_grad()\n",
    "        # forward + backward + optimize\n",
    "        outputs = net(inputs)\n",
    "        loss = criterion(outputs, labels)\n",
    "        loss.backward()\n",
    "        optimizer.step()\n",
    "        # print statistics\n",
    "        running_loss += loss.data[0]\n",
    "        \n",
    "    clear_output(wait=True)\n",
    "    print('[%d] loss: %.5f' %(epoch + 1, running_loss))\n",
    "print('Finished Training')\n",
    "torch.save(net.cpu(),\"checkpointDNNnu.pt\")"
   ]
  },
  {
   "cell_type": "markdown",
   "metadata": {},
   "source": [
    "# 3. Training Accuracy"
   ]
  },
  {
   "cell_type": "code",
   "execution_count": 30,
   "metadata": {},
   "outputs": [
    {
     "name": "stdout",
     "output_type": "stream",
     "text": [
      "Accuracy of background   : 98.2%\n",
      "Accuracy of ttbar_background : 85.2%\n",
      "Accuracy of ttbar_signal : 53.9%\n"
     ]
    }
   ],
   "source": [
    "classes = [\"background\",\"ttbar_background\",\"ttbar_signal\"]\n",
    "class_correct = list(0. for i in range(3))\n",
    "class_total   = list(0. for i in range(3))\n",
    "net           = net.cpu()\n",
    "for dataiter in trainloader:\n",
    "    #dataiter = iter(trainloader).next()\n",
    "    thisbatch_inputs   = dataiter[\"feature\"]\n",
    "    thisbatch_labels   = dataiter[\"label\"]\n",
    "    thisbatch_outputs  = net(Variable(thisbatch_inputs))\n",
    "    thisbatch_predicts = torch.max(thisbatch_outputs.data, 1)[1] # return likelihood, predict\n",
    "    c = (thisbatch_predicts == thisbatch_labels).squeeze()\n",
    "    for i in range(BATCHSIZE):\n",
    "        if len(c) == BATCHSIZE:\n",
    "            class_correct[thisbatch_labels[i]] += c[i]\n",
    "            class_total[thisbatch_labels[i]]   += 1\n",
    "            \n",
    "for i in range(3):\n",
    "    print (\"Accuracy of {:12s} : {:3.1f}%\".format(classes[i],100*class_correct[i]/class_total[i]))"
   ]
  },
  {
   "cell_type": "markdown",
   "metadata": {},
   "source": [
    "# 4. Testing Accuracy"
   ]
  }
 ],
 "metadata": {
  "kernelspec": {
   "display_name": "Python 3",
   "language": "python",
   "name": "python3"
  },
  "language_info": {
   "codemirror_mode": {
    "name": "ipython",
    "version": 3
   },
   "file_extension": ".py",
   "mimetype": "text/x-python",
   "name": "python",
   "nbconvert_exporter": "python",
   "pygments_lexer": "ipython3",
   "version": "3.6.1"
  }
 },
 "nbformat": 4,
 "nbformat_minor": 2
}
