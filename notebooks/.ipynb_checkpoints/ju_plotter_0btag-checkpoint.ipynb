{
 "cells": [
  {
   "cell_type": "code",
   "execution_count": 1,
   "metadata": {},
   "outputs": [
    {
     "name": "stdout",
     "output_type": "stream",
     "text": [
      "Welcome to JupyROOT 6.10/00\n"
     ]
    },
    {
     "name": "stderr",
     "output_type": "stream",
     "text": [
      "muon_2016B: 100%|██████████████████████| 259K/259K [01:38<00:00, 2.62Kit/s]\n",
      "muon_2016C: 100%|██████████████████████| 114K/114K [00:42<00:00, 2.66Kit/s]\n",
      "muon_2016D: 100%|██████████████████████| 190K/190K [01:10<00:00, 2.71Kit/s]\n",
      "muon_2016E: 100%|██████████████████████| 177K/177K [02:16<00:00, 1.30Kit/s]\n",
      "muon_2016F: 100%|██████████████████████| 139K/139K [00:59<00:00, 2.33Kit/s]\n",
      "muon_2016G:  46%|██████████            | 163K/355K [01:04<02:13, 1.43Kit/s]"
     ]
    },
    {
     "ename": "KeyboardInterrupt",
     "evalue": "",
     "output_type": "error",
     "traceback": [
      "\u001b[0;31m---------------------------------------------------------------------------\u001b[0m",
      "\u001b[0;31mKeyboardInterrupt\u001b[0m                         Traceback (most recent call last)",
      "\u001b[0;32m/Users/zihengchen/Documents/Analysis/BLTReader/code/utility_readBLT_0btag.py\u001b[0m in \u001b[0;36m<module>\u001b[0;34m()\u001b[0m\n\u001b[1;32m    233\u001b[0m \u001b[0;32mfor\u001b[0m \u001b[0mdataset\u001b[0m \u001b[0;32min\u001b[0m \u001b[0mdataset_list\u001b[0m\u001b[0;34m:\u001b[0m\u001b[0;34m\u001b[0m\u001b[0m\n\u001b[1;32m    234\u001b[0m     \u001b[0mroot2df_config\u001b[0m \u001b[0;34m=\u001b[0m \u001b[0;34m[\u001b[0m\u001b[0mdataset\u001b[0m\u001b[0;34m,\u001b[0m\u001b[0minput_root_file\u001b[0m\u001b[0;34m,\u001b[0m\u001b[0moutput_directory\u001b[0m\u001b[0;34m]\u001b[0m\u001b[0;34m\u001b[0m\u001b[0m\n\u001b[0;32m--> 235\u001b[0;31m     \u001b[0mpickle_ntuple\u001b[0m\u001b[0;34m(\u001b[0m\u001b[0mroot2df_config\u001b[0m\u001b[0;34m)\u001b[0m\u001b[0;34m\u001b[0m\u001b[0m\n\u001b[0m\u001b[1;32m    236\u001b[0m \u001b[0;34m\u001b[0m\u001b[0m\n\u001b[1;32m    237\u001b[0m \u001b[0;34m\u001b[0m\u001b[0m\n",
      "\u001b[0;32m/Users/zihengchen/Documents/Analysis/BLTReader/code/utility_readBLT_0btag.py\u001b[0m in \u001b[0;36mpickle_ntuple\u001b[0;34m(ntuple_data)\u001b[0m\n\u001b[1;32m    214\u001b[0m     \u001b[0mtree\u001b[0m   \u001b[0;34m=\u001b[0m \u001b[0mfroot\u001b[0m\u001b[0;34m.\u001b[0m\u001b[0mGet\u001b[0m\u001b[0;34m(\u001b[0m\u001b[0;34m'tree_{0}'\u001b[0m\u001b[0;34m.\u001b[0m\u001b[0mformat\u001b[0m\u001b[0;34m(\u001b[0m\u001b[0mname\u001b[0m\u001b[0;34m)\u001b[0m\u001b[0;34m)\u001b[0m\u001b[0;34m\u001b[0m\u001b[0m\n\u001b[1;32m    215\u001b[0m     \u001b[0mntuple\u001b[0m \u001b[0;34m=\u001b[0m \u001b[0mfill_ntuple\u001b[0m\u001b[0;34m(\u001b[0m\u001b[0mtree\u001b[0m\u001b[0;34m,\u001b[0m \u001b[0mname\u001b[0m\u001b[0;34m)\u001b[0m\u001b[0;34m\u001b[0m\u001b[0m\n\u001b[0;32m--> 216\u001b[0;31m     \u001b[0mdf\u001b[0m     \u001b[0;34m=\u001b[0m \u001b[0mpd\u001b[0m\u001b[0;34m.\u001b[0m\u001b[0mDataFrame\u001b[0m\u001b[0;34m(\u001b[0m\u001b[0mntuple\u001b[0m\u001b[0;34m)\u001b[0m\u001b[0;34m\u001b[0m\u001b[0m\n\u001b[0m\u001b[1;32m    217\u001b[0m     \u001b[0mdf\u001b[0m\u001b[0;34m.\u001b[0m\u001b[0mto_pickle\u001b[0m\u001b[0;34m(\u001b[0m\u001b[0;34m'{0}/ntuple_{1}.pkl'\u001b[0m\u001b[0;34m.\u001b[0m\u001b[0mformat\u001b[0m\u001b[0;34m(\u001b[0m\u001b[0moutput_path\u001b[0m\u001b[0;34m,\u001b[0m \u001b[0mname\u001b[0m\u001b[0;34m)\u001b[0m\u001b[0;34m)\u001b[0m\u001b[0;34m\u001b[0m\u001b[0m\n\u001b[1;32m    218\u001b[0m \u001b[0;34m\u001b[0m\u001b[0m\n",
      "\u001b[0;32m/Users/zihengchen/anaconda/lib/python3.6/site-packages/pandas/core/frame.py\u001b[0m in \u001b[0;36m__init__\u001b[0;34m(self, data, index, columns, dtype, copy)\u001b[0m\n\u001b[1;32m    307\u001b[0m         \u001b[0;32melif\u001b[0m \u001b[0misinstance\u001b[0m\u001b[0;34m(\u001b[0m\u001b[0mdata\u001b[0m\u001b[0;34m,\u001b[0m \u001b[0;34m(\u001b[0m\u001b[0mlist\u001b[0m\u001b[0;34m,\u001b[0m \u001b[0mtypes\u001b[0m\u001b[0;34m.\u001b[0m\u001b[0mGeneratorType\u001b[0m\u001b[0;34m)\u001b[0m\u001b[0;34m)\u001b[0m\u001b[0;34m:\u001b[0m\u001b[0;34m\u001b[0m\u001b[0m\n\u001b[1;32m    308\u001b[0m             \u001b[0;32mif\u001b[0m \u001b[0misinstance\u001b[0m\u001b[0;34m(\u001b[0m\u001b[0mdata\u001b[0m\u001b[0;34m,\u001b[0m \u001b[0mtypes\u001b[0m\u001b[0;34m.\u001b[0m\u001b[0mGeneratorType\u001b[0m\u001b[0;34m)\u001b[0m\u001b[0;34m:\u001b[0m\u001b[0;34m\u001b[0m\u001b[0m\n\u001b[0;32m--> 309\u001b[0;31m                 \u001b[0mdata\u001b[0m \u001b[0;34m=\u001b[0m \u001b[0mlist\u001b[0m\u001b[0;34m(\u001b[0m\u001b[0mdata\u001b[0m\u001b[0;34m)\u001b[0m\u001b[0;34m\u001b[0m\u001b[0m\n\u001b[0m\u001b[1;32m    310\u001b[0m             \u001b[0;32mif\u001b[0m \u001b[0mlen\u001b[0m\u001b[0;34m(\u001b[0m\u001b[0mdata\u001b[0m\u001b[0;34m)\u001b[0m \u001b[0;34m>\u001b[0m \u001b[0;36m0\u001b[0m\u001b[0;34m:\u001b[0m\u001b[0;34m\u001b[0m\u001b[0m\n\u001b[1;32m    311\u001b[0m                 \u001b[0;32mif\u001b[0m \u001b[0mis_list_like\u001b[0m\u001b[0;34m(\u001b[0m\u001b[0mdata\u001b[0m\u001b[0;34m[\u001b[0m\u001b[0;36m0\u001b[0m\u001b[0;34m]\u001b[0m\u001b[0;34m)\u001b[0m \u001b[0;32mand\u001b[0m \u001b[0mgetattr\u001b[0m\u001b[0;34m(\u001b[0m\u001b[0mdata\u001b[0m\u001b[0;34m[\u001b[0m\u001b[0;36m0\u001b[0m\u001b[0;34m]\u001b[0m\u001b[0;34m,\u001b[0m \u001b[0;34m'ndim'\u001b[0m\u001b[0;34m,\u001b[0m \u001b[0;36m1\u001b[0m\u001b[0;34m)\u001b[0m \u001b[0;34m==\u001b[0m \u001b[0;36m1\u001b[0m\u001b[0;34m:\u001b[0m\u001b[0;34m\u001b[0m\u001b[0m\n",
      "\u001b[0;32m/Users/zihengchen/Documents/Analysis/BLTReader/code/utility_readBLT_0btag.py\u001b[0m in \u001b[0;36mfill_ntuple\u001b[0;34m(tree, name)\u001b[0m\n\u001b[1;32m    194\u001b[0m         if ( (tree.nElectrons==0) &\n\u001b[1;32m    195\u001b[0m              \u001b[0;34m(\u001b[0m\u001b[0mtree\u001b[0m\u001b[0;34m.\u001b[0m\u001b[0mleptonTwoP4\u001b[0m\u001b[0;34m.\u001b[0m\u001b[0mPt\u001b[0m\u001b[0;34m(\u001b[0m\u001b[0;34m)\u001b[0m\u001b[0;34m>\u001b[0m\u001b[0;36m5\u001b[0m\u001b[0;34m)\u001b[0m \u001b[0;34m&\u001b[0m\u001b[0;34m\u001b[0m\u001b[0m\n\u001b[0;32m--> 196\u001b[0;31m              \u001b[0;34m(\u001b[0m\u001b[0mtree\u001b[0m\u001b[0;34m.\u001b[0m\u001b[0mnBJets\u001b[0m \u001b[0;34m==\u001b[0m\u001b[0;36m0\u001b[0m\u001b[0;34m)\u001b[0m \u001b[0;34m&\u001b[0m\u001b[0;34m\u001b[0m\u001b[0m\n\u001b[0m\u001b[1;32m    197\u001b[0m              ( ((tree.leptonOneP4+tree.leptonTwoP4).M()<80) |\n\u001b[1;32m    198\u001b[0m                ((tree.leptonOneP4+tree.leptonTwoP4).M()>100) )        \n",
      "\u001b[0;31mKeyboardInterrupt\u001b[0m: "
     ]
    }
   ],
   "source": [
    "# First make BLT to pickle if not made\n",
    "%run -i 'utility_readBLT_0btag.py'\n",
    "#%run -i 'utility_printyeilds.py'"
   ]
  },
  {
   "cell_type": "code",
   "execution_count": 6,
   "metadata": {
    "collapsed": true
   },
   "outputs": [],
   "source": [
    "from utility_plot import *\n",
    "## add plotting option and load plotting parameter table\n",
    "%matplotlib inline\n",
    "#%qtconsole --style monokai\n",
    "plt.style.use('classic')\n",
    "plt.rc(\"figure\",facecolor=\"w\",figsize=(6,4))\n",
    "plt.rc(\"font\",size=10)\n",
    "plt.rc(\"savefig\",dpi=300)"
   ]
  },
  {
   "cell_type": "markdown",
   "metadata": {},
   "source": [
    "# 1. Read data and MC as dataframe"
   ]
  },
  {
   "cell_type": "code",
   "execution_count": 1,
   "metadata": {},
   "outputs": [
    {
     "ename": "NameError",
     "evalue": "name 'pd' is not defined",
     "output_type": "error",
     "traceback": [
      "\u001b[0;31m---------------------------------------------------------------------------\u001b[0m",
      "\u001b[0;31mNameError\u001b[0m                                 Traceback (most recent call last)",
      "\u001b[0;32m<ipython-input-1-1a6ae536af63>\u001b[0m in \u001b[0;36m<module>\u001b[0;34m()\u001b[0m\n\u001b[1;32m      5\u001b[0m \u001b[0;34m\u001b[0m\u001b[0m\n\u001b[1;32m      6\u001b[0m \u001b[0;31m# Monte Carlo\u001b[0m\u001b[0;34m\u001b[0m\u001b[0;34m\u001b[0m\u001b[0m\n\u001b[0;32m----> 7\u001b[0;31m \u001b[0mMCzz\u001b[0m  \u001b[0;34m=\u001b[0m \u001b[0mpd\u001b[0m\u001b[0;34m.\u001b[0m\u001b[0mread_pickle\u001b[0m\u001b[0;34m(\u001b[0m\u001b[0mpickledir\u001b[0m\u001b[0;34m+\u001b[0m\u001b[0;34m\"mc/ntuple_zz_2l2q.pkl\"\u001b[0m\u001b[0;34m)\u001b[0m\u001b[0;34m.\u001b[0m\u001b[0mquery\u001b[0m\u001b[0;34m(\u001b[0m\u001b[0mzvetomask\u001b[0m\u001b[0;34m+\u001b[0m\u001b[0;34m\"&\"\u001b[0m\u001b[0;34m+\u001b[0m\u001b[0mantichargemask\u001b[0m\u001b[0;34m)\u001b[0m\u001b[0;34m\u001b[0m\u001b[0m\n\u001b[0m\u001b[1;32m      8\u001b[0m \u001b[0mMCdyl\u001b[0m \u001b[0;34m=\u001b[0m \u001b[0mpd\u001b[0m\u001b[0;34m.\u001b[0m\u001b[0mread_pickle\u001b[0m\u001b[0;34m(\u001b[0m\u001b[0mpickledir\u001b[0m\u001b[0;34m+\u001b[0m\u001b[0;34m\"mc/ntuple_zjets_m-10to50.pkl\"\u001b[0m\u001b[0;34m)\u001b[0m\u001b[0;34m.\u001b[0m\u001b[0mquery\u001b[0m\u001b[0;34m(\u001b[0m\u001b[0mzvetomask\u001b[0m\u001b[0;34m+\u001b[0m\u001b[0;34m\"&\"\u001b[0m\u001b[0;34m+\u001b[0m\u001b[0mantichargemask\u001b[0m\u001b[0;34m)\u001b[0m\u001b[0;34m\u001b[0m\u001b[0m\n\u001b[1;32m      9\u001b[0m \u001b[0mMCdy\u001b[0m  \u001b[0;34m=\u001b[0m \u001b[0mpd\u001b[0m\u001b[0;34m.\u001b[0m\u001b[0mread_pickle\u001b[0m\u001b[0;34m(\u001b[0m\u001b[0mpickledir\u001b[0m\u001b[0;34m+\u001b[0m\u001b[0;34m\"mc/ntuple_zjets_m-50.pkl\"\u001b[0m\u001b[0;34m)\u001b[0m\u001b[0;34m.\u001b[0m\u001b[0mquery\u001b[0m\u001b[0;34m(\u001b[0m\u001b[0mzvetomask\u001b[0m\u001b[0;34m+\u001b[0m\u001b[0;34m\"&\"\u001b[0m\u001b[0;34m+\u001b[0m\u001b[0mantichargemask\u001b[0m\u001b[0;34m)\u001b[0m\u001b[0;34m\u001b[0m\u001b[0m\n",
      "\u001b[0;31mNameError\u001b[0m: name 'pd' is not defined"
     ]
    }
   ],
   "source": [
    "pickledir  = \"/Users/zihengchen/Documents/Analysis/BLTReader/data/pickle_mumu_0btag/\"\n",
    "zvetomask  =  \" (lepton2_pt>5) & (dilepton_mass>10) & (dilepton_mass<80 | dilepton_mass>100)\"\n",
    "antichargemask =  \"(lepton1_q == -lepton2_q)\"\n",
    "samechargemask =  \"(lepton1_q ==  lepton2_q)\"\n",
    "\n",
    "# Monte Carlo\n",
    "MCzz  = pd.read_pickle(pickledir+\"mc/ntuple_zz_2l2q.pkl\").query(zvetomask+\"&\"+antichargemask)\n",
    "MCdyl = pd.read_pickle(pickledir+\"mc/ntuple_zjets_m-10to50.pkl\").query(zvetomask+\"&\"+antichargemask)\n",
    "MCdy  = pd.read_pickle(pickledir+\"mc/ntuple_zjets_m-50.pkl\").query(zvetomask+\"&\"+antichargemask)\n",
    "MCta  = pd.read_pickle(pickledir+\"mc/ntuple_t_tw.pkl\").query(zvetomask+\"&\"+antichargemask)\n",
    "MCtb  = pd.read_pickle(pickledir+\"mc/ntuple_tbar_tw.pkl\").query(zvetomask+\"&\"+antichargemask)\n",
    "MCt = pd.concat([MCta,MCtb],ignore_index=True)\n",
    "MCtt  = pd.read_pickle(pickledir+\"mctt/ntuple_ttbar_lep.pkl\").query(zvetomask+\"&\"+antichargemask)\n",
    "# Data 2016\n",
    "Raw   = LoadDataframe(pickledir +\"data2016\").query(zvetomask)\n",
    "Fake  = Raw.query(samechargemask)\n",
    "Data  = Raw.query(antichargemask)"
   ]
  },
  {
   "cell_type": "code",
   "execution_count": 15,
   "metadata": {
    "collapsed": true
   },
   "outputs": [],
   "source": [
    "MCtt0 = MCtt[(MCtt.ttlepstate == 'mumu') ]\n",
    "MCtt1 = MCtt[(MCtt.ttlepstate == 'mutau')]\n",
    "MCtt2 = MCtt[MCtt.ttlepstate == 'tautau']\n",
    "MCttf = MCtt[(MCtt.ttlepstate == 'ee') |(MCtt.ttlepstate == 'emu') | (MCtt.ttlepstate == 'etau') ]"
   ]
  },
  {
   "cell_type": "markdown",
   "metadata": {},
   "source": [
    "# 2. Plot kinematics"
   ]
  },
  {
   "cell_type": "code",
   "execution_count": 16,
   "metadata": {},
   "outputs": [
    {
     "data": {
      "text/plain": [
       "<matplotlib.figure.Figure at 0x144a74438>"
      ]
     },
     "metadata": {},
     "output_type": "display_data"
    }
   ],
   "source": [
    "pp = pd.read_csv(\"plotparameters.csv\")\n",
    "pp = pp.drop(50)\n",
    "for index, row in pp.iterrows():\n",
    "    v,a,b,step,xl = row[\"var\"],row[\"lower\"],row[\"upper\"],row[\"step\"],row[\"xlabel\"]\n",
    "    mybin = np.arange(a,b,step)\n",
    "    # 1. show MC\n",
    "    SF = np.array([1,0.008,18.935,4.23,1.297,0.387])\n",
    "    mc = plt.hist([Fake[v],MCzz[v],MCdyl[v],MCdy[v],MCt[v],\n",
    "                   MCtt2[v],MCtt1[v],MCtt0[v],MCttf[v],],\n",
    "            weights=[ SF[0]*Fake.eventWeight,\n",
    "                      SF[1]*MCzz.eventWeight,\n",
    "                      SF[2]*MCdyl.eventWeight,\n",
    "                      SF[3]*MCdy.eventWeight,\n",
    "                      SF[4]*MCt.eventWeight,\n",
    "                      SF[5]*MCtt2.eventWeight,\n",
    "                      SF[5]*MCtt1.eventWeight,\n",
    "                      SF[5]*MCtt0.eventWeight,\n",
    "                      SF[5]*MCttf.eventWeight],\n",
    "             label=[\"Fake\",\"Diboson\",\"_nolegend_\",\"DY\",\"single t\",\n",
    "                    r'$t\\bar{t} \\rightarrow ^\\tau\\mu + ^\\tau\\mu$',\n",
    "                    r'$t\\bar{t} \\rightarrow \\mu + ^\\tau\\mu$',\n",
    "                    r'$t\\bar{t} \\rightarrow \\mu + \\mu$',\n",
    "                    r'$t\\bar{t}$ other leptonic'],\n",
    "             color=[\"#a32020\",\"#e0301e\",\"#eb8c00\",\"#eb8c00\",\"gold\",\n",
    "                    \"#49feec\",\n",
    "                    \"deepskyblue\",\n",
    "                    \"mediumpurple\",\n",
    "                    \"darkmagenta\"],\n",
    "             bins = mybin,lw=0,alpha=0.6,histtype=\"stepfilled\", stacked=True)\n",
    "    mc = mc[0]\n",
    "    mcerr = mc[-1]**0.5\n",
    "    plt.errorbar(mybin[1:]-step/2,mc[-1],yerr=mcerr,color=\"k\",fmt='none',lw=200/mybin.size, mew=0, alpha=0.2)\n",
    "\n",
    "    # 2. show data\n",
    "    h,edge = np.histogram(Data[v],mybin,weights=Data.eventWeight)\n",
    "    center = edge[1:]-step/2\n",
    "    plt.errorbar(center,h,yerr=h**0.5,color=\"k\",fmt='.', label=\"data\")\n",
    "\n",
    "    # 3. plot settings\n",
    "    if xl in [\"lepton_delta_phi\",\"bjet_delta_phi\",\"lbjet_delta_phi\"]:\n",
    "        plt.legend(fontsize=10,loc=\"upper left\")\n",
    "    else:\n",
    "        plt.legend(fontsize=10,loc=\"upper right\")\n",
    "        plt.text(0.04*b+0.96*a, 1.35*h.max(), r'CMS $preliminary$',style=\"italic\",fontsize=\"15\",fontweight='bold')\n",
    "        \n",
    "    plt.grid()\n",
    "    plt.ylim(1,1.5*h.max())\n",
    "    plt.xlim(a,b)\n",
    "    #plt.ylim(1,10*h.max())\n",
    "    #plt.yscale('log')\n",
    "    plt.xlabel(xl)\n",
    "    plt.title(\"L=35.7/fb (13TeV)\",loc=\"right\")\n",
    "    plt.savefig(\"../plot/2mu2jet_1btag/{}.png\".format(v))\n",
    "    plt.clf()"
   ]
  },
  {
   "cell_type": "code",
   "execution_count": null,
   "metadata": {
    "collapsed": true
   },
   "outputs": [],
   "source": []
  },
  {
   "cell_type": "code",
   "execution_count": null,
   "metadata": {
    "collapsed": true
   },
   "outputs": [],
   "source": []
  },
  {
   "cell_type": "code",
   "execution_count": null,
   "metadata": {
    "collapsed": true
   },
   "outputs": [],
   "source": []
  },
  {
   "cell_type": "code",
   "execution_count": null,
   "metadata": {
    "collapsed": true
   },
   "outputs": [],
   "source": []
  },
  {
   "cell_type": "code",
   "execution_count": null,
   "metadata": {
    "collapsed": true
   },
   "outputs": [],
   "source": []
  },
  {
   "cell_type": "code",
   "execution_count": null,
   "metadata": {
    "collapsed": true
   },
   "outputs": [],
   "source": []
  },
  {
   "cell_type": "code",
   "execution_count": null,
   "metadata": {
    "collapsed": true
   },
   "outputs": [],
   "source": []
  },
  {
   "cell_type": "markdown",
   "metadata": {},
   "source": [
    "# Debug"
   ]
  },
  {
   "cell_type": "code",
   "execution_count": 5,
   "metadata": {},
   "outputs": [
    {
     "data": {
      "image/png": "[encoded data removed]",
      "text/plain": [
       "<matplotlib.figure.Figure at 0x12ba07ba8>"
      ]
     },
     "metadata": {},
     "output_type": "display_data"
    }
   ],
   "source": [
    "    v,a,b,step,xl = 'nMuons',0,10,1,'nMuons'\n",
    "    mybin = np.arange(a,b,step)\n",
    "    # 1. show MC\n",
    "    SF = np.array([1,0.008,18.935,4.3,1.297,0.387])\n",
    "    mc = plt.hist([Fake[v],MCzz[v],MCdyl[v],MCdy[v],MCt[v],\n",
    "                   MCtt2[v],MCtt1[v],MCtt0[v],MCttf[v],],\n",
    "            weights=[ SF[0]*Fake.eventWeight,\n",
    "                      SF[1]*MCzz.eventWeight,\n",
    "                      SF[2]*MCdyl.eventWeight,\n",
    "                      SF[3]*MCdy.eventWeight,\n",
    "                      SF[4]*MCt.eventWeight,\n",
    "                      SF[5]*MCtt2.eventWeight,\n",
    "                      SF[5]*MCtt1.eventWeight,\n",
    "                      SF[5]*MCtt0.eventWeight,\n",
    "                      SF[5]*MCttf.eventWeight],\n",
    "             label=[\"Fake\",\"Diboson\",\"_nolegend_\",\"DY\",\"single t\",\n",
    "                    r'$t\\bar{t} \\rightarrow ^\\tau\\mu + ^\\tau\\mu$',\n",
    "                    r'$t\\bar{t} \\rightarrow \\mu + ^\\tau\\mu$',\n",
    "                    r'$t\\bar{t} \\rightarrow \\mu + \\mu$',\n",
    "                    r'$t\\bar{t}$ other'],\n",
    "             color=[\"#a32020\",\"#e0301e\",\"#eb8c00\",\"#eb8c00\",\"gold\",\n",
    "                    \"#49feec\",\n",
    "                    \"deepskyblue\",\n",
    "                    \"mediumpurple\",\n",
    "                    \"darkmagenta\"],\n",
    "             bins = mybin,lw=0,alpha=0.6,histtype=\"stepfilled\", stacked=True)\n",
    "    mc = mc[0]\n"
   ]
  },
  {
   "cell_type": "code",
   "execution_count": 11,
   "metadata": {},
   "outputs": [
    {
     "data": {
      "text/plain": [
       "array([  0.00000000e+00,   0.00000000e+00,   8.43916050e+04,\n",
       "         7.18373284e+02,   7.60529609e+00,   0.00000000e+00,\n",
       "         0.00000000e+00,   0.00000000e+00,   0.00000000e+00])"
      ]
     },
     "execution_count": 11,
     "metadata": {},
     "output_type": "execute_result"
    }
   ],
   "source": [
    "mc[7]"
   ]
  },
  {
   "cell_type": "code",
   "execution_count": 21,
   "metadata": {
    "collapsed": true
   },
   "outputs": [],
   "source": [
    "import ROOT\n",
    "f=ROOT.TFile(\"../data/root/mumu2016MC14.root\");\n",
    "hist = f.Get(\"GenEvents_ttbar_lep\")"
   ]
  },
  {
   "cell_type": "code",
   "execution_count": 28,
   "metadata": {},
   "outputs": [
    {
     "name": "stdout",
     "output_type": "stream",
     "text": [
      "8790013.0\n",
      "17569531.0\n",
      "8789997.0\n",
      "17566770.0\n",
      "17570100.0\n",
      "8783200.0\n"
     ]
    }
   ],
   "source": [
    "for i in range(6):\n",
    "    print(hist.GetBinContent(i*10+1))"
   ]
  },
  {
   "cell_type": "code",
   "execution_count": 20,
   "metadata": {},
   "outputs": [
    {
     "data": {
      "text/plain": [
       "214.30852911318652"
      ]
     },
     "execution_count": 20,
     "metadata": {},
     "output_type": "execute_result"
    }
   ],
   "source": [
    "i=8\n",
    "np.sum(mc[i])-np.sum(mc[i-1])"
   ]
  },
  {
   "cell_type": "code",
   "execution_count": 12,
   "metadata": {},
   "outputs": [
    {
     "data": {
      "text/plain": [
       "4392.0"
      ]
     },
     "execution_count": 12,
     "metadata": {},
     "output_type": "execute_result"
    }
   ],
   "source": [
    "np.sum(mc[0])"
   ]
  },
  {
   "cell_type": "code",
   "execution_count": 7,
   "metadata": {},
   "outputs": [
    {
     "name": "stdout",
     "output_type": "stream",
     "text": [
      "ee mc yield is 0\n",
      "emu mc yield is 2229\n",
      "mumu mc yield is 482337\n",
      "etau mc yield is 150\n",
      "mutau mc yield is 121133\n",
      "tautau mc yield is 5888\n",
      "1097.0\n",
      "30.624\n",
      "340.83\n",
      "689.001\n",
      "328.141\n",
      "227.8656\n",
      "4687.8471\n",
      "18666.4419\n",
      "92.0673\n"
     ]
    }
   ],
   "source": [
    "########\n",
    "for tag in ['ee','emu','mumu','etau','mutau','tautau']:\n",
    "    mcyield = len(MCtt[MCtt.ttlepstate == tag ])\n",
    "    print('{} mc yield is {}'.format(tag,mcyield) )\n",
    "print(len(Fake)*SF[0])\n",
    "print(len(MCzz)*SF[1])\n",
    "print(len(MCdyl)*SF[2])\n",
    "print(len(MCdy)*SF[3])\n",
    "print(len(MCt)*SF[4])\n",
    "print(len(MCtt2)*SF[5])\n",
    "print(len(MCtt1)*SF[5])\n",
    "print(len(MCtt0)*SF[5])\n",
    "print(len(MCttf)*SF[5])"
   ]
  },
  {
   "cell_type": "code",
   "execution_count": null,
   "metadata": {
    "collapsed": true
   },
   "outputs": [],
   "source": []
  },
  {
   "cell_type": "code",
   "execution_count": null,
   "metadata": {
    "collapsed": true
   },
   "outputs": [],
   "source": [
    "            weights=[SF[0]*Fake.eventWeight,\n",
    "                      SF[1]*MCzz.eventWeight,\n",
    "                      SF[2]*MCdyl.eventWeight,\n",
    "                      SF[3]*MCdy.eventWeight,\n",
    "                      SF[4]*MCt.eventWeight,\n",
    "                      SF[5]*MCtt2.eventWeight,\n",
    "                      SF[5]*MCtt1.eventWeight,\n",
    "                      SF[5]*MCtt0.eventWeight],"
   ]
  }
 ],
 "metadata": {
  "kernelspec": {
   "display_name": "Python 3",
   "language": "python",
   "name": "python3"
  },
  "language_info": {
   "codemirror_mode": {
    "name": "ipython",
    "version": 3
   },
   "file_extension": ".py",
   "mimetype": "text/x-python",
   "name": "python",
   "nbconvert_exporter": "python",
   "pygments_lexer": "ipython3",
   "version": "3.6.1"
  }
 },
 "nbformat": 4,
 "nbformat_minor": 2
}
