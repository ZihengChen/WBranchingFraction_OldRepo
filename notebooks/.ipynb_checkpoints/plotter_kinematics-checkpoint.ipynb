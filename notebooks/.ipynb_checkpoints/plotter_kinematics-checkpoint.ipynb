{
 "cells": [
  {
   "cell_type": "code",
   "execution_count": 2,
   "metadata": {},
   "outputs": [
    {
     "name": "stderr",
     "output_type": "stream",
     "text": [
      "muon_2016B: 100%|████████████████████| 6.45K/6.45K [00:01<00:00, 5.93Kit/s]\n",
      "muon_2016C: 100%|████████████████████| 2.50K/2.50K [00:00<00:00, 6.21Kit/s]\n",
      "muon_2016D: 100%|████████████████████| 4.21K/4.21K [00:00<00:00, 6.31Kit/s]\n",
      "muon_2016E: 100%|████████████████████| 3.33K/3.33K [00:00<00:00, 6.30Kit/s]\n",
      "muon_2016F: 100%|████████████████████| 2.71K/2.71K [00:00<00:00, 5.92Kit/s]\n",
      "muon_2016G: 100%|████████████████████| 7.87K/7.87K [00:01<00:00, 6.19Kit/s]\n",
      "muon_2016H: 100%|████████████████████| 8.96K/8.96K [00:01<00:00, 6.26Kit/s]\n",
      "zjets_m-10to50: 100%|██████████████████| 18.0/18.0 [00:00<00:00, 5.36Kit/s]\n",
      "zjets_m-50: 100%|████████████████████| 1.05K/1.05K [00:00<00:00, 6.19Kit/s]\n",
      "ttbar_lep: 100%|███████████████████████| 690K/690K [01:52<00:00, 6.13Kit/s]\n",
      "zz_2l2q: 100%|███████████████████████| 21.5K/21.5K [00:03<00:00, 5.89Kit/s]\n",
      "t_tw: 100%|██████████████████████████████| 290/290 [00:00<00:00, 5.69Kit/s]\n",
      "tbar_tw: 100%|███████████████████████████| 284/284 [00:00<00:00, 5.62Kit/s]\n"
     ]
    }
   ],
   "source": [
    "# First make BLT to pickle if not made\n",
    "%run -i 'utility_readBLT.py'\n",
    "#%run -i 'utility_printyeilds.py'"
   ]
  },
  {
   "cell_type": "code",
   "execution_count": 1,
   "metadata": {
    "collapsed": true
   },
   "outputs": [],
   "source": [
    "from utility_plot import *\n",
    "from utility_DNN import *\n",
    "## add plotting option and load plotting parameter table\n",
    "%matplotlib inline\n",
    "#%qtconsole --style monokai\n",
    "plt.style.use('classic')\n",
    "plt.rc(\"figure\",facecolor=\"w\",figsize=(6,4))\n",
    "plt.rc(\"font\",size=10)\n",
    "plt.rc(\"savefig\",dpi=300)"
   ]
  },
  {
   "cell_type": "markdown",
   "metadata": {},
   "source": [
    "# 1. Read data and MC as dataframe"
   ]
  },
  {
   "cell_type": "code",
   "execution_count": 8,
   "metadata": {},
   "outputs": [
    {
     "name": "stdout",
     "output_type": "stream",
     "text": [
      "0 loading dataframe mc_zzto2l2q\n",
      "1 loading dataframe mc_zjets_low\n",
      "2 loading dataframe mc_zjets\n",
      "3 loading dataframe mc_t\n",
      "4 loading dataframe mc_ttbar\n",
      "5 loading dataframe data2016\n"
     ]
    }
   ],
   "source": [
    "## read data and MC as dataframe\n",
    "pickledir  = \"/Users/zihengchen/Documents/Analysis/BLTReader/data/pickle_mumu/\"\n",
    "picklelist = [\"mc_zzto2l2q\",\"mc_zjets_low\",\"mc_zjets\",\"mc_t\",\"mc_ttbar\",\"data2016\"]\n",
    "mask       = 'dilepton_mass>10 & (dilepton_mass<80 | dilepton_mass>100)'\n",
    "dflist     = []\n",
    "for i in range(len(picklelist)):\n",
    "    print(str(i)+\" loading dataframe \" + picklelist[i])\n",
    "    temp = LoadDataframe(pickledir+picklelist[i])\n",
    "    temp = temp.query(mask)\n",
    "    dflist.append( temp.query(\"lepton1_q == -lepton2_q\") )\n",
    "    if picklelist[i] == \"data2016\":\n",
    "        dflist.append( temp.query(\"lepton1_q == lepton2_q\") )\n",
    "MCzz,MCDY0,MCDY,MCt,MCtt,Data,Fakes = dflist[:]"
   ]
  },
  {
   "cell_type": "code",
   "execution_count": 9,
   "metadata": {
    "collapsed": true
   },
   "outputs": [],
   "source": [
    "MCtt0 = MCtt[ (MCtt.ttlepstate == 'ee') |(MCtt.ttlepstate == 'emu') |(MCtt.ttlepstate == 'mumu') ]\n",
    "MCtt1 = MCtt[(MCtt.ttlepstate == 'etau') | (MCtt.ttlepstate == 'mutau') ]\n",
    "MCtt2 = MCtt[MCtt.ttlepstate == 'tautau']"
   ]
  },
  {
   "cell_type": "code",
   "execution_count": 5,
   "metadata": {},
   "outputs": [
    {
     "name": "stdout",
     "output_type": "stream",
     "text": [
      "ee mc yield is 0\n",
      "emu mc yield is 2086\n",
      "mumu mc yield is 466172\n",
      "etau mc yield is 133\n",
      "mutau mc yield is 117278\n",
      "tautau mc yield is 5674\n"
     ]
    }
   ],
   "source": [
    "########\n",
    "for tag in ['ee','emu','mumu','etau','mutau','tautau']:\n",
    "    mcyield = len(MCtt[MCtt.ttlepstate == tag ])\n",
    "    print('{} mc yield is {}'.format(tag,mcyield) )"
   ]
  },
  {
   "cell_type": "code",
   "execution_count": 6,
   "metadata": {},
   "outputs": [
    {
     "ename": "NameError",
     "evalue": "name 'SF' is not defined",
     "output_type": "error",
     "traceback": [
      "\u001b[0;31m---------------------------------------------------------------------------\u001b[0m",
      "\u001b[0;31mNameError\u001b[0m                                 Traceback (most recent call last)",
      "\u001b[0;32m<ipython-input-6-65d6f852ee2a>\u001b[0m in \u001b[0;36m<module>\u001b[0;34m()\u001b[0m\n\u001b[0;32m----> 1\u001b[0;31m \u001b[0mprint\u001b[0m\u001b[0;34m(\u001b[0m\u001b[0mlen\u001b[0m\u001b[0;34m(\u001b[0m\u001b[0mFakes\u001b[0m\u001b[0;34m)\u001b[0m\u001b[0;34m*\u001b[0m\u001b[0mSF\u001b[0m\u001b[0;34m[\u001b[0m\u001b[0;36m0\u001b[0m\u001b[0;34m]\u001b[0m\u001b[0;34m)\u001b[0m\u001b[0;34m\u001b[0m\u001b[0m\n\u001b[0m\u001b[1;32m      2\u001b[0m \u001b[0mprint\u001b[0m\u001b[0;34m(\u001b[0m\u001b[0mlen\u001b[0m\u001b[0;34m(\u001b[0m\u001b[0mMCzz\u001b[0m\u001b[0;34m)\u001b[0m\u001b[0;34m*\u001b[0m\u001b[0mSF\u001b[0m\u001b[0;34m[\u001b[0m\u001b[0;36m1\u001b[0m\u001b[0;34m]\u001b[0m\u001b[0;34m)\u001b[0m\u001b[0;34m\u001b[0m\u001b[0m\n\u001b[1;32m      3\u001b[0m \u001b[0mprint\u001b[0m\u001b[0;34m(\u001b[0m\u001b[0mlen\u001b[0m\u001b[0;34m(\u001b[0m\u001b[0mMCDY\u001b[0m\u001b[0;34m)\u001b[0m\u001b[0;34m*\u001b[0m\u001b[0mSF\u001b[0m\u001b[0;34m[\u001b[0m\u001b[0;36m2\u001b[0m\u001b[0;34m]\u001b[0m\u001b[0;34m)\u001b[0m\u001b[0;34m\u001b[0m\u001b[0m\n\u001b[1;32m      4\u001b[0m \u001b[0mprint\u001b[0m\u001b[0;34m(\u001b[0m\u001b[0mlen\u001b[0m\u001b[0;34m(\u001b[0m\u001b[0mMCt\u001b[0m\u001b[0;34m)\u001b[0m\u001b[0;34m*\u001b[0m\u001b[0mSF\u001b[0m\u001b[0;34m[\u001b[0m\u001b[0;36m3\u001b[0m\u001b[0;34m]\u001b[0m\u001b[0;34m)\u001b[0m\u001b[0;34m\u001b[0m\u001b[0m\n\u001b[1;32m      5\u001b[0m \u001b[0mprint\u001b[0m\u001b[0;34m(\u001b[0m\u001b[0mlen\u001b[0m\u001b[0;34m(\u001b[0m\u001b[0mMCtt2\u001b[0m\u001b[0;34m)\u001b[0m\u001b[0;34m*\u001b[0m\u001b[0mSF\u001b[0m\u001b[0;34m[\u001b[0m\u001b[0;36m4\u001b[0m\u001b[0;34m]\u001b[0m\u001b[0;34m)\u001b[0m\u001b[0;34m\u001b[0m\u001b[0m\n",
      "\u001b[0;31mNameError\u001b[0m: name 'SF' is not defined"
     ]
    }
   ],
   "source": [
    "print(len(Fakes)*SF[0])\n",
    "print(len(MCzz)*SF[1])\n",
    "print(len(MCDY0)*SF[2])\n",
    "print(len(MCDY)*SF[3])\n",
    "print(len(MCt)*SF[4])\n",
    "print(len(MCtt2)*SF[5])\n",
    "print(len(MCtt1)*SF[6])\n",
    "print(len(MCtt0)*SF[7])"
   ]
  },
  {
   "cell_type": "code",
   "execution_count": null,
   "metadata": {
    "collapsed": true
   },
   "outputs": [],
   "source": []
  },
  {
   "cell_type": "markdown",
   "metadata": {},
   "source": [
    "# 2. Plot kinematics"
   ]
  },
  {
   "cell_type": "code",
   "execution_count": 7,
   "metadata": {},
   "outputs": [
    {
     "data": {
      "text/plain": [
       "<matplotlib.figure.Figure at 0x169f1f208>"
      ]
     },
     "metadata": {},
     "output_type": "display_data"
    }
   ],
   "source": [
    "pp = pd.read_csv(\"plotparameters.csv\")\n",
    "pp = pp.drop(50)\n",
    "for index, row in pp.iterrows():\n",
    "    v,a,b,step,xl = row[\"var\"],row[\"lower\"],row[\"upper\"],row[\"step\"],row[\"xlabel\"]\n",
    "    mybin = np.arange(a,b,step)\n",
    "    # 1. show MC\n",
    "    # SF for mumu\n",
    "    #SF = np.array([1,0.00790,4.440,1.360,0.0407,0.0407,0.0407])*35.9/37.7 # [tt] 0.524-50k,0.041-all\n",
    "    SF = np.array([1,0.008,18.935,4.227,1.297,0.0387,0.0387,0.0387])\n",
    "    mc = plt.hist([Fakes[v],MCzz[v],MCDY0[v],MCDY[v],MCt[v],MCtt2[v],MCtt1[v],MCtt0[v]],\n",
    "             weights=[SF[0]*Fakes.eventWeight,\n",
    "                      SF[1]*MCzz.eventWeight,#*np.ones(MCzz.index.size),\n",
    "                      SF[2]*MCDY0.eventWeight,\n",
    "                      SF[3]*MCDY.eventWeight,#*np.ones(MCDY.index.size)#\n",
    "                      SF[4]*MCt.eventWeight,#np.ones(MCt.index.size),#\n",
    "                      SF[5]*MCtt2.eventWeight,\n",
    "                      SF[6]*MCtt1.eventWeight,\n",
    "                      SF[7]*MCtt0.eventWeight],#*np.ones(MCtt.index.size)],#\"#a32020\",\"#e0301e\",\"#eb8c00\",\"gold\"\"#9bb6cc\",\"#c5daeb\",\"#deeaf3\"\n",
    "             #label=[\"Fakes\",\"Diboson\",\"DY\",\"single t\",\"tt 0/1/2tau\"],\n",
    "             color=[\"lightgray\",\"lightgray\",\"red\",\"lightgray\",\"lightgray\",\"#03076c\",\"#54c3d7\",\"#49feec\"],\n",
    "             bins = mybin,lw=0,alpha=0.6,histtype=\"stepfilled\", stacked=True)\n",
    "    #mc = mc[0]\n",
    "    #mcerr = np.zeros(mybin.size-1)\n",
    "    #for i in range(len(mc)):\n",
    "    #    if i == 0: \n",
    "    #        mcerr = mcerr+mc[i]*SF[i]\n",
    "    #    else:\n",
    "    #        mcerr = mcerr+(mc[i]-mc[i-1])*SF[i]\n",
    "    #mcerr = mcerr**0.5\n",
    "    #plt.errorbar(mybin[1:]-step/2,mc[-1],yerr=mcerr,color=\"k\",fmt='none',lw=200/mybin.size, mew=0, alpha=0.2)\n",
    "\n",
    "    # 2. show data\n",
    "    h,edge = np.histogram(Data[v],mybin,weights=Data.eventWeight)\n",
    "    center = edge[1:]-step/2\n",
    "    plt.errorbar(center,h,yerr=h**0.5,color=\"k\",fmt='.', label=\"data\")\n",
    "    \n",
    "    \n",
    "    \n",
    "    # 3. plot settings\n",
    "    if xl in [\"lepton_delta_phi\",\"bjet_delta_phi\",\"lbjet_delta_phi\"]:\n",
    "        plt.legend(fontsize=10,loc=\"upper left\")\n",
    "    else:\n",
    "        plt.legend(fontsize=10,loc=\"upper right\")\n",
    "        plt.text(0.04*b+0.96*a, 1.35*h.max(), r'CMS $preliminary$',style=\"italic\",fontsize=\"15\",fontweight='bold')\n",
    "        \n",
    "    plt.grid()\n",
    "    plt.ylim(1,1.5*h.max())\n",
    "    plt.xlim(a,b)\n",
    "    #plt.ylim(1,10*h.max())\n",
    "    #plt.yscale('log')\n",
    "    plt.xlabel(xl)\n",
    "    plt.title(\"L=35.7/fb (13TeV)\",loc=\"right\")\n",
    "    plt.savefig(\"../plot/{}.png\".format(v))\n",
    "    plt.clf()"
   ]
  },
  {
   "cell_type": "markdown",
   "metadata": {},
   "source": [
    "### plot paring of lepton and bjet"
   ]
  },
  {
   "cell_type": "code",
   "execution_count": 4,
   "metadata": {},
   "outputs": [
    {
     "data": {
      "image/png": "[encoded data removed]",
      "text/plain": [
       "<matplotlib.figure.Figure at 0x10e0fbd30>"
      ]
     },
     "metadata": {},
     "output_type": "display_data"
    }
   ],
   "source": [
    "from matplotlib.colors import LogNorm\n",
    "plt.figure(figsize=(5,3.7))\n",
    "bins=np.arange(0,5.1,0.1)\n",
    "plt.hist2d(MCtt.lbjet1_delta_r,MCtt.lbjet2_delta_r,[bins,bins],cmap='inferno')\n",
    "plt.colorbar()\n",
    "plt.grid(True,color=\"w\")"
   ]
  },
  {
   "cell_type": "code",
   "execution_count": 8,
   "metadata": {},
   "outputs": [
    {
     "data": {
      "image/png": "[encoded data removed]",
      "text/plain": [
       "<matplotlib.figure.Figure at 0x10e26b240>"
      ]
     },
     "metadata": {},
     "output_type": "display_data"
    }
   ],
   "source": [
    "plt.hist([MCtt.dilbjet_delta_r,MCtt.lbjet1_delta_r,MCtt.lbjet2_delta_r],\n",
    "         bins,histtype=\"step\",color = [\"k\",\"r\",\"coral\"],normed=True, #log=True,\n",
    "         label = [\"dR(lb-lb)\",\"dR(lb)_1\",\"dR(lb)_2\"])\n",
    "plt.legend()\n",
    "plt.grid(True)\n",
    "plt.xlabel(\"deltaR in ttbar MC\")\n",
    "plt.ylim(0,1.2)\n",
    "plt.savefig(\"../plot/topo.png\")"
   ]
  },
  {
   "cell_type": "markdown",
   "metadata": {},
   "source": [
    "# 3. Look into inclusive pairing"
   ]
  },
  {
   "cell_type": "code",
   "execution_count": 12,
   "metadata": {
    "collapsed": true
   },
   "outputs": [],
   "source": [
    "templist = [Fakes,MCzz,MCDY,MCt,MCtt,Data]\n",
    "lbmasslist   = []\n",
    "lbweightlist = []\n",
    "for i in range(len(templist)):\n",
    "    df = templist[i]\n",
    "    # selection of lb_pT\n",
    "    temp_pt      = np.r_[df.lbjet1_pt,df.lbjet2_pt,df.lbjet1_pt_mispair,df.lbjet2_pt_mispair]\n",
    "    selection    = temp_pt > 100\n",
    "    lbmasslist.append(np.r_[df.lbjet1_mass, df.lbjet2_mass, df.lbjet1_mass_mispair, df.lbjet2_mass_mispair][selection])\n",
    "    lbweightlist.append(np.r_[df.eventWeight,df.eventWeight,df.eventWeight,df.eventWeight][selection])"
   ]
  },
  {
   "cell_type": "code",
   "execution_count": 14,
   "metadata": {},
   "outputs": [
    {
     "ename": "NameError",
     "evalue": "name 'lbmasslist' is not defined",
     "output_type": "error",
     "traceback": [
      "\u001b[0;31m---------------------------------------------------------------------------\u001b[0m",
      "\u001b[0;31mNameError\u001b[0m                                 Traceback (most recent call last)",
      "\u001b[0;32m/Users/zihengchen/Documents/Analysis/BLTReader/code/utility_readBLT.py\u001b[0m in \u001b[0;36m<module>\u001b[0;34m()\u001b[0m\n\u001b[1;32m      5\u001b[0m \u001b[0;31m# 1. show MC\u001b[0m\u001b[0;34m\u001b[0m\u001b[0;34m\u001b[0m\u001b[0m\n\u001b[1;32m      6\u001b[0m \u001b[0mSF\u001b[0m \u001b[0;34m=\u001b[0m \u001b[0mnp\u001b[0m\u001b[0;34m.\u001b[0m\u001b[0marray\u001b[0m\u001b[0;34m(\u001b[0m\u001b[0;34m[\u001b[0m\u001b[0;36m1\u001b[0m\u001b[0;34m,\u001b[0m\u001b[0;36m0.00788\u001b[0m\u001b[0;34m,\u001b[0m\u001b[0;36m3.770\u001b[0m\u001b[0;34m,\u001b[0m\u001b[0;36m1.350\u001b[0m\u001b[0;34m,\u001b[0m\u001b[0;36m0.041\u001b[0m\u001b[0;34m]\u001b[0m\u001b[0;34m)\u001b[0m \u001b[0;31m# [tt] 0.524-50k,0.041-all\u001b[0m\u001b[0;34m\u001b[0m\u001b[0m\n\u001b[0;32m----> 7\u001b[0;31m plt.hist(lbmasslist[0:-1],\n\u001b[0m\u001b[1;32m      8\u001b[0m          weights=[SF[0]*lbweightlist[0],\n\u001b[1;32m      9\u001b[0m                   \u001b[0mSF\u001b[0m\u001b[0;34m[\u001b[0m\u001b[0;36m1\u001b[0m\u001b[0;34m]\u001b[0m\u001b[0;34m*\u001b[0m\u001b[0mlbweightlist\u001b[0m\u001b[0;34m[\u001b[0m\u001b[0;36m1\u001b[0m\u001b[0;34m]\u001b[0m\u001b[0;34m,\u001b[0m\u001b[0;34m\u001b[0m\u001b[0m\n",
      "\u001b[0;31mNameError\u001b[0m: name 'lbmasslist' is not defined"
     ]
    },
    {
     "data": {
      "text/plain": [
       "<matplotlib.figure.Figure at 0x12c1a83c8>"
      ]
     },
     "metadata": {},
     "output_type": "display_data"
    }
   ],
   "source": [
    "    #def plotinclusive(v=,a,b,step,xl):\n",
    "    plt.figure(figsize=(5,4))\n",
    "    a,b,step = 0,300,10\n",
    "    mybin = np.arange(a,b,step)\n",
    "    # 1. show MC\n",
    "    SF = np.array([1,0.00788,3.770,1.350,0.041]) # [tt] 0.524-50k,0.041-all\n",
    "    plt.hist(lbmasslist[0:-1],\n",
    "             weights=[SF[0]*lbweightlist[0],\n",
    "                      SF[1]*lbweightlist[1],\n",
    "                      SF[2]*lbweightlist[2],\n",
    "                      SF[3]*lbweightlist[3],\n",
    "                      SF[4]*lbweightlist[4]],\n",
    "             label=[\"Fakes\",\"Diboson\",\"DY\",\"single t\",\"ttbar\"],\n",
    "             color=[\"#a32020\",\"#e0301e\",\"#eb8c00\",\"gold\",\"#adcbe3\"],\n",
    "             bins = mybin,lw=0,alpha=0.8,histtype=\"stepfilled\", stacked=True)\n",
    "    # 2. show data\n",
    "    h,edge = np.histogram(lbmasslist[-1],mybin,weights=lbweightlist[-1])\n",
    "    center = edge[1:]-step/2\n",
    "    plt.errorbar(center,h,yerr=h**0.5,color=\"k\",fmt='.', label=\"data\")\n",
    "    # 3. plot settings\n",
    "    plt.legend(fontsize=11)\n",
    "    plt.grid()\n",
    "    plt.ylim(1,1.4*h.max())\n",
    "    plt.xlim(a,b)\n",
    "    #plt.ylim(1,10*h.max())\n",
    "    #plt.yscale('log')\n",
    "    plt.xlabel(\"lb_mass (inclusive) [GeV]\")\n",
    "    plt.title(\"L=37.7/fb (13TeV) \",loc=\"right\")\n",
    "    textleft = 0.04*b+0.96*a\n",
    "    plt.text(textleft, 1.25*h.max(), r'CMS $preliminary$',style=\"italic\",fontsize=\"15\",fontweight='bold')\n",
    "    plt.text(textleft, 1.1*h.max(), ' lb_pT>100 GeV',style=\"italic\",fontsize=\"12\")\n",
    "\n",
    "    plt.savefig(\"../plot/{}.png\".format(\"lb_mass_ptgt100\"))\n",
    "    #plt.clf()"
   ]
  },
  {
   "cell_type": "code",
   "execution_count": null,
   "metadata": {
    "collapsed": true
   },
   "outputs": [],
   "source": []
  },
  {
   "cell_type": "code",
   "execution_count": null,
   "metadata": {
    "collapsed": true
   },
   "outputs": [],
   "source": []
  },
  {
   "cell_type": "code",
   "execution_count": null,
   "metadata": {
    "collapsed": true
   },
   "outputs": [],
   "source": []
  },
  {
   "cell_type": "code",
   "execution_count": null,
   "metadata": {
    "collapsed": true
   },
   "outputs": [],
   "source": []
  },
  {
   "cell_type": "code",
   "execution_count": null,
   "metadata": {
    "collapsed": true
   },
   "outputs": [],
   "source": []
  },
  {
   "cell_type": "code",
   "execution_count": null,
   "metadata": {
    "collapsed": true
   },
   "outputs": [],
   "source": []
  },
  {
   "cell_type": "code",
   "execution_count": null,
   "metadata": {
    "collapsed": true
   },
   "outputs": [],
   "source": []
  },
  {
   "cell_type": "markdown",
   "metadata": {
    "collapsed": true
   },
   "source": [
    "# -------------------------------------------------------------"
   ]
  },
  {
   "cell_type": "markdown",
   "metadata": {
    "collapsed": true
   },
   "source": [
    "# Debugging Area"
   ]
  },
  {
   "cell_type": "code",
   "execution_count": 28,
   "metadata": {},
   "outputs": [
    {
     "data": {
      "image/png": "[encoded data removed]",
      "text/plain": [
       "<matplotlib.figure.Figure at 0x1151f3438>"
      ]
     },
     "metadata": {},
     "output_type": "display_data"
    }
   ],
   "source": [
    "import seaborn as sns\n",
    "mypalette = sns.color_palette(\"Set2\", 6).as_hex()\n",
    "sns.palplot(mypalette)"
   ]
  },
  {
   "cell_type": "code",
   "execution_count": 49,
   "metadata": {},
   "outputs": [
    {
     "data": {
      "image/png": "[encoded data removed]",
      "text/plain": [
       "<matplotlib.figure.Figure at 0x1151e2b70>"
      ]
     },
     "metadata": {},
     "output_type": "display_data"
    }
   ],
   "source": [
    "binpt1 = np.arange(0,300.5,5)\n",
    "var = \"dilepton_mass\"\n",
    "# 1. show MC\n",
    "plt.hist([MCtt[var],MCDY1[var],MCDY2[var]],binpt1,\n",
    "         weights=[0.041*np.ones(MCtt.lepton2_pt.size),\n",
    "                  12.0*np.ones(MCDY1.lepton1_pt.size),\n",
    "                  3.80*np.ones(MCDY2.lepton2_pt.size)],\n",
    "         label=[\"tt\",\"DY1\",\"DY2\"],\n",
    "         color=[\"teal\",\"c\",\"lightseagreen\"],\n",
    "         lw=0,alpha=0.4,histtype=\"stepfilled\", stacked=True\n",
    "        )\n",
    "# 2. show data\n",
    "h,edge = np.histogram(Data[var],binpt1)\n",
    "halfstep = (edge[1]-edge[0])/2\n",
    "center = edge[1:]-halfstep\n",
    "plt.errorbar(center,h,yerr=h**0.5,color=\"k\",fmt='.')\n",
    "\n",
    "plt.legend()\n",
    "plt.grid()\n",
    "#plt.yscale('log')\n",
    "plt.ylim(1,1.5*h.max())\n",
    "\n",
    "plt.xlabel(\"njet\")\n",
    "plt.title(r\"L=37.7 /fb (13TeV)\",loc=\"right\")\n",
    "#plt.text(15, 1.35*h.max(), r'CMS $priminary$',style=\"italic\",fontsize=\"15\",fontweight='bold')\n",
    "plt.savefig(\"../plot/debug.png\")"
   ]
  },
  {
   "cell_type": "code",
   "execution_count": null,
   "metadata": {
    "collapsed": true
   },
   "outputs": [],
   "source": [
    "droplist = []\n",
    "for i in Fakes2.columns:\n",
    "    if not \"lbjet\" in i:\n",
    "        droplist.append(i)"
   ]
  }
 ],
 "metadata": {
  "kernelspec": {
   "display_name": "Python 3",
   "language": "python",
   "name": "python3"
  },
  "language_info": {
   "codemirror_mode": {
    "name": "ipython",
    "version": 3
   },
   "file_extension": ".py",
   "mimetype": "text/x-python",
   "name": "python",
   "nbconvert_exporter": "python",
   "pygments_lexer": "ipython3",
   "version": "3.6.1"
  }
 },
 "nbformat": 4,
 "nbformat_minor": 2
}
