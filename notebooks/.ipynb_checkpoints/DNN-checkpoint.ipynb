{
 "cells": [
  {
   "cell_type": "code",
   "execution_count": 1,
   "metadata": {
    "collapsed": true
   },
   "outputs": [],
   "source": [
    "from utility_DNN import *\n",
    "from utility_plot import *\n",
    "from IPython.display import clear_output\n",
    "## add plotting option and load plotting parameter table\n",
    "%matplotlib inline\n",
    "#%qtconsole --style monokai\n",
    "plt.style.use('classic')\n",
    "plt.rc(\"figure\",facecolor=\"w\",figsize=(6,4))\n",
    "plt.rc(\"font\",size=10)\n",
    "plt.rc(\"savefig\",dpi=300)"
   ]
  },
  {
   "cell_type": "code",
   "execution_count": 2,
   "metadata": {
    "collapsed": true
   },
   "outputs": [],
   "source": [
    "#net = torch.load(\"checkpointDNN.pt\")\n",
    "NFeature = 69\n",
    "net = Net(NFeature,128,256,64,3).cuda()"
   ]
  },
  {
   "cell_type": "markdown",
   "metadata": {},
   "source": [
    "# 0. Load Data "
   ]
  },
  {
   "cell_type": "code",
   "execution_count": 3,
   "metadata": {
    "collapsed": true
   },
   "outputs": [],
   "source": [
    "## read data and MC as dataframe\n",
    "pickledir  = \"/Users/zihengchen/Documents/Analysis/BLTReader/data/pickle_mumu/\"\n",
    "zvetomask  =  \"(dilepton_mass>10) & (dilepton_mass<80 | dilepton_mass>100)\"\n",
    "antichargemask =  \"(lepton1_q == -lepton2_q)\"\n",
    "samechargemask =  \"(lepton1_q ==  lepton2_q)\"\n",
    "\n",
    "# Monte Carlo\n",
    "MCzz  = pd.read_pickle(pickledir+\"mc/ntuple_zz_2l2q.pkl\").query(zvetomask+\"&\"+antichargemask)\n",
    "MCdyl = pd.read_pickle(pickledir+\"mc/ntuple_zjets_m-10to50.pkl\").query(zvetomask+\"&\"+antichargemask)\n",
    "MCdy  = pd.read_pickle(pickledir+\"mc/ntuple_zjets_m-50.pkl\").query(zvetomask+\"&\"+antichargemask)\n",
    "MCt   = pd.read_pickle(pickledir+\"mc/ntuple_t_tw.pkl\").query(zvetomask+\"&\"+antichargemask)\n",
    "MCtt  = pd.read_pickle(pickledir+\"mctt/ntuple_ttbar_lep.pkl\").query(zvetomask+\"&\"+antichargemask)\n",
    "# Data 2016\n",
    "Raw   = LoadDataframe(pickledir +\"data2016\").query(zvetomask)\n",
    "Fake  = Raw.query(samechargemask)\n",
    "Data  = Raw.query(antichargemask)\n",
    "# splitting ttbar\n",
    "MCtt0 = MCtt[ (MCtt.ttlepstate == 'ee') |(MCtt.ttlepstate == 'emu') |(MCtt.ttlepstate == 'mumu') ]\n",
    "MCtt1 = MCtt[(MCtt.ttlepstate == 'etau') | (MCtt.ttlepstate == 'mutau') ]\n",
    "MCtt2 = MCtt[MCtt.ttlepstate == 'tautau']"
   ]
  },
  {
   "cell_type": "markdown",
   "metadata": {},
   "source": [
    "# 1. Booststrap Training Set"
   ]
  },
  {
   "cell_type": "code",
   "execution_count": 4,
   "metadata": {
    "collapsed": true
   },
   "outputs": [],
   "source": [
    "##############################\n",
    "# boost strap dataset\n",
    "portion = 1/0.0387\n",
    "rejectionpower = 0.5\n",
    "##############################\n",
    "\n",
    "# weighting for fake,zz,DY,t,tt\n",
    "SF = np.array([1,0.008,18.935,4.227,1.297,0.0387])*portion\n",
    "Fake_   = Fake .sample(frac=SF[0],replace=True)\n",
    "MCzz_   = MCzz .sample(frac=SF[1],replace=False)\n",
    "MCdy1_  = MCdy .sample(frac=SF[2],replace=True)\n",
    "MCdy_   = MCdy .sample(frac=SF[3],replace=True)\n",
    "MCt_    = MCt  .sample(frac=SF[4],replace=True)\n",
    "MCtt0_  = MCtt0.sample(frac=SF[5]*rejectionpower,replace=False)\n",
    "MCtt1_  = MCtt1.sample(frac=SF[5],replace=False)\n",
    "MCtt2_  = MCtt2.sample(frac=SF[5],replace=False)\n",
    "\n",
    "MCbkg   = pd.concat([Fake_,MCzz_,MCdy_,MCt_],ignore_index=True)\n",
    "MCttbkg = MCtt0_\n",
    "MCttsig = pd.concat([MCtt1_,MCtt2_],ignore_index=True)"
   ]
  },
  {
   "cell_type": "code",
   "execution_count": 5,
   "metadata": {
    "collapsed": true
   },
   "outputs": [],
   "source": [
    "removecollist = ['eventWeight','nBJets','nElectrons', 'nJets', 'nMuons', 'nPV','ttlepstate',\n",
    "                 'lepton1_q','lepton2_q','lepton1_mother','lepton2_mother']\n",
    "MCbkg.drop(removecollist, axis=1, inplace=True)\n",
    "MCttbkg.drop(removecollist, axis=1, inplace=True)\n",
    "MCttsig.drop(removecollist, axis=1, inplace=True)\n",
    "\n",
    "MCbkg['label'] = 0\n",
    "MCttbkg['label'] = 1\n",
    "MCttsig['label'] = 2"
   ]
  },
  {
   "cell_type": "code",
   "execution_count": 6,
   "metadata": {
    "collapsed": true
   },
   "outputs": [],
   "source": [
    "BATCHSIZE   = 1000\n",
    "df_train    = pd.concat([MCbkg,MCttbkg,MCttsig],ignore_index=True)\n",
    "trainset    = MyDataset(df_train.as_matrix(),NFeature)\n",
    "trainloader = DataLoader(trainset, batch_size=BATCHSIZE,shuffle=True, num_workers=4)"
   ]
  },
  {
   "cell_type": "markdown",
   "metadata": {},
   "source": [
    "# 2. Define DNN and Train DNN"
   ]
  },
  {
   "cell_type": "code",
   "execution_count": null,
   "metadata": {},
   "outputs": [
    {
     "name": "stdout",
     "output_type": "stream",
     "text": [
      "[32] loss: 178.21593\n"
     ]
    }
   ],
   "source": [
    "net = net.cuda()\n",
    "criterion   = nn.CrossEntropyLoss()\n",
    "optimizer   = optim.SGD(net.parameters(), lr=0.0005, momentum=0.9)\n",
    "## start to train\n",
    "#------------------------------------------------------------------\n",
    "for epoch in range(100):  # loop over the dataset multiple times\n",
    "    running_loss = 0.0\n",
    "    for i, onebatch in enumerate(trainloader,0):\n",
    "        # get the inputs\n",
    "        inputs = Variable(onebatch[\"feature\"]).cuda()\n",
    "        labels = Variable(onebatch[\"label\"]).cuda()\n",
    "        # zero the parameter gradients\n",
    "        optimizer.zero_grad()\n",
    "        # forward + backward + optimize\n",
    "        outputs = net(inputs)\n",
    "        loss = criterion(outputs, labels)\n",
    "        loss.backward()\n",
    "        optimizer.step()\n",
    "        # print statistics\n",
    "        running_loss += loss.data[0]\n",
    "        \n",
    "    clear_output(wait=True)\n",
    "    print('[%d] loss: %.5f' %(epoch + 1, running_loss))\n",
    "print('Finished Training')\n",
    "torch.save(net.cpu(),\"checkpointDNN.pt\")"
   ]
  },
  {
   "cell_type": "markdown",
   "metadata": {},
   "source": [
    "# 3. Training Accuracy"
   ]
  },
  {
   "cell_type": "code",
   "execution_count": 8,
   "metadata": {},
   "outputs": [
    {
     "name": "stdout",
     "output_type": "stream",
     "text": [
      "Accuracy of background   : 99.2%\n",
      "Accuracy of ttbar_background : 89.7%\n",
      "Accuracy of ttbar_signal : 49.7%\n"
     ]
    }
   ],
   "source": [
    "classes = [\"background\",\"ttbar_background\",\"ttbar_signal\"]\n",
    "class_correct = list(0. for i in range(3))\n",
    "class_total   = list(0. for i in range(3))\n",
    "net           = net.cpu()\n",
    "for dataiter in trainloader:\n",
    "    #dataiter = iter(trainloader).next()\n",
    "    thisbatch_inputs   = dataiter[\"feature\"]\n",
    "    thisbatch_labels   = dataiter[\"label\"]\n",
    "    thisbatch_outputs  = net(Variable(thisbatch_inputs))\n",
    "    thisbatch_predicts = torch.max(thisbatch_outputs.data, 1)[1] # return likelihood, predict\n",
    "    c = (thisbatch_predicts == thisbatch_labels).squeeze()\n",
    "    for i in range(BATCHSIZE):\n",
    "        if len(c) == BATCHSIZE:\n",
    "            class_correct[thisbatch_labels[i]] += c[i]\n",
    "            class_total[thisbatch_labels[i]]   += 1\n",
    "            \n",
    "for i in range(3):\n",
    "    print (\"Accuracy of {:12s} : {:3.1f}%\".format(classes[i],100*class_correct[i]/class_total[i]))"
   ]
  },
  {
   "cell_type": "markdown",
   "metadata": {},
   "source": [
    "# 4. Testing Accuracy"
   ]
  },
  {
   "cell_type": "code",
   "execution_count": 21,
   "metadata": {
    "collapsed": true
   },
   "outputs": [],
   "source": [
    "MCbkg   = pd.concat([Fake,MCzz,MCdy,MCt],ignore_index=True)\n",
    "MCttbkg = MCtt0\n",
    "MCttsig = pd.concat([MCtt1,MCtt2],ignore_index=True)\n",
    "\n",
    "MCbkg = MCbkg.reindex()\n",
    "MCttbkg = MCttbkg.reindex()\n",
    "MCttbkg = MCttsig.reindex()\n",
    "\n",
    "removecollist = ['eventWeight','nBJets','nElectrons', 'nJets', 'nMuons', 'nPV','ttlepstate',\n",
    "                 'lepton1_q','lepton2_q','lepton1_mother','lepton2_mother']\n",
    "MCbkg.drop(removecollist, axis=1, inplace=True)\n",
    "MCttbkg.drop(removecollist, axis=1, inplace=True)\n",
    "MCttsig.drop(removecollist, axis=1, inplace=True)\n",
    "\n",
    "MCbkg['label'] = 0\n",
    "MCttbkg['label'] = 1\n",
    "MCttsig['label'] = 2\n",
    "\n",
    "\n",
    "BATCHSIZE   = 500\n",
    "df_test    = pd.concat([MCbkg,MCttbkg,MCttsig],ignore_index=True)\n",
    "testset    = MyDataset(df_test.as_matrix())\n",
    "trainloader = DataLoader(testset, batch_size=BATCHSIZE,shuffle=True, num_workers=4)"
   ]
  },
  {
   "cell_type": "code",
   "execution_count": 22,
   "metadata": {},
   "outputs": [
    {
     "name": "stdout",
     "output_type": "stream",
     "text": [
      "Accuracy of background   : 40.9%\n",
      "Accuracy of ttbar_background : 47.0%\n",
      "Accuracy of ttbar_signal : 52.8%\n"
     ]
    }
   ],
   "source": [
    "classes = [\"background\",\"ttbar_background\",\"ttbar_signal\"]\n",
    "class_correct = list(0. for i in range(3))\n",
    "class_total   = list(0. for i in range(3))\n",
    "net           = net.cpu()\n",
    "for dataiter in trainloader:\n",
    "    #dataiter = iter(trainloader).next()\n",
    "    thisbatch_inputs   = dataiter[\"feature\"]\n",
    "    thisbatch_labels   = dataiter[\"label\"]\n",
    "    thisbatch_outputs  = net(Variable(thisbatch_inputs))\n",
    "    thisbatch_predicts = torch.max(thisbatch_outputs.data, 1)[1] # return likelihood, predict\n",
    "    c = (thisbatch_predicts == thisbatch_labels).squeeze()\n",
    "    for i in range(BATCHSIZE):\n",
    "        if len(c) == BATCHSIZE:\n",
    "            class_correct[thisbatch_labels[i]] += c[i]\n",
    "            class_total[thisbatch_labels[i]]   += 1\n",
    "            \n",
    "for i in range(3):\n",
    "    print (\"Accuracy of {:12s} : {:3.1f}%\".format(classes[i],100*class_correct[i]/class_total[i]))"
   ]
  },
  {
   "cell_type": "code",
   "execution_count": null,
   "metadata": {
    "collapsed": true
   },
   "outputs": [],
   "source": []
  }
 ],
 "metadata": {
  "kernelspec": {
   "display_name": "Python 3",
   "language": "python",
   "name": "python3"
  },
  "language_info": {
   "codemirror_mode": {
    "name": "ipython",
    "version": 3
   },
   "file_extension": ".py",
   "mimetype": "text/x-python",
   "name": "python",
   "nbconvert_exporter": "python",
   "pygments_lexer": "ipython3",
   "version": "3.6.1"
  }
 },
 "nbformat": 4,
 "nbformat_minor": 2
}
