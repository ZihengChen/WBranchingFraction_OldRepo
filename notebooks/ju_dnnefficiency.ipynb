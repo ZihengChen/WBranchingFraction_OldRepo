{
 "cells": [
  {
   "cell_type": "code",
   "execution_count": 1,
   "metadata": {
    "collapsed": true
   },
   "outputs": [],
   "source": [
    "from utility_dnn import *\n",
    "from utility_plotter import *\n",
    "from utility_common import *\n",
    "\n",
    "## add plotting option and load plotting parameter table\n",
    "%matplotlib inline\n",
    "#%qtconsole --style monokai\n",
    "plt.style.use('classic')\n",
    "plt.rc(\"figure\",facecolor=\"w\",figsize=(6,4))\n",
    "plt.rc(\"font\",size=10)\n",
    "plt.rc(\"savefig\",dpi=300)"
   ]
  },
  {
   "cell_type": "code",
   "execution_count": 2,
   "metadata": {},
   "outputs": [],
   "source": [
    "df = pd.read_pickle('../data/pickle_mumu/mcsg_softmax/2b.pkl')"
   ]
  },
  {
   "cell_type": "code",
   "execution_count": 3,
   "metadata": {},
   "outputs": [],
   "source": [
    "cut = 0.1\n",
    "eff = FilterEff(cut,df)"
   ]
  },
  {
   "cell_type": "code",
   "execution_count": 4,
   "metadata": {},
   "outputs": [],
   "source": [
    "for cut in np.arange(0,0.2,0.01):\n",
    "    eff = FilterEff(cut,df)\n",
    "    plt.figure(figsize=(3,3))\n",
    "    plt.gca().set_aspect('equal')\n",
    "    ticks = [r'$e$',r'$\\mu$',r'$\\tau_e$',r'$\\tau_\\mu$',r'$\\tau_h$',r'$h$']\n",
    "    plt.imshow(eff,interpolation='None',cmap='viridis',vmax=1,vmin=0)\n",
    "    plt.colorbar(label=\"s\",orientation='vertical',shrink=0.8)\n",
    "    plt.xticks(range(0,6),ticks)\n",
    "    plt.yticks(range(0,6),ticks)\n",
    "    plt.title('mumu-2b, score>{:4.2}'.format(cut))\n",
    "    plt.savefig('../plot/score_{:4.2}.png'.format(cut),dpi=200)\n",
    "    plt.close()"
   ]
  },
  {
   "cell_type": "code",
   "execution_count": null,
   "metadata": {
    "collapsed": true
   },
   "outputs": [],
   "source": []
  }
 ],
 "metadata": {
  "kernelspec": {
   "display_name": "Python 3",
   "language": "python",
   "name": "python3"
  },
  "language_info": {
   "codemirror_mode": {
    "name": "ipython",
    "version": 3
   },
   "file_extension": ".py",
   "mimetype": "text/x-python",
   "name": "python",
   "nbconvert_exporter": "python",
   "pygments_lexer": "ipython3",
   "version": "3.6.1"
  }
 },
 "nbformat": 4,
 "nbformat_minor": 2
}
